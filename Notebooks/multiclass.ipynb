{
 "cells": [
  {
   "metadata": {
    "ExecuteTime": {
     "end_time": "2024-12-03T04:34:24.933285Z",
     "start_time": "2024-12-03T04:34:23.874888Z"
    }
   },
   "cell_type": "code",
   "source": [
    "import numpy as np\n",
    "import pandas as pd\n",
    "import os\n",
    "import json"
   ],
   "id": "2a86f74b0156b8c9",
   "outputs": [],
   "execution_count": 1
  },
  {
   "metadata": {
    "ExecuteTime": {
     "end_time": "2024-12-03T04:34:24.951372Z",
     "start_time": "2024-12-03T04:34:24.941023Z"
    }
   },
   "cell_type": "code",
   "source": [
    "labels = np.load(\"../Data/preprocessed/labels.npy\", allow_pickle=True)\n",
    "embeddings = np.load(\"../Data/preprocessed/embeddings.npy\", allow_pickle=True)"
   ],
   "id": "2af74df5baac3f2f",
   "outputs": [],
   "execution_count": 2
  },
  {
   "metadata": {
    "ExecuteTime": {
     "end_time": "2024-12-03T04:34:24.960934Z",
     "start_time": "2024-12-03T04:34:24.957476Z"
    }
   },
   "cell_type": "code",
   "source": "labels.shape, embeddings.shape",
   "id": "1cb65d5245beab2c",
   "outputs": [
    {
     "data": {
      "text/plain": [
       "((4572, 4), (4572, 1280))"
      ]
     },
     "execution_count": 3,
     "metadata": {},
     "output_type": "execute_result"
    }
   ],
   "execution_count": 3
  },
  {
   "metadata": {
    "ExecuteTime": {
     "end_time": "2024-12-03T04:34:25.058005Z",
     "start_time": "2024-12-03T04:34:25.055614Z"
    }
   },
   "cell_type": "code",
   "source": "embeddings.dtype, labels.dtype",
   "id": "fcec76cf0d564b7e",
   "outputs": [
    {
     "data": {
      "text/plain": [
       "(dtype('float32'), dtype('int64'))"
      ]
     },
     "execution_count": 4,
     "metadata": {},
     "output_type": "execute_result"
    }
   ],
   "execution_count": 4
  },
  {
   "metadata": {
    "ExecuteTime": {
     "end_time": "2024-12-03T04:34:26.605244Z",
     "start_time": "2024-12-03T04:34:25.070773Z"
    }
   },
   "cell_type": "code",
   "source": [
    "# Separate \"all 0\" samples\n",
    "all_zero_indices = np.where(np.sum(labels, axis=1) == 0)[0]\n",
    "embeddings_all_zero = embeddings[all_zero_indices]\n",
    "labels_all_zero = labels[all_zero_indices]\n",
    "\n",
    "from imblearn.over_sampling import SMOTE\n",
    "\n",
    "smote = SMOTE(random_state=42)\n",
    "embeddings_resampled, labels_resampled = smote.fit_resample(embeddings, labels)\n",
    "\n",
    "embeddings_resampled_final = np.concatenate([embeddings_resampled, embeddings_all_zero], axis=0)\n",
    "labels_resampled_final = np.concatenate([labels_resampled, labels_all_zero], axis=0)"
   ],
   "id": "b55c843d983a7591",
   "outputs": [],
   "execution_count": 5
  },
  {
   "metadata": {
    "ExecuteTime": {
     "end_time": "2024-12-03T04:34:26.638069Z",
     "start_time": "2024-12-03T04:34:26.624895Z"
    }
   },
   "cell_type": "code",
   "source": "pd.DataFrame(labels).value_counts()",
   "id": "2a5980cf55e3f4a2",
   "outputs": [
    {
     "data": {
      "text/plain": [
       "0  1  2  3\n",
       "0  0  0  0    2439\n",
       "      1  0     910\n",
       "1  0  0  0     500\n",
       "0  0  0  1     420\n",
       "   1  0  0     303\n",
       "Name: count, dtype: int64"
      ]
     },
     "execution_count": 6,
     "metadata": {},
     "output_type": "execute_result"
    }
   ],
   "execution_count": 6
  },
  {
   "metadata": {
    "ExecuteTime": {
     "end_time": "2024-12-03T04:34:26.698983Z",
     "start_time": "2024-12-03T04:34:26.689654Z"
    }
   },
   "cell_type": "code",
   "source": "pd.DataFrame(labels_resampled).value_counts()",
   "id": "1e6247c75428087d",
   "outputs": [
    {
     "data": {
      "text/plain": [
       "0  1  2  3\n",
       "0  0  0  1    2939\n",
       "      1  0    2939\n",
       "   1  0  0    2939\n",
       "1  0  0  0    2939\n",
       "Name: count, dtype: int64"
      ]
     },
     "execution_count": 7,
     "metadata": {},
     "output_type": "execute_result"
    }
   ],
   "execution_count": 7
  },
  {
   "metadata": {
    "ExecuteTime": {
     "end_time": "2024-12-03T04:34:26.763748Z",
     "start_time": "2024-12-03T04:34:26.759525Z"
    }
   },
   "cell_type": "code",
   "source": "pd.DataFrame(labels_resampled_final).value_counts()",
   "id": "21a0efbec6210f82",
   "outputs": [
    {
     "data": {
      "text/plain": [
       "0  1  2  3\n",
       "0  0  0  1    2939\n",
       "      1  0    2939\n",
       "   1  0  0    2939\n",
       "1  0  0  0    2939\n",
       "0  0  0  0    2439\n",
       "Name: count, dtype: int64"
      ]
     },
     "execution_count": 8,
     "metadata": {},
     "output_type": "execute_result"
    }
   ],
   "execution_count": 8
  },
  {
   "metadata": {
    "ExecuteTime": {
     "end_time": "2024-12-03T04:34:26.832551Z",
     "start_time": "2024-12-03T04:34:26.818909Z"
    }
   },
   "cell_type": "code",
   "source": [
    "from sklearn.model_selection import train_test_split\n",
    "\n",
    "X_train, X_test, y_train, y_test = train_test_split(embeddings_resampled, labels_resampled, test_size=0.2, random_state=42)"
   ],
   "id": "fcb749ce64d66135",
   "outputs": [],
   "execution_count": 9
  },
  {
   "metadata": {
    "ExecuteTime": {
     "end_time": "2024-12-03T04:34:31.106025Z",
     "start_time": "2024-12-03T04:34:26.916805Z"
    }
   },
   "cell_type": "code",
   "source": [
    "from tensorflow.keras.layers import Input, Dense, concatenate, Dropout\n",
    "from tensorflow.keras.models import Model\n",
    "from tensorflow.keras.optimizers import Adam\n",
    "from tensorflow.keras.callbacks import EarlyStopping, ReduceLROnPlateau, ModelCheckpoint\n",
    "\n",
    "from sklearn.metrics import accuracy_score, f1_score\n",
    "\n",
    "# --- Create the multi-label classification model ---\n",
    "input_layer = Input(shape=(X_train.shape[1],))  # Input shape based on embeddings\n",
    "hidden_layer1 = Dense(512, activation='relu')(input_layer)\n",
    "dropout_layer = Dropout(0.5)(hidden_layer1)  # Add dropout for regularization\n",
    "hidden_layer2 = Dense(256, activation='relu')(dropout_layer)\n",
    "dropout_layer2 = Dropout(0.5)(hidden_layer2)  # Add dropout for regularization\n",
    "hidden_layer3 = Dense(128, activation='relu')(dropout_layer2)\n",
    "dropout_layer3 = Dropout(0.5)(hidden_layer3)  # Add dropout for regularization\n",
    "hidden_layer4 = Dense(64, activation='relu')(dropout_layer3)\n",
    "output_layer = Dense(y_train.shape[1], activation='softmax')(hidden_layer4)\n",
    "\n",
    "model = Model(inputs=input_layer, outputs=output_layer)\n",
    "\n",
    "# Compile the model\n",
    "model.compile(optimizer=Adam(learning_rate=0.0001), loss='categorical_crossentropy', metrics=['accuracy'])"
   ],
   "id": "a254e116e11300a",
   "outputs": [],
   "execution_count": 10
  },
  {
   "metadata": {
    "ExecuteTime": {
     "end_time": "2024-12-03T04:34:31.157236Z",
     "start_time": "2024-12-03T04:34:31.149961Z"
    }
   },
   "cell_type": "code",
   "source": "model.summary()",
   "id": "8feabdd0e21a99c4",
   "outputs": [
    {
     "data": {
      "text/plain": [
       "\u001B[1mModel: \"functional\"\u001B[0m\n"
      ],
      "text/html": [
       "<pre style=\"white-space:pre;overflow-x:auto;line-height:normal;font-family:Menlo,'DejaVu Sans Mono',consolas,'Courier New',monospace\"><span style=\"font-weight: bold\">Model: \"functional\"</span>\n",
       "</pre>\n"
      ]
     },
     "metadata": {},
     "output_type": "display_data"
    },
    {
     "data": {
      "text/plain": [
       "┏━━━━━━━━━━━━━━━━━━━━━━━━━━━━━━━━━┳━━━━━━━━━━━━━━━━━━━━━━━━┳━━━━━━━━━━━━━━━┓\n",
       "┃\u001B[1m \u001B[0m\u001B[1mLayer (type)                   \u001B[0m\u001B[1m \u001B[0m┃\u001B[1m \u001B[0m\u001B[1mOutput Shape          \u001B[0m\u001B[1m \u001B[0m┃\u001B[1m \u001B[0m\u001B[1m      Param #\u001B[0m\u001B[1m \u001B[0m┃\n",
       "┡━━━━━━━━━━━━━━━━━━━━━━━━━━━━━━━━━╇━━━━━━━━━━━━━━━━━━━━━━━━╇━━━━━━━━━━━━━━━┩\n",
       "│ input_layer (\u001B[38;5;33mInputLayer\u001B[0m)        │ (\u001B[38;5;45mNone\u001B[0m, \u001B[38;5;34m1280\u001B[0m)           │             \u001B[38;5;34m0\u001B[0m │\n",
       "├─────────────────────────────────┼────────────────────────┼───────────────┤\n",
       "│ dense (\u001B[38;5;33mDense\u001B[0m)                   │ (\u001B[38;5;45mNone\u001B[0m, \u001B[38;5;34m512\u001B[0m)            │       \u001B[38;5;34m655,872\u001B[0m │\n",
       "├─────────────────────────────────┼────────────────────────┼───────────────┤\n",
       "│ dropout (\u001B[38;5;33mDropout\u001B[0m)               │ (\u001B[38;5;45mNone\u001B[0m, \u001B[38;5;34m512\u001B[0m)            │             \u001B[38;5;34m0\u001B[0m │\n",
       "├─────────────────────────────────┼────────────────────────┼───────────────┤\n",
       "│ dense_1 (\u001B[38;5;33mDense\u001B[0m)                 │ (\u001B[38;5;45mNone\u001B[0m, \u001B[38;5;34m256\u001B[0m)            │       \u001B[38;5;34m131,328\u001B[0m │\n",
       "├─────────────────────────────────┼────────────────────────┼───────────────┤\n",
       "│ dropout_1 (\u001B[38;5;33mDropout\u001B[0m)             │ (\u001B[38;5;45mNone\u001B[0m, \u001B[38;5;34m256\u001B[0m)            │             \u001B[38;5;34m0\u001B[0m │\n",
       "├─────────────────────────────────┼────────────────────────┼───────────────┤\n",
       "│ dense_2 (\u001B[38;5;33mDense\u001B[0m)                 │ (\u001B[38;5;45mNone\u001B[0m, \u001B[38;5;34m128\u001B[0m)            │        \u001B[38;5;34m32,896\u001B[0m │\n",
       "├─────────────────────────────────┼────────────────────────┼───────────────┤\n",
       "│ dropout_2 (\u001B[38;5;33mDropout\u001B[0m)             │ (\u001B[38;5;45mNone\u001B[0m, \u001B[38;5;34m128\u001B[0m)            │             \u001B[38;5;34m0\u001B[0m │\n",
       "├─────────────────────────────────┼────────────────────────┼───────────────┤\n",
       "│ dense_3 (\u001B[38;5;33mDense\u001B[0m)                 │ (\u001B[38;5;45mNone\u001B[0m, \u001B[38;5;34m64\u001B[0m)             │         \u001B[38;5;34m8,256\u001B[0m │\n",
       "├─────────────────────────────────┼────────────────────────┼───────────────┤\n",
       "│ dense_4 (\u001B[38;5;33mDense\u001B[0m)                 │ (\u001B[38;5;45mNone\u001B[0m, \u001B[38;5;34m4\u001B[0m)              │           \u001B[38;5;34m260\u001B[0m │\n",
       "└─────────────────────────────────┴────────────────────────┴───────────────┘\n"
      ],
      "text/html": [
       "<pre style=\"white-space:pre;overflow-x:auto;line-height:normal;font-family:Menlo,'DejaVu Sans Mono',consolas,'Courier New',monospace\">┏━━━━━━━━━━━━━━━━━━━━━━━━━━━━━━━━━┳━━━━━━━━━━━━━━━━━━━━━━━━┳━━━━━━━━━━━━━━━┓\n",
       "┃<span style=\"font-weight: bold\"> Layer (type)                    </span>┃<span style=\"font-weight: bold\"> Output Shape           </span>┃<span style=\"font-weight: bold\">       Param # </span>┃\n",
       "┡━━━━━━━━━━━━━━━━━━━━━━━━━━━━━━━━━╇━━━━━━━━━━━━━━━━━━━━━━━━╇━━━━━━━━━━━━━━━┩\n",
       "│ input_layer (<span style=\"color: #0087ff; text-decoration-color: #0087ff\">InputLayer</span>)        │ (<span style=\"color: #00d7ff; text-decoration-color: #00d7ff\">None</span>, <span style=\"color: #00af00; text-decoration-color: #00af00\">1280</span>)           │             <span style=\"color: #00af00; text-decoration-color: #00af00\">0</span> │\n",
       "├─────────────────────────────────┼────────────────────────┼───────────────┤\n",
       "│ dense (<span style=\"color: #0087ff; text-decoration-color: #0087ff\">Dense</span>)                   │ (<span style=\"color: #00d7ff; text-decoration-color: #00d7ff\">None</span>, <span style=\"color: #00af00; text-decoration-color: #00af00\">512</span>)            │       <span style=\"color: #00af00; text-decoration-color: #00af00\">655,872</span> │\n",
       "├─────────────────────────────────┼────────────────────────┼───────────────┤\n",
       "│ dropout (<span style=\"color: #0087ff; text-decoration-color: #0087ff\">Dropout</span>)               │ (<span style=\"color: #00d7ff; text-decoration-color: #00d7ff\">None</span>, <span style=\"color: #00af00; text-decoration-color: #00af00\">512</span>)            │             <span style=\"color: #00af00; text-decoration-color: #00af00\">0</span> │\n",
       "├─────────────────────────────────┼────────────────────────┼───────────────┤\n",
       "│ dense_1 (<span style=\"color: #0087ff; text-decoration-color: #0087ff\">Dense</span>)                 │ (<span style=\"color: #00d7ff; text-decoration-color: #00d7ff\">None</span>, <span style=\"color: #00af00; text-decoration-color: #00af00\">256</span>)            │       <span style=\"color: #00af00; text-decoration-color: #00af00\">131,328</span> │\n",
       "├─────────────────────────────────┼────────────────────────┼───────────────┤\n",
       "│ dropout_1 (<span style=\"color: #0087ff; text-decoration-color: #0087ff\">Dropout</span>)             │ (<span style=\"color: #00d7ff; text-decoration-color: #00d7ff\">None</span>, <span style=\"color: #00af00; text-decoration-color: #00af00\">256</span>)            │             <span style=\"color: #00af00; text-decoration-color: #00af00\">0</span> │\n",
       "├─────────────────────────────────┼────────────────────────┼───────────────┤\n",
       "│ dense_2 (<span style=\"color: #0087ff; text-decoration-color: #0087ff\">Dense</span>)                 │ (<span style=\"color: #00d7ff; text-decoration-color: #00d7ff\">None</span>, <span style=\"color: #00af00; text-decoration-color: #00af00\">128</span>)            │        <span style=\"color: #00af00; text-decoration-color: #00af00\">32,896</span> │\n",
       "├─────────────────────────────────┼────────────────────────┼───────────────┤\n",
       "│ dropout_2 (<span style=\"color: #0087ff; text-decoration-color: #0087ff\">Dropout</span>)             │ (<span style=\"color: #00d7ff; text-decoration-color: #00d7ff\">None</span>, <span style=\"color: #00af00; text-decoration-color: #00af00\">128</span>)            │             <span style=\"color: #00af00; text-decoration-color: #00af00\">0</span> │\n",
       "├─────────────────────────────────┼────────────────────────┼───────────────┤\n",
       "│ dense_3 (<span style=\"color: #0087ff; text-decoration-color: #0087ff\">Dense</span>)                 │ (<span style=\"color: #00d7ff; text-decoration-color: #00d7ff\">None</span>, <span style=\"color: #00af00; text-decoration-color: #00af00\">64</span>)             │         <span style=\"color: #00af00; text-decoration-color: #00af00\">8,256</span> │\n",
       "├─────────────────────────────────┼────────────────────────┼───────────────┤\n",
       "│ dense_4 (<span style=\"color: #0087ff; text-decoration-color: #0087ff\">Dense</span>)                 │ (<span style=\"color: #00d7ff; text-decoration-color: #00d7ff\">None</span>, <span style=\"color: #00af00; text-decoration-color: #00af00\">4</span>)              │           <span style=\"color: #00af00; text-decoration-color: #00af00\">260</span> │\n",
       "└─────────────────────────────────┴────────────────────────┴───────────────┘\n",
       "</pre>\n"
      ]
     },
     "metadata": {},
     "output_type": "display_data"
    },
    {
     "data": {
      "text/plain": [
       "\u001B[1m Total params: \u001B[0m\u001B[38;5;34m828,612\u001B[0m (3.16 MB)\n"
      ],
      "text/html": [
       "<pre style=\"white-space:pre;overflow-x:auto;line-height:normal;font-family:Menlo,'DejaVu Sans Mono',consolas,'Courier New',monospace\"><span style=\"font-weight: bold\"> Total params: </span><span style=\"color: #00af00; text-decoration-color: #00af00\">828,612</span> (3.16 MB)\n",
       "</pre>\n"
      ]
     },
     "metadata": {},
     "output_type": "display_data"
    },
    {
     "data": {
      "text/plain": [
       "\u001B[1m Trainable params: \u001B[0m\u001B[38;5;34m828,612\u001B[0m (3.16 MB)\n"
      ],
      "text/html": [
       "<pre style=\"white-space:pre;overflow-x:auto;line-height:normal;font-family:Menlo,'DejaVu Sans Mono',consolas,'Courier New',monospace\"><span style=\"font-weight: bold\"> Trainable params: </span><span style=\"color: #00af00; text-decoration-color: #00af00\">828,612</span> (3.16 MB)\n",
       "</pre>\n"
      ]
     },
     "metadata": {},
     "output_type": "display_data"
    },
    {
     "data": {
      "text/plain": [
       "\u001B[1m Non-trainable params: \u001B[0m\u001B[38;5;34m0\u001B[0m (0.00 B)\n"
      ],
      "text/html": [
       "<pre style=\"white-space:pre;overflow-x:auto;line-height:normal;font-family:Menlo,'DejaVu Sans Mono',consolas,'Courier New',monospace\"><span style=\"font-weight: bold\"> Non-trainable params: </span><span style=\"color: #00af00; text-decoration-color: #00af00\">0</span> (0.00 B)\n",
       "</pre>\n"
      ]
     },
     "metadata": {},
     "output_type": "display_data"
    }
   ],
   "execution_count": 11
  },
  {
   "metadata": {
    "ExecuteTime": {
     "end_time": "2024-12-03T04:34:31.226638Z",
     "start_time": "2024-12-03T04:34:31.223944Z"
    }
   },
   "cell_type": "code",
   "source": [
    "# callbacks\n",
    "early_stopping = EarlyStopping(monitor='val_loss', patience=20)\n",
    "learning_rate_reduction = ReduceLROnPlateau(monitor='val_loss', factor=0.1, patience=5)\n",
    "checkpoint = ModelCheckpoint(monitor='val_loss', filepath='model.keras', save_best_only=True)\n",
    "callbacks=[early_stopping, learning_rate_reduction]"
   ],
   "id": "cde941a7db48beeb",
   "outputs": [],
   "execution_count": 12
  },
  {
   "metadata": {
    "ExecuteTime": {
     "end_time": "2024-12-03T04:36:39.240733Z",
     "start_time": "2024-12-03T04:34:31.263970Z"
    }
   },
   "cell_type": "code",
   "source": [
    "# Train the model\n",
    "model.fit(X_train, y_train, epochs=200, batch_size=16, validation_split=0.2, callbacks=callbacks)\n",
    "model.save('model.keras')\n",
    "\n",
    "# Evaluate the model\n",
    "predictions = model.predict(X_test)\n",
    "predicted_labels = (predictions > 0.5).astype(int)  # Threshold predictions\n",
    "\n",
    "accuracy = accuracy_score(y_test, predicted_labels)\n",
    "f1 = f1_score(y_test, predicted_labels, average='micro')  # Use appropriate averaging\n",
    "\n",
    "print(f\"Accuracy: {accuracy}\")\n",
    "print(f\"F1 Score: {f1}\")"
   ],
   "id": "193890968bcc5dea",
   "outputs": [
    {
     "name": "stdout",
     "output_type": "stream",
     "text": [
      "Epoch 1/200\n",
      "\u001B[1m471/471\u001B[0m \u001B[32m━━━━━━━━━━━━━━━━━━━━\u001B[0m\u001B[37m\u001B[0m \u001B[1m3s\u001B[0m 4ms/step - accuracy: 0.2596 - loss: 2.7214 - val_accuracy: 0.3466 - val_loss: 1.3211 - learning_rate: 1.0000e-04\n",
      "Epoch 2/200\n",
      "\u001B[1m471/471\u001B[0m \u001B[32m━━━━━━━━━━━━━━━━━━━━\u001B[0m\u001B[37m\u001B[0m \u001B[1m2s\u001B[0m 4ms/step - accuracy: 0.3293 - loss: 1.5327 - val_accuracy: 0.4232 - val_loss: 1.2843 - learning_rate: 1.0000e-04\n",
      "Epoch 3/200\n",
      "\u001B[1m471/471\u001B[0m \u001B[32m━━━━━━━━━━━━━━━━━━━━\u001B[0m\u001B[37m\u001B[0m \u001B[1m2s\u001B[0m 4ms/step - accuracy: 0.3499 - loss: 1.3963 - val_accuracy: 0.4593 - val_loss: 1.2358 - learning_rate: 1.0000e-04\n",
      "Epoch 4/200\n",
      "\u001B[1m471/471\u001B[0m \u001B[32m━━━━━━━━━━━━━━━━━━━━\u001B[0m\u001B[37m\u001B[0m \u001B[1m2s\u001B[0m 4ms/step - accuracy: 0.3906 - loss: 1.3165 - val_accuracy: 0.4875 - val_loss: 1.1833 - learning_rate: 1.0000e-04\n",
      "Epoch 5/200\n",
      "\u001B[1m471/471\u001B[0m \u001B[32m━━━━━━━━━━━━━━━━━━━━\u001B[0m\u001B[37m\u001B[0m \u001B[1m2s\u001B[0m 4ms/step - accuracy: 0.4186 - loss: 1.2657 - val_accuracy: 0.5130 - val_loss: 1.1535 - learning_rate: 1.0000e-04\n",
      "Epoch 6/200\n",
      "\u001B[1m471/471\u001B[0m \u001B[32m━━━━━━━━━━━━━━━━━━━━\u001B[0m\u001B[37m\u001B[0m \u001B[1m2s\u001B[0m 4ms/step - accuracy: 0.4446 - loss: 1.2106 - val_accuracy: 0.5476 - val_loss: 1.1082 - learning_rate: 1.0000e-04\n",
      "Epoch 7/200\n",
      "\u001B[1m471/471\u001B[0m \u001B[32m━━━━━━━━━━━━━━━━━━━━\u001B[0m\u001B[37m\u001B[0m \u001B[1m2s\u001B[0m 4ms/step - accuracy: 0.4815 - loss: 1.1681 - val_accuracy: 0.5391 - val_loss: 1.0646 - learning_rate: 1.0000e-04\n",
      "Epoch 8/200\n",
      "\u001B[1m471/471\u001B[0m \u001B[32m━━━━━━━━━━━━━━━━━━━━\u001B[0m\u001B[37m\u001B[0m \u001B[1m2s\u001B[0m 4ms/step - accuracy: 0.5102 - loss: 1.1112 - val_accuracy: 0.5922 - val_loss: 1.0169 - learning_rate: 1.0000e-04\n",
      "Epoch 9/200\n",
      "\u001B[1m471/471\u001B[0m \u001B[32m━━━━━━━━━━━━━━━━━━━━\u001B[0m\u001B[37m\u001B[0m \u001B[1m3s\u001B[0m 6ms/step - accuracy: 0.5372 - loss: 1.0566 - val_accuracy: 0.6438 - val_loss: 0.9443 - learning_rate: 1.0000e-04\n",
      "Epoch 10/200\n",
      "\u001B[1m471/471\u001B[0m \u001B[32m━━━━━━━━━━━━━━━━━━━━\u001B[0m\u001B[37m\u001B[0m \u001B[1m2s\u001B[0m 4ms/step - accuracy: 0.5667 - loss: 1.0083 - val_accuracy: 0.6752 - val_loss: 0.8889 - learning_rate: 1.0000e-04\n",
      "Epoch 11/200\n",
      "\u001B[1m471/471\u001B[0m \u001B[32m━━━━━━━━━━━━━━━━━━━━\u001B[0m\u001B[37m\u001B[0m \u001B[1m2s\u001B[0m 4ms/step - accuracy: 0.6146 - loss: 0.9308 - val_accuracy: 0.7273 - val_loss: 0.8016 - learning_rate: 1.0000e-04\n",
      "Epoch 12/200\n",
      "\u001B[1m471/471\u001B[0m \u001B[32m━━━━━━━━━━━━━━━━━━━━\u001B[0m\u001B[37m\u001B[0m \u001B[1m2s\u001B[0m 4ms/step - accuracy: 0.6400 - loss: 0.8978 - val_accuracy: 0.7480 - val_loss: 0.7300 - learning_rate: 1.0000e-04\n",
      "Epoch 13/200\n",
      "\u001B[1m471/471\u001B[0m \u001B[32m━━━━━━━━━━━━━━━━━━━━\u001B[0m\u001B[37m\u001B[0m \u001B[1m2s\u001B[0m 4ms/step - accuracy: 0.6966 - loss: 0.7733 - val_accuracy: 0.7709 - val_loss: 0.6576 - learning_rate: 1.0000e-04\n",
      "Epoch 14/200\n",
      "\u001B[1m471/471\u001B[0m \u001B[32m━━━━━━━━━━━━━━━━━━━━\u001B[0m\u001B[37m\u001B[0m \u001B[1m2s\u001B[0m 4ms/step - accuracy: 0.7340 - loss: 0.7126 - val_accuracy: 0.7964 - val_loss: 0.5754 - learning_rate: 1.0000e-04\n",
      "Epoch 15/200\n",
      "\u001B[1m471/471\u001B[0m \u001B[32m━━━━━━━━━━━━━━━━━━━━\u001B[0m\u001B[37m\u001B[0m \u001B[1m2s\u001B[0m 4ms/step - accuracy: 0.7489 - loss: 0.6694 - val_accuracy: 0.8086 - val_loss: 0.5443 - learning_rate: 1.0000e-04\n",
      "Epoch 16/200\n",
      "\u001B[1m471/471\u001B[0m \u001B[32m━━━━━━━━━━━━━━━━━━━━\u001B[0m\u001B[37m\u001B[0m \u001B[1m2s\u001B[0m 4ms/step - accuracy: 0.7882 - loss: 0.5773 - val_accuracy: 0.8203 - val_loss: 0.4852 - learning_rate: 1.0000e-04\n",
      "Epoch 17/200\n",
      "\u001B[1m471/471\u001B[0m \u001B[32m━━━━━━━━━━━━━━━━━━━━\u001B[0m\u001B[37m\u001B[0m \u001B[1m2s\u001B[0m 4ms/step - accuracy: 0.8097 - loss: 0.5348 - val_accuracy: 0.8357 - val_loss: 0.4553 - learning_rate: 1.0000e-04\n",
      "Epoch 18/200\n",
      "\u001B[1m471/471\u001B[0m \u001B[32m━━━━━━━━━━━━━━━━━━━━\u001B[0m\u001B[37m\u001B[0m \u001B[1m2s\u001B[0m 4ms/step - accuracy: 0.8240 - loss: 0.4852 - val_accuracy: 0.8522 - val_loss: 0.4189 - learning_rate: 1.0000e-04\n",
      "Epoch 19/200\n",
      "\u001B[1m471/471\u001B[0m \u001B[32m━━━━━━━━━━━━━━━━━━━━\u001B[0m\u001B[37m\u001B[0m \u001B[1m2s\u001B[0m 4ms/step - accuracy: 0.8354 - loss: 0.4410 - val_accuracy: 0.8634 - val_loss: 0.3850 - learning_rate: 1.0000e-04\n",
      "Epoch 20/200\n",
      "\u001B[1m471/471\u001B[0m \u001B[32m━━━━━━━━━━━━━━━━━━━━\u001B[0m\u001B[37m\u001B[0m \u001B[1m2s\u001B[0m 4ms/step - accuracy: 0.8627 - loss: 0.3923 - val_accuracy: 0.8607 - val_loss: 0.3841 - learning_rate: 1.0000e-04\n",
      "Epoch 21/200\n",
      "\u001B[1m471/471\u001B[0m \u001B[32m━━━━━━━━━━━━━━━━━━━━\u001B[0m\u001B[37m\u001B[0m \u001B[1m2s\u001B[0m 4ms/step - accuracy: 0.8639 - loss: 0.3856 - val_accuracy: 0.8692 - val_loss: 0.3717 - learning_rate: 1.0000e-04\n",
      "Epoch 22/200\n",
      "\u001B[1m471/471\u001B[0m \u001B[32m━━━━━━━━━━━━━━━━━━━━\u001B[0m\u001B[37m\u001B[0m \u001B[1m2s\u001B[0m 4ms/step - accuracy: 0.8807 - loss: 0.3190 - val_accuracy: 0.8719 - val_loss: 0.3605 - learning_rate: 1.0000e-04\n",
      "Epoch 23/200\n",
      "\u001B[1m471/471\u001B[0m \u001B[32m━━━━━━━━━━━━━━━━━━━━\u001B[0m\u001B[37m\u001B[0m \u001B[1m2s\u001B[0m 4ms/step - accuracy: 0.8926 - loss: 0.3021 - val_accuracy: 0.8756 - val_loss: 0.3515 - learning_rate: 1.0000e-04\n",
      "Epoch 24/200\n",
      "\u001B[1m471/471\u001B[0m \u001B[32m━━━━━━━━━━━━━━━━━━━━\u001B[0m\u001B[37m\u001B[0m \u001B[1m2s\u001B[0m 4ms/step - accuracy: 0.9009 - loss: 0.2824 - val_accuracy: 0.8857 - val_loss: 0.3273 - learning_rate: 1.0000e-04\n",
      "Epoch 25/200\n",
      "\u001B[1m471/471\u001B[0m \u001B[32m━━━━━━━━━━━━━━━━━━━━\u001B[0m\u001B[37m\u001B[0m \u001B[1m2s\u001B[0m 4ms/step - accuracy: 0.9096 - loss: 0.2578 - val_accuracy: 0.8836 - val_loss: 0.3322 - learning_rate: 1.0000e-04\n",
      "Epoch 26/200\n",
      "\u001B[1m471/471\u001B[0m \u001B[32m━━━━━━━━━━━━━━━━━━━━\u001B[0m\u001B[37m\u001B[0m \u001B[1m2s\u001B[0m 4ms/step - accuracy: 0.9118 - loss: 0.2461 - val_accuracy: 0.8905 - val_loss: 0.3223 - learning_rate: 1.0000e-04\n",
      "Epoch 27/200\n",
      "\u001B[1m471/471\u001B[0m \u001B[32m━━━━━━━━━━━━━━━━━━━━\u001B[0m\u001B[37m\u001B[0m \u001B[1m2s\u001B[0m 4ms/step - accuracy: 0.9199 - loss: 0.2194 - val_accuracy: 0.8953 - val_loss: 0.2948 - learning_rate: 1.0000e-04\n",
      "Epoch 28/200\n",
      "\u001B[1m471/471\u001B[0m \u001B[32m━━━━━━━━━━━━━━━━━━━━\u001B[0m\u001B[37m\u001B[0m \u001B[1m2s\u001B[0m 5ms/step - accuracy: 0.9262 - loss: 0.2171 - val_accuracy: 0.8969 - val_loss: 0.2967 - learning_rate: 1.0000e-04\n",
      "Epoch 29/200\n",
      "\u001B[1m471/471\u001B[0m \u001B[32m━━━━━━━━━━━━━━━━━━━━\u001B[0m\u001B[37m\u001B[0m \u001B[1m2s\u001B[0m 4ms/step - accuracy: 0.9319 - loss: 0.2074 - val_accuracy: 0.8947 - val_loss: 0.3229 - learning_rate: 1.0000e-04\n",
      "Epoch 30/200\n",
      "\u001B[1m471/471\u001B[0m \u001B[32m━━━━━━━━━━━━━━━━━━━━\u001B[0m\u001B[37m\u001B[0m \u001B[1m2s\u001B[0m 4ms/step - accuracy: 0.9456 - loss: 0.1661 - val_accuracy: 0.8974 - val_loss: 0.3263 - learning_rate: 1.0000e-04\n",
      "Epoch 31/200\n",
      "\u001B[1m471/471\u001B[0m \u001B[32m━━━━━━━━━━━━━━━━━━━━\u001B[0m\u001B[37m\u001B[0m \u001B[1m2s\u001B[0m 5ms/step - accuracy: 0.9408 - loss: 0.1690 - val_accuracy: 0.9070 - val_loss: 0.2977 - learning_rate: 1.0000e-04\n",
      "Epoch 32/200\n",
      "\u001B[1m471/471\u001B[0m \u001B[32m━━━━━━━━━━━━━━━━━━━━\u001B[0m\u001B[37m\u001B[0m \u001B[1m2s\u001B[0m 4ms/step - accuracy: 0.9490 - loss: 0.1634 - val_accuracy: 0.9048 - val_loss: 0.3332 - learning_rate: 1.0000e-04\n",
      "Epoch 33/200\n",
      "\u001B[1m471/471\u001B[0m \u001B[32m━━━━━━━━━━━━━━━━━━━━\u001B[0m\u001B[37m\u001B[0m \u001B[1m2s\u001B[0m 4ms/step - accuracy: 0.9515 - loss: 0.1517 - val_accuracy: 0.9070 - val_loss: 0.3051 - learning_rate: 1.0000e-05\n",
      "Epoch 34/200\n",
      "\u001B[1m471/471\u001B[0m \u001B[32m━━━━━━━━━━━━━━━━━━━━\u001B[0m\u001B[37m\u001B[0m \u001B[1m2s\u001B[0m 4ms/step - accuracy: 0.9553 - loss: 0.1443 - val_accuracy: 0.9059 - val_loss: 0.3026 - learning_rate: 1.0000e-05\n",
      "Epoch 35/200\n",
      "\u001B[1m471/471\u001B[0m \u001B[32m━━━━━━━━━━━━━━━━━━━━\u001B[0m\u001B[37m\u001B[0m \u001B[1m2s\u001B[0m 4ms/step - accuracy: 0.9577 - loss: 0.1247 - val_accuracy: 0.9075 - val_loss: 0.2953 - learning_rate: 1.0000e-05\n",
      "Epoch 36/200\n",
      "\u001B[1m471/471\u001B[0m \u001B[32m━━━━━━━━━━━━━━━━━━━━\u001B[0m\u001B[37m\u001B[0m \u001B[1m2s\u001B[0m 4ms/step - accuracy: 0.9630 - loss: 0.1224 - val_accuracy: 0.9096 - val_loss: 0.2928 - learning_rate: 1.0000e-05\n",
      "Epoch 37/200\n",
      "\u001B[1m471/471\u001B[0m \u001B[32m━━━━━━━━━━━━━━━━━━━━\u001B[0m\u001B[37m\u001B[0m \u001B[1m2s\u001B[0m 4ms/step - accuracy: 0.9632 - loss: 0.1109 - val_accuracy: 0.9128 - val_loss: 0.2934 - learning_rate: 1.0000e-05\n",
      "Epoch 38/200\n",
      "\u001B[1m471/471\u001B[0m \u001B[32m━━━━━━━━━━━━━━━━━━━━\u001B[0m\u001B[37m\u001B[0m \u001B[1m2s\u001B[0m 4ms/step - accuracy: 0.9601 - loss: 0.1227 - val_accuracy: 0.9117 - val_loss: 0.2891 - learning_rate: 1.0000e-05\n",
      "Epoch 39/200\n",
      "\u001B[1m471/471\u001B[0m \u001B[32m━━━━━━━━━━━━━━━━━━━━\u001B[0m\u001B[37m\u001B[0m \u001B[1m3s\u001B[0m 6ms/step - accuracy: 0.9689 - loss: 0.1009 - val_accuracy: 0.9096 - val_loss: 0.3009 - learning_rate: 1.0000e-05\n",
      "Epoch 40/200\n",
      "\u001B[1m471/471\u001B[0m \u001B[32m━━━━━━━━━━━━━━━━━━━━\u001B[0m\u001B[37m\u001B[0m \u001B[1m3s\u001B[0m 6ms/step - accuracy: 0.9687 - loss: 0.0967 - val_accuracy: 0.9117 - val_loss: 0.2980 - learning_rate: 1.0000e-05\n",
      "Epoch 41/200\n",
      "\u001B[1m471/471\u001B[0m \u001B[32m━━━━━━━━━━━━━━━━━━━━\u001B[0m\u001B[37m\u001B[0m \u001B[1m3s\u001B[0m 6ms/step - accuracy: 0.9644 - loss: 0.1023 - val_accuracy: 0.9149 - val_loss: 0.2978 - learning_rate: 1.0000e-05\n",
      "Epoch 42/200\n",
      "\u001B[1m471/471\u001B[0m \u001B[32m━━━━━━━━━━━━━━━━━━━━\u001B[0m\u001B[37m\u001B[0m \u001B[1m3s\u001B[0m 5ms/step - accuracy: 0.9663 - loss: 0.1076 - val_accuracy: 0.9128 - val_loss: 0.3039 - learning_rate: 1.0000e-05\n",
      "Epoch 43/200\n",
      "\u001B[1m471/471\u001B[0m \u001B[32m━━━━━━━━━━━━━━━━━━━━\u001B[0m\u001B[37m\u001B[0m \u001B[1m2s\u001B[0m 5ms/step - accuracy: 0.9691 - loss: 0.0977 - val_accuracy: 0.9117 - val_loss: 0.3071 - learning_rate: 1.0000e-05\n",
      "Epoch 44/200\n",
      "\u001B[1m471/471\u001B[0m \u001B[32m━━━━━━━━━━━━━━━━━━━━\u001B[0m\u001B[37m\u001B[0m \u001B[1m3s\u001B[0m 5ms/step - accuracy: 0.9667 - loss: 0.1015 - val_accuracy: 0.9123 - val_loss: 0.3064 - learning_rate: 1.0000e-06\n",
      "Epoch 45/200\n",
      "\u001B[1m471/471\u001B[0m \u001B[32m━━━━━━━━━━━━━━━━━━━━\u001B[0m\u001B[37m\u001B[0m \u001B[1m2s\u001B[0m 5ms/step - accuracy: 0.9703 - loss: 0.0882 - val_accuracy: 0.9117 - val_loss: 0.3070 - learning_rate: 1.0000e-06\n",
      "Epoch 46/200\n",
      "\u001B[1m471/471\u001B[0m \u001B[32m━━━━━━━━━━━━━━━━━━━━\u001B[0m\u001B[37m\u001B[0m \u001B[1m2s\u001B[0m 5ms/step - accuracy: 0.9649 - loss: 0.1105 - val_accuracy: 0.9123 - val_loss: 0.3066 - learning_rate: 1.0000e-06\n",
      "Epoch 47/200\n",
      "\u001B[1m471/471\u001B[0m \u001B[32m━━━━━━━━━━━━━━━━━━━━\u001B[0m\u001B[37m\u001B[0m \u001B[1m2s\u001B[0m 5ms/step - accuracy: 0.9650 - loss: 0.1044 - val_accuracy: 0.9128 - val_loss: 0.3046 - learning_rate: 1.0000e-06\n",
      "Epoch 48/200\n",
      "\u001B[1m471/471\u001B[0m \u001B[32m━━━━━━━━━━━━━━━━━━━━\u001B[0m\u001B[37m\u001B[0m \u001B[1m2s\u001B[0m 5ms/step - accuracy: 0.9683 - loss: 0.0955 - val_accuracy: 0.9133 - val_loss: 0.3036 - learning_rate: 1.0000e-06\n",
      "Epoch 49/200\n",
      "\u001B[1m471/471\u001B[0m \u001B[32m━━━━━━━━━━━━━━━━━━━━\u001B[0m\u001B[37m\u001B[0m \u001B[1m2s\u001B[0m 5ms/step - accuracy: 0.9677 - loss: 0.1027 - val_accuracy: 0.9133 - val_loss: 0.3036 - learning_rate: 1.0000e-07\n",
      "Epoch 50/200\n",
      "\u001B[1m471/471\u001B[0m \u001B[32m━━━━━━━━━━━━━━━━━━━━\u001B[0m\u001B[37m\u001B[0m \u001B[1m2s\u001B[0m 5ms/step - accuracy: 0.9658 - loss: 0.1057 - val_accuracy: 0.9133 - val_loss: 0.3036 - learning_rate: 1.0000e-07\n",
      "Epoch 51/200\n",
      "\u001B[1m471/471\u001B[0m \u001B[32m━━━━━━━━━━━━━━━━━━━━\u001B[0m\u001B[37m\u001B[0m \u001B[1m2s\u001B[0m 5ms/step - accuracy: 0.9623 - loss: 0.1116 - val_accuracy: 0.9133 - val_loss: 0.3036 - learning_rate: 1.0000e-07\n",
      "Epoch 52/200\n",
      "\u001B[1m471/471\u001B[0m \u001B[32m━━━━━━━━━━━━━━━━━━━━\u001B[0m\u001B[37m\u001B[0m \u001B[1m2s\u001B[0m 5ms/step - accuracy: 0.9695 - loss: 0.1061 - val_accuracy: 0.9133 - val_loss: 0.3035 - learning_rate: 1.0000e-07\n",
      "Epoch 53/200\n",
      "\u001B[1m471/471\u001B[0m \u001B[32m━━━━━━━━━━━━━━━━━━━━\u001B[0m\u001B[37m\u001B[0m \u001B[1m2s\u001B[0m 5ms/step - accuracy: 0.9685 - loss: 0.0944 - val_accuracy: 0.9133 - val_loss: 0.3036 - learning_rate: 1.0000e-07\n",
      "Epoch 54/200\n",
      "\u001B[1m471/471\u001B[0m \u001B[32m━━━━━━━━━━━━━━━━━━━━\u001B[0m\u001B[37m\u001B[0m \u001B[1m2s\u001B[0m 5ms/step - accuracy: 0.9685 - loss: 0.1046 - val_accuracy: 0.9133 - val_loss: 0.3036 - learning_rate: 1.0000e-08\n",
      "Epoch 55/200\n",
      "\u001B[1m471/471\u001B[0m \u001B[32m━━━━━━━━━━━━━━━━━━━━\u001B[0m\u001B[37m\u001B[0m \u001B[1m2s\u001B[0m 5ms/step - accuracy: 0.9654 - loss: 0.1128 - val_accuracy: 0.9133 - val_loss: 0.3036 - learning_rate: 1.0000e-08\n",
      "Epoch 56/200\n",
      "\u001B[1m471/471\u001B[0m \u001B[32m━━━━━━━━━━━━━━━━━━━━\u001B[0m\u001B[37m\u001B[0m \u001B[1m2s\u001B[0m 5ms/step - accuracy: 0.9710 - loss: 0.0945 - val_accuracy: 0.9133 - val_loss: 0.3036 - learning_rate: 1.0000e-08\n",
      "Epoch 57/200\n",
      "\u001B[1m471/471\u001B[0m \u001B[32m━━━━━━━━━━━━━━━━━━━━\u001B[0m\u001B[37m\u001B[0m \u001B[1m2s\u001B[0m 5ms/step - accuracy: 0.9652 - loss: 0.1091 - val_accuracy: 0.9133 - val_loss: 0.3036 - learning_rate: 1.0000e-08\n",
      "Epoch 58/200\n",
      "\u001B[1m471/471\u001B[0m \u001B[32m━━━━━━━━━━━━━━━━━━━━\u001B[0m\u001B[37m\u001B[0m \u001B[1m2s\u001B[0m 5ms/step - accuracy: 0.9667 - loss: 0.1008 - val_accuracy: 0.9133 - val_loss: 0.3035 - learning_rate: 1.0000e-08\n",
      "\u001B[1m74/74\u001B[0m \u001B[32m━━━━━━━━━━━━━━━━━━━━\u001B[0m\u001B[37m\u001B[0m \u001B[1m0s\u001B[0m 1ms/step\n",
      "Accuracy: 0.9056122448979592\n",
      "F1 Score: 0.9073482428115016\n"
     ]
    }
   ],
   "execution_count": 13
  },
  {
   "metadata": {
    "ExecuteTime": {
     "end_time": "2024-12-03T04:36:39.265955Z",
     "start_time": "2024-12-03T04:36:39.262620Z"
    }
   },
   "cell_type": "code",
   "source": "predictions",
   "id": "8269766d6fdefc6a",
   "outputs": [
    {
     "data": {
      "text/plain": [
       "array([[1.9098066e-03, 9.9808151e-01, 3.7244408e-06, 4.9525488e-06],\n",
       "       [9.0333708e-02, 1.0303758e-06, 9.0966523e-01, 6.0580803e-09],\n",
       "       [3.1539011e-03, 9.9670196e-01, 1.8080180e-05, 1.2616999e-04],\n",
       "       ...,\n",
       "       [7.8957499e-04, 5.8962869e-06, 1.9931031e-08, 9.9920452e-01],\n",
       "       [4.9358354e-05, 9.9995065e-01, 5.3600413e-09, 3.0876521e-08],\n",
       "       [2.4157537e-02, 3.3010631e-06, 9.7583914e-01, 5.3842446e-09]],\n",
       "      dtype=float32)"
      ]
     },
     "execution_count": 14,
     "metadata": {},
     "output_type": "execute_result"
    }
   ],
   "execution_count": 14
  },
  {
   "metadata": {
    "ExecuteTime": {
     "end_time": "2024-12-03T04:36:39.293612Z",
     "start_time": "2024-12-03T04:36:39.291044Z"
    }
   },
   "cell_type": "code",
   "source": "predicted_labels",
   "id": "bf270075e0ab3f6e",
   "outputs": [
    {
     "data": {
      "text/plain": [
       "array([[0, 1, 0, 0],\n",
       "       [0, 0, 1, 0],\n",
       "       [0, 1, 0, 0],\n",
       "       ...,\n",
       "       [0, 0, 0, 1],\n",
       "       [0, 1, 0, 0],\n",
       "       [0, 0, 1, 0]])"
      ]
     },
     "execution_count": 15,
     "metadata": {},
     "output_type": "execute_result"
    }
   ],
   "execution_count": 15
  },
  {
   "metadata": {
    "ExecuteTime": {
     "end_time": "2024-12-03T04:36:39.329871Z",
     "start_time": "2024-12-03T04:36:39.327286Z"
    }
   },
   "cell_type": "code",
   "source": "y_test",
   "id": "2d175d826816155e",
   "outputs": [
    {
     "data": {
      "text/plain": [
       "array([[0, 1, 0, 0],\n",
       "       [0, 0, 1, 0],\n",
       "       [0, 1, 0, 0],\n",
       "       ...,\n",
       "       [0, 0, 0, 1],\n",
       "       [0, 1, 0, 0],\n",
       "       [0, 0, 1, 0]])"
      ]
     },
     "execution_count": 16,
     "metadata": {},
     "output_type": "execute_result"
    }
   ],
   "execution_count": 16
  },
  {
   "metadata": {
    "ExecuteTime": {
     "end_time": "2024-12-03T04:36:39.379981Z",
     "start_time": "2024-12-03T04:36:39.378526Z"
    }
   },
   "cell_type": "code",
   "source": "",
   "id": "9ae4ef2ac5c8dd7b",
   "outputs": [],
   "execution_count": null
  }
 ],
 "metadata": {
  "kernelspec": {
   "name": "python3",
   "language": "python",
   "display_name": "Python 3 (ipykernel)"
  }
 },
 "nbformat": 5,
 "nbformat_minor": 9
}
