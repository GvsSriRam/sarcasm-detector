{
 "cells": [
  {
   "metadata": {
    "ExecuteTime": {
     "end_time": "2024-12-06T01:53:08.388894Z",
     "start_time": "2024-12-06T01:53:08.062380Z"
    }
   },
   "cell_type": "code",
   "source": [
    "import numpy as np\n",
    "import pandas as pd\n",
    "import os\n",
    "import json"
   ],
   "id": "2a86f74b0156b8c9",
   "outputs": [],
   "execution_count": 1
  },
  {
   "metadata": {
    "ExecuteTime": {
     "end_time": "2024-12-06T01:53:08.404125Z",
     "start_time": "2024-12-06T01:53:08.392558Z"
    }
   },
   "cell_type": "code",
   "source": [
    "labels = np.load(\"../Data/preprocessed/labels.npy\", allow_pickle=True)\n",
    "embeddings = np.load(\"../Data/preprocessed/embeddings.npy\", allow_pickle=True)\n",
    "classes = np.load(\"../Data/preprocessed/classes.npy\", allow_pickle=True)"
   ],
   "id": "2af74df5baac3f2f",
   "outputs": [],
   "execution_count": 2
  },
  {
   "metadata": {
    "ExecuteTime": {
     "end_time": "2024-12-06T01:53:08.506520Z",
     "start_time": "2024-12-06T01:53:08.503954Z"
    }
   },
   "cell_type": "code",
   "source": "labels.shape, embeddings.shape",
   "id": "1cb65d5245beab2c",
   "outputs": [
    {
     "data": {
      "text/plain": [
       "((4572, 4), (4572, 1280))"
      ]
     },
     "execution_count": 3,
     "metadata": {},
     "output_type": "execute_result"
    }
   ],
   "execution_count": 3
  },
  {
   "metadata": {
    "ExecuteTime": {
     "end_time": "2024-12-06T01:53:08.512141Z",
     "start_time": "2024-12-06T01:53:08.510381Z"
    }
   },
   "cell_type": "code",
   "source": "embeddings.dtype, labels.dtype",
   "id": "fcec76cf0d564b7e",
   "outputs": [
    {
     "data": {
      "text/plain": [
       "(dtype('float32'), dtype('int64'))"
      ]
     },
     "execution_count": 4,
     "metadata": {},
     "output_type": "execute_result"
    }
   ],
   "execution_count": 4
  },
  {
   "metadata": {
    "ExecuteTime": {
     "end_time": "2024-12-06T01:53:09.249904Z",
     "start_time": "2024-12-06T01:53:08.521443Z"
    }
   },
   "cell_type": "code",
   "source": [
    "# Separate \"all 0\" samples\n",
    "all_zero_indices = np.where(np.sum(labels, axis=1) == 0)[0]\n",
    "embeddings_all_zero = embeddings[all_zero_indices]\n",
    "labels_all_zero = labels[all_zero_indices]\n",
    "\n",
    "from imblearn.over_sampling import SMOTE\n",
    "\n",
    "smote = SMOTE(random_state=42)\n",
    "embeddings_resampled, labels_resampled = smote.fit_resample(embeddings, labels)\n",
    "\n",
    "embeddings_resampled_final = np.concatenate([embeddings_resampled, embeddings_all_zero], axis=0)\n",
    "labels_resampled_final = np.concatenate([labels_resampled, labels_all_zero], axis=0)"
   ],
   "id": "b55c843d983a7591",
   "outputs": [],
   "execution_count": 5
  },
  {
   "metadata": {
    "ExecuteTime": {
     "end_time": "2024-12-06T01:53:09.275469Z",
     "start_time": "2024-12-06T01:53:09.265685Z"
    }
   },
   "cell_type": "code",
   "source": "pd.DataFrame(labels).value_counts()",
   "id": "2a5980cf55e3f4a2",
   "outputs": [
    {
     "data": {
      "text/plain": [
       "0  1  2  3\n",
       "0  0  0  0    2439\n",
       "      1  0     910\n",
       "1  0  0  0     500\n",
       "0  0  0  1     420\n",
       "   1  0  0     303\n",
       "Name: count, dtype: int64"
      ]
     },
     "execution_count": 6,
     "metadata": {},
     "output_type": "execute_result"
    }
   ],
   "execution_count": 6
  },
  {
   "metadata": {
    "ExecuteTime": {
     "end_time": "2024-12-06T01:53:09.322587Z",
     "start_time": "2024-12-06T01:53:09.316517Z"
    }
   },
   "cell_type": "code",
   "source": "pd.DataFrame(labels_resampled).value_counts()",
   "id": "1e6247c75428087d",
   "outputs": [
    {
     "data": {
      "text/plain": [
       "0  1  2  3\n",
       "0  0  0  1    2939\n",
       "      1  0    2939\n",
       "   1  0  0    2939\n",
       "1  0  0  0    2939\n",
       "Name: count, dtype: int64"
      ]
     },
     "execution_count": 7,
     "metadata": {},
     "output_type": "execute_result"
    }
   ],
   "execution_count": 7
  },
  {
   "metadata": {
    "ExecuteTime": {
     "end_time": "2024-12-06T01:53:09.370900Z",
     "start_time": "2024-12-06T01:53:09.366295Z"
    }
   },
   "cell_type": "code",
   "source": "pd.DataFrame(labels_resampled_final).value_counts()",
   "id": "21a0efbec6210f82",
   "outputs": [
    {
     "data": {
      "text/plain": [
       "0  1  2  3\n",
       "0  0  0  1    2939\n",
       "      1  0    2939\n",
       "   1  0  0    2939\n",
       "1  0  0  0    2939\n",
       "0  0  0  0    2439\n",
       "Name: count, dtype: int64"
      ]
     },
     "execution_count": 8,
     "metadata": {},
     "output_type": "execute_result"
    }
   ],
   "execution_count": 8
  },
  {
   "metadata": {
    "ExecuteTime": {
     "end_time": "2024-12-06T01:53:09.453129Z",
     "start_time": "2024-12-06T01:53:09.440809Z"
    }
   },
   "cell_type": "code",
   "source": [
    "from sklearn.model_selection import train_test_split\n",
    "\n",
    "X_train, X_test, y_train, y_test = train_test_split(embeddings_resampled, labels_resampled, test_size=0.2, random_state=42)"
   ],
   "id": "fcb749ce64d66135",
   "outputs": [],
   "execution_count": 9
  },
  {
   "metadata": {
    "ExecuteTime": {
     "end_time": "2024-12-06T01:53:12.066349Z",
     "start_time": "2024-12-06T01:53:09.492110Z"
    }
   },
   "cell_type": "code",
   "source": [
    "from tensorflow.keras.layers import Input, Dense, concatenate, Dropout\n",
    "from tensorflow.keras.models import Model\n",
    "from tensorflow.keras.optimizers import Adam\n",
    "from tensorflow.keras.callbacks import EarlyStopping, ReduceLROnPlateau, ModelCheckpoint\n",
    "\n",
    "from sklearn.metrics import accuracy_score, f1_score, classification_report\n",
    "\n",
    "# --- Create the multi-label classification model ---\n",
    "input_layer = Input(shape=(X_train.shape[1],))  # Input shape based on embeddings\n",
    "hidden_layer1 = Dense(512, activation='relu')(input_layer)\n",
    "dropout_layer = Dropout(0.5)(hidden_layer1)  # Add dropout for regularization\n",
    "hidden_layer2 = Dense(256, activation='relu')(dropout_layer)\n",
    "dropout_layer2 = Dropout(0.5)(hidden_layer2)  # Add dropout for regularization\n",
    "hidden_layer3 = Dense(128, activation='relu')(dropout_layer2)\n",
    "dropout_layer3 = Dropout(0.5)(hidden_layer3)  # Add dropout for regularization\n",
    "hidden_layer4 = Dense(64, activation='relu')(dropout_layer3)\n",
    "output_layer = Dense(y_train.shape[1], activation='softmax')(hidden_layer4)\n",
    "\n",
    "model = Model(inputs=input_layer, outputs=output_layer)\n",
    "\n",
    "# Compile the model\n",
    "model.compile(optimizer=Adam(learning_rate=0.0001), loss='categorical_crossentropy', metrics=['accuracy'])"
   ],
   "id": "a254e116e11300a",
   "outputs": [],
   "execution_count": 10
  },
  {
   "metadata": {
    "ExecuteTime": {
     "end_time": "2024-12-06T01:53:12.079891Z",
     "start_time": "2024-12-06T01:53:12.071102Z"
    }
   },
   "cell_type": "code",
   "source": "model.summary()",
   "id": "8feabdd0e21a99c4",
   "outputs": [
    {
     "data": {
      "text/plain": [
       "\u001B[1mModel: \"functional\"\u001B[0m\n"
      ],
      "text/html": [
       "<pre style=\"white-space:pre;overflow-x:auto;line-height:normal;font-family:Menlo,'DejaVu Sans Mono',consolas,'Courier New',monospace\"><span style=\"font-weight: bold\">Model: \"functional\"</span>\n",
       "</pre>\n"
      ]
     },
     "metadata": {},
     "output_type": "display_data"
    },
    {
     "data": {
      "text/plain": [
       "┏━━━━━━━━━━━━━━━━━━━━━━━━━━━━━━━━━┳━━━━━━━━━━━━━━━━━━━━━━━━┳━━━━━━━━━━━━━━━┓\n",
       "┃\u001B[1m \u001B[0m\u001B[1mLayer (type)                   \u001B[0m\u001B[1m \u001B[0m┃\u001B[1m \u001B[0m\u001B[1mOutput Shape          \u001B[0m\u001B[1m \u001B[0m┃\u001B[1m \u001B[0m\u001B[1m      Param #\u001B[0m\u001B[1m \u001B[0m┃\n",
       "┡━━━━━━━━━━━━━━━━━━━━━━━━━━━━━━━━━╇━━━━━━━━━━━━━━━━━━━━━━━━╇━━━━━━━━━━━━━━━┩\n",
       "│ input_layer (\u001B[38;5;33mInputLayer\u001B[0m)        │ (\u001B[38;5;45mNone\u001B[0m, \u001B[38;5;34m1280\u001B[0m)           │             \u001B[38;5;34m0\u001B[0m │\n",
       "├─────────────────────────────────┼────────────────────────┼───────────────┤\n",
       "│ dense (\u001B[38;5;33mDense\u001B[0m)                   │ (\u001B[38;5;45mNone\u001B[0m, \u001B[38;5;34m512\u001B[0m)            │       \u001B[38;5;34m655,872\u001B[0m │\n",
       "├─────────────────────────────────┼────────────────────────┼───────────────┤\n",
       "│ dropout (\u001B[38;5;33mDropout\u001B[0m)               │ (\u001B[38;5;45mNone\u001B[0m, \u001B[38;5;34m512\u001B[0m)            │             \u001B[38;5;34m0\u001B[0m │\n",
       "├─────────────────────────────────┼────────────────────────┼───────────────┤\n",
       "│ dense_1 (\u001B[38;5;33mDense\u001B[0m)                 │ (\u001B[38;5;45mNone\u001B[0m, \u001B[38;5;34m256\u001B[0m)            │       \u001B[38;5;34m131,328\u001B[0m │\n",
       "├─────────────────────────────────┼────────────────────────┼───────────────┤\n",
       "│ dropout_1 (\u001B[38;5;33mDropout\u001B[0m)             │ (\u001B[38;5;45mNone\u001B[0m, \u001B[38;5;34m256\u001B[0m)            │             \u001B[38;5;34m0\u001B[0m │\n",
       "├─────────────────────────────────┼────────────────────────┼───────────────┤\n",
       "│ dense_2 (\u001B[38;5;33mDense\u001B[0m)                 │ (\u001B[38;5;45mNone\u001B[0m, \u001B[38;5;34m128\u001B[0m)            │        \u001B[38;5;34m32,896\u001B[0m │\n",
       "├─────────────────────────────────┼────────────────────────┼───────────────┤\n",
       "│ dropout_2 (\u001B[38;5;33mDropout\u001B[0m)             │ (\u001B[38;5;45mNone\u001B[0m, \u001B[38;5;34m128\u001B[0m)            │             \u001B[38;5;34m0\u001B[0m │\n",
       "├─────────────────────────────────┼────────────────────────┼───────────────┤\n",
       "│ dense_3 (\u001B[38;5;33mDense\u001B[0m)                 │ (\u001B[38;5;45mNone\u001B[0m, \u001B[38;5;34m64\u001B[0m)             │         \u001B[38;5;34m8,256\u001B[0m │\n",
       "├─────────────────────────────────┼────────────────────────┼───────────────┤\n",
       "│ dense_4 (\u001B[38;5;33mDense\u001B[0m)                 │ (\u001B[38;5;45mNone\u001B[0m, \u001B[38;5;34m4\u001B[0m)              │           \u001B[38;5;34m260\u001B[0m │\n",
       "└─────────────────────────────────┴────────────────────────┴───────────────┘\n"
      ],
      "text/html": [
       "<pre style=\"white-space:pre;overflow-x:auto;line-height:normal;font-family:Menlo,'DejaVu Sans Mono',consolas,'Courier New',monospace\">┏━━━━━━━━━━━━━━━━━━━━━━━━━━━━━━━━━┳━━━━━━━━━━━━━━━━━━━━━━━━┳━━━━━━━━━━━━━━━┓\n",
       "┃<span style=\"font-weight: bold\"> Layer (type)                    </span>┃<span style=\"font-weight: bold\"> Output Shape           </span>┃<span style=\"font-weight: bold\">       Param # </span>┃\n",
       "┡━━━━━━━━━━━━━━━━━━━━━━━━━━━━━━━━━╇━━━━━━━━━━━━━━━━━━━━━━━━╇━━━━━━━━━━━━━━━┩\n",
       "│ input_layer (<span style=\"color: #0087ff; text-decoration-color: #0087ff\">InputLayer</span>)        │ (<span style=\"color: #00d7ff; text-decoration-color: #00d7ff\">None</span>, <span style=\"color: #00af00; text-decoration-color: #00af00\">1280</span>)           │             <span style=\"color: #00af00; text-decoration-color: #00af00\">0</span> │\n",
       "├─────────────────────────────────┼────────────────────────┼───────────────┤\n",
       "│ dense (<span style=\"color: #0087ff; text-decoration-color: #0087ff\">Dense</span>)                   │ (<span style=\"color: #00d7ff; text-decoration-color: #00d7ff\">None</span>, <span style=\"color: #00af00; text-decoration-color: #00af00\">512</span>)            │       <span style=\"color: #00af00; text-decoration-color: #00af00\">655,872</span> │\n",
       "├─────────────────────────────────┼────────────────────────┼───────────────┤\n",
       "│ dropout (<span style=\"color: #0087ff; text-decoration-color: #0087ff\">Dropout</span>)               │ (<span style=\"color: #00d7ff; text-decoration-color: #00d7ff\">None</span>, <span style=\"color: #00af00; text-decoration-color: #00af00\">512</span>)            │             <span style=\"color: #00af00; text-decoration-color: #00af00\">0</span> │\n",
       "├─────────────────────────────────┼────────────────────────┼───────────────┤\n",
       "│ dense_1 (<span style=\"color: #0087ff; text-decoration-color: #0087ff\">Dense</span>)                 │ (<span style=\"color: #00d7ff; text-decoration-color: #00d7ff\">None</span>, <span style=\"color: #00af00; text-decoration-color: #00af00\">256</span>)            │       <span style=\"color: #00af00; text-decoration-color: #00af00\">131,328</span> │\n",
       "├─────────────────────────────────┼────────────────────────┼───────────────┤\n",
       "│ dropout_1 (<span style=\"color: #0087ff; text-decoration-color: #0087ff\">Dropout</span>)             │ (<span style=\"color: #00d7ff; text-decoration-color: #00d7ff\">None</span>, <span style=\"color: #00af00; text-decoration-color: #00af00\">256</span>)            │             <span style=\"color: #00af00; text-decoration-color: #00af00\">0</span> │\n",
       "├─────────────────────────────────┼────────────────────────┼───────────────┤\n",
       "│ dense_2 (<span style=\"color: #0087ff; text-decoration-color: #0087ff\">Dense</span>)                 │ (<span style=\"color: #00d7ff; text-decoration-color: #00d7ff\">None</span>, <span style=\"color: #00af00; text-decoration-color: #00af00\">128</span>)            │        <span style=\"color: #00af00; text-decoration-color: #00af00\">32,896</span> │\n",
       "├─────────────────────────────────┼────────────────────────┼───────────────┤\n",
       "│ dropout_2 (<span style=\"color: #0087ff; text-decoration-color: #0087ff\">Dropout</span>)             │ (<span style=\"color: #00d7ff; text-decoration-color: #00d7ff\">None</span>, <span style=\"color: #00af00; text-decoration-color: #00af00\">128</span>)            │             <span style=\"color: #00af00; text-decoration-color: #00af00\">0</span> │\n",
       "├─────────────────────────────────┼────────────────────────┼───────────────┤\n",
       "│ dense_3 (<span style=\"color: #0087ff; text-decoration-color: #0087ff\">Dense</span>)                 │ (<span style=\"color: #00d7ff; text-decoration-color: #00d7ff\">None</span>, <span style=\"color: #00af00; text-decoration-color: #00af00\">64</span>)             │         <span style=\"color: #00af00; text-decoration-color: #00af00\">8,256</span> │\n",
       "├─────────────────────────────────┼────────────────────────┼───────────────┤\n",
       "│ dense_4 (<span style=\"color: #0087ff; text-decoration-color: #0087ff\">Dense</span>)                 │ (<span style=\"color: #00d7ff; text-decoration-color: #00d7ff\">None</span>, <span style=\"color: #00af00; text-decoration-color: #00af00\">4</span>)              │           <span style=\"color: #00af00; text-decoration-color: #00af00\">260</span> │\n",
       "└─────────────────────────────────┴────────────────────────┴───────────────┘\n",
       "</pre>\n"
      ]
     },
     "metadata": {},
     "output_type": "display_data"
    },
    {
     "data": {
      "text/plain": [
       "\u001B[1m Total params: \u001B[0m\u001B[38;5;34m828,612\u001B[0m (3.16 MB)\n"
      ],
      "text/html": [
       "<pre style=\"white-space:pre;overflow-x:auto;line-height:normal;font-family:Menlo,'DejaVu Sans Mono',consolas,'Courier New',monospace\"><span style=\"font-weight: bold\"> Total params: </span><span style=\"color: #00af00; text-decoration-color: #00af00\">828,612</span> (3.16 MB)\n",
       "</pre>\n"
      ]
     },
     "metadata": {},
     "output_type": "display_data"
    },
    {
     "data": {
      "text/plain": [
       "\u001B[1m Trainable params: \u001B[0m\u001B[38;5;34m828,612\u001B[0m (3.16 MB)\n"
      ],
      "text/html": [
       "<pre style=\"white-space:pre;overflow-x:auto;line-height:normal;font-family:Menlo,'DejaVu Sans Mono',consolas,'Courier New',monospace\"><span style=\"font-weight: bold\"> Trainable params: </span><span style=\"color: #00af00; text-decoration-color: #00af00\">828,612</span> (3.16 MB)\n",
       "</pre>\n"
      ]
     },
     "metadata": {},
     "output_type": "display_data"
    },
    {
     "data": {
      "text/plain": [
       "\u001B[1m Non-trainable params: \u001B[0m\u001B[38;5;34m0\u001B[0m (0.00 B)\n"
      ],
      "text/html": [
       "<pre style=\"white-space:pre;overflow-x:auto;line-height:normal;font-family:Menlo,'DejaVu Sans Mono',consolas,'Courier New',monospace\"><span style=\"font-weight: bold\"> Non-trainable params: </span><span style=\"color: #00af00; text-decoration-color: #00af00\">0</span> (0.00 B)\n",
       "</pre>\n"
      ]
     },
     "metadata": {},
     "output_type": "display_data"
    }
   ],
   "execution_count": 11
  },
  {
   "metadata": {
    "ExecuteTime": {
     "end_time": "2024-12-06T01:53:12.100102Z",
     "start_time": "2024-12-06T01:53:12.098258Z"
    }
   },
   "cell_type": "code",
   "source": [
    "# callbacks\n",
    "early_stopping = EarlyStopping(monitor='val_loss', patience=20)\n",
    "learning_rate_reduction = ReduceLROnPlateau(monitor='val_loss', factor=0.1, patience=5)\n",
    "checkpoint = ModelCheckpoint(monitor='val_loss', filepath='model.keras', save_best_only=True)\n",
    "callbacks=[early_stopping, learning_rate_reduction]"
   ],
   "id": "cde941a7db48beeb",
   "outputs": [],
   "execution_count": 12
  },
  {
   "metadata": {
    "ExecuteTime": {
     "end_time": "2024-12-06T01:54:53.062569Z",
     "start_time": "2024-12-06T01:53:12.106409Z"
    }
   },
   "cell_type": "code",
   "source": [
    "# Train the model\n",
    "hist = model.fit(X_train, y_train, epochs=200, batch_size=16, validation_split=0.2, callbacks=callbacks)\n",
    "# model.save('model.keras')\n",
    "# model.save('meme_sarcasm_detection_model.h5')\n",
    "\n",
    "# Evaluate the model\n",
    "predictions = model.predict(X_test)\n",
    "predicted_labels = (predictions > 0.5).astype(int)  # Threshold predictions\n",
    "\n",
    "accuracy = accuracy_score(y_test, predicted_labels)\n",
    "f1 = f1_score(y_test, predicted_labels, average='micro')  # Use appropriate averaging\n",
    "classification_report_ = classification_report(y_test, predicted_labels, zero_division=0, target_names=classes)\n",
    "\n",
    "print(f\"Accuracy: {accuracy}\")\n",
    "print(f\"F1 Score: {f1}\")\n",
    "print(f\"Classification Report\\n: {classification_report_}\")"
   ],
   "id": "193890968bcc5dea",
   "outputs": [
    {
     "name": "stdout",
     "output_type": "stream",
     "text": [
      "Epoch 1/200\n",
      "\u001B[1m471/471\u001B[0m \u001B[32m━━━━━━━━━━━━━━━━━━━━\u001B[0m\u001B[37m\u001B[0m \u001B[1m2s\u001B[0m 4ms/step - accuracy: 0.2881 - loss: 3.0721 - val_accuracy: 0.4067 - val_loss: 1.2644 - learning_rate: 1.0000e-04\n",
      "Epoch 2/200\n",
      "\u001B[1m471/471\u001B[0m \u001B[32m━━━━━━━━━━━━━━━━━━━━\u001B[0m\u001B[37m\u001B[0m \u001B[1m2s\u001B[0m 4ms/step - accuracy: 0.3348 - loss: 1.5672 - val_accuracy: 0.4365 - val_loss: 1.2431 - learning_rate: 1.0000e-04\n",
      "Epoch 3/200\n",
      "\u001B[1m471/471\u001B[0m \u001B[32m━━━━━━━━━━━━━━━━━━━━\u001B[0m\u001B[37m\u001B[0m \u001B[1m2s\u001B[0m 4ms/step - accuracy: 0.3559 - loss: 1.3942 - val_accuracy: 0.4721 - val_loss: 1.2046 - learning_rate: 1.0000e-04\n",
      "Epoch 4/200\n",
      "\u001B[1m471/471\u001B[0m \u001B[32m━━━━━━━━━━━━━━━━━━━━\u001B[0m\u001B[37m\u001B[0m \u001B[1m2s\u001B[0m 4ms/step - accuracy: 0.4049 - loss: 1.2991 - val_accuracy: 0.5035 - val_loss: 1.1649 - learning_rate: 1.0000e-04\n",
      "Epoch 5/200\n",
      "\u001B[1m471/471\u001B[0m \u001B[32m━━━━━━━━━━━━━━━━━━━━\u001B[0m\u001B[37m\u001B[0m \u001B[1m2s\u001B[0m 4ms/step - accuracy: 0.4326 - loss: 1.2444 - val_accuracy: 0.5545 - val_loss: 1.1213 - learning_rate: 1.0000e-04\n",
      "Epoch 6/200\n",
      "\u001B[1m471/471\u001B[0m \u001B[32m━━━━━━━━━━━━━━━━━━━━\u001B[0m\u001B[37m\u001B[0m \u001B[1m2s\u001B[0m 4ms/step - accuracy: 0.4569 - loss: 1.1801 - val_accuracy: 0.5720 - val_loss: 1.0753 - learning_rate: 1.0000e-04\n",
      "Epoch 7/200\n",
      "\u001B[1m471/471\u001B[0m \u001B[32m━━━━━━━━━━━━━━━━━━━━\u001B[0m\u001B[37m\u001B[0m \u001B[1m2s\u001B[0m 4ms/step - accuracy: 0.4792 - loss: 1.1441 - val_accuracy: 0.5906 - val_loss: 1.0228 - learning_rate: 1.0000e-04\n",
      "Epoch 8/200\n",
      "\u001B[1m471/471\u001B[0m \u001B[32m━━━━━━━━━━━━━━━━━━━━\u001B[0m\u001B[37m\u001B[0m \u001B[1m2s\u001B[0m 4ms/step - accuracy: 0.5144 - loss: 1.0850 - val_accuracy: 0.6380 - val_loss: 0.9478 - learning_rate: 1.0000e-04\n",
      "Epoch 9/200\n",
      "\u001B[1m471/471\u001B[0m \u001B[32m━━━━━━━━━━━━━━━━━━━━\u001B[0m\u001B[37m\u001B[0m \u001B[1m2s\u001B[0m 4ms/step - accuracy: 0.5632 - loss: 1.0217 - val_accuracy: 0.6847 - val_loss: 0.8928 - learning_rate: 1.0000e-04\n",
      "Epoch 10/200\n",
      "\u001B[1m471/471\u001B[0m \u001B[32m━━━━━━━━━━━━━━━━━━━━\u001B[0m\u001B[37m\u001B[0m \u001B[1m2s\u001B[0m 4ms/step - accuracy: 0.6022 - loss: 0.9608 - val_accuracy: 0.7049 - val_loss: 0.8361 - learning_rate: 1.0000e-04\n",
      "Epoch 11/200\n",
      "\u001B[1m471/471\u001B[0m \u001B[32m━━━━━━━━━━━━━━━━━━━━\u001B[0m\u001B[37m\u001B[0m \u001B[1m2s\u001B[0m 4ms/step - accuracy: 0.6323 - loss: 0.9106 - val_accuracy: 0.7347 - val_loss: 0.7457 - learning_rate: 1.0000e-04\n",
      "Epoch 12/200\n",
      "\u001B[1m471/471\u001B[0m \u001B[32m━━━━━━━━━━━━━━━━━━━━\u001B[0m\u001B[37m\u001B[0m \u001B[1m2s\u001B[0m 4ms/step - accuracy: 0.6722 - loss: 0.8423 - val_accuracy: 0.7826 - val_loss: 0.6600 - learning_rate: 1.0000e-04\n",
      "Epoch 13/200\n",
      "\u001B[1m471/471\u001B[0m \u001B[32m━━━━━━━━━━━━━━━━━━━━\u001B[0m\u001B[37m\u001B[0m \u001B[1m2s\u001B[0m 4ms/step - accuracy: 0.7104 - loss: 0.7472 - val_accuracy: 0.7964 - val_loss: 0.6020 - learning_rate: 1.0000e-04\n",
      "Epoch 14/200\n",
      "\u001B[1m471/471\u001B[0m \u001B[32m━━━━━━━━━━━━━━━━━━━━\u001B[0m\u001B[37m\u001B[0m \u001B[1m2s\u001B[0m 4ms/step - accuracy: 0.7345 - loss: 0.6911 - val_accuracy: 0.8182 - val_loss: 0.5379 - learning_rate: 1.0000e-04\n",
      "Epoch 15/200\n",
      "\u001B[1m471/471\u001B[0m \u001B[32m━━━━━━━━━━━━━━━━━━━━\u001B[0m\u001B[37m\u001B[0m \u001B[1m2s\u001B[0m 4ms/step - accuracy: 0.7660 - loss: 0.6193 - val_accuracy: 0.8400 - val_loss: 0.4784 - learning_rate: 1.0000e-04\n",
      "Epoch 16/200\n",
      "\u001B[1m471/471\u001B[0m \u001B[32m━━━━━━━━━━━━━━━━━━━━\u001B[0m\u001B[37m\u001B[0m \u001B[1m2s\u001B[0m 4ms/step - accuracy: 0.7851 - loss: 0.5667 - val_accuracy: 0.8485 - val_loss: 0.4450 - learning_rate: 1.0000e-04\n",
      "Epoch 17/200\n",
      "\u001B[1m471/471\u001B[0m \u001B[32m━━━━━━━━━━━━━━━━━━━━\u001B[0m\u001B[37m\u001B[0m \u001B[1m2s\u001B[0m 4ms/step - accuracy: 0.8063 - loss: 0.5297 - val_accuracy: 0.8602 - val_loss: 0.4094 - learning_rate: 1.0000e-04\n",
      "Epoch 18/200\n",
      "\u001B[1m471/471\u001B[0m \u001B[32m━━━━━━━━━━━━━━━━━━━━\u001B[0m\u001B[37m\u001B[0m \u001B[1m2s\u001B[0m 4ms/step - accuracy: 0.8235 - loss: 0.4717 - val_accuracy: 0.8660 - val_loss: 0.3887 - learning_rate: 1.0000e-04\n",
      "Epoch 19/200\n",
      "\u001B[1m471/471\u001B[0m \u001B[32m━━━━━━━━━━━━━━━━━━━━\u001B[0m\u001B[37m\u001B[0m \u001B[1m2s\u001B[0m 4ms/step - accuracy: 0.8480 - loss: 0.4219 - val_accuracy: 0.8793 - val_loss: 0.3597 - learning_rate: 1.0000e-04\n",
      "Epoch 20/200\n",
      "\u001B[1m471/471\u001B[0m \u001B[32m━━━━━━━━━━━━━━━━━━━━\u001B[0m\u001B[37m\u001B[0m \u001B[1m2s\u001B[0m 4ms/step - accuracy: 0.8539 - loss: 0.3906 - val_accuracy: 0.8836 - val_loss: 0.3414 - learning_rate: 1.0000e-04\n",
      "Epoch 21/200\n",
      "\u001B[1m471/471\u001B[0m \u001B[32m━━━━━━━━━━━━━━━━━━━━\u001B[0m\u001B[37m\u001B[0m \u001B[1m2s\u001B[0m 4ms/step - accuracy: 0.8790 - loss: 0.3430 - val_accuracy: 0.8873 - val_loss: 0.3283 - learning_rate: 1.0000e-04\n",
      "Epoch 22/200\n",
      "\u001B[1m471/471\u001B[0m \u001B[32m━━━━━━━━━━━━━━━━━━━━\u001B[0m\u001B[37m\u001B[0m \u001B[1m2s\u001B[0m 4ms/step - accuracy: 0.8855 - loss: 0.3249 - val_accuracy: 0.8985 - val_loss: 0.3175 - learning_rate: 1.0000e-04\n",
      "Epoch 23/200\n",
      "\u001B[1m471/471\u001B[0m \u001B[32m━━━━━━━━━━━━━━━━━━━━\u001B[0m\u001B[37m\u001B[0m \u001B[1m2s\u001B[0m 4ms/step - accuracy: 0.8822 - loss: 0.3141 - val_accuracy: 0.8995 - val_loss: 0.3066 - learning_rate: 1.0000e-04\n",
      "Epoch 24/200\n",
      "\u001B[1m471/471\u001B[0m \u001B[32m━━━━━━━━━━━━━━━━━━━━\u001B[0m\u001B[37m\u001B[0m \u001B[1m2s\u001B[0m 4ms/step - accuracy: 0.9003 - loss: 0.2721 - val_accuracy: 0.9022 - val_loss: 0.3089 - learning_rate: 1.0000e-04\n",
      "Epoch 25/200\n",
      "\u001B[1m471/471\u001B[0m \u001B[32m━━━━━━━━━━━━━━━━━━━━\u001B[0m\u001B[37m\u001B[0m \u001B[1m2s\u001B[0m 4ms/step - accuracy: 0.9066 - loss: 0.2440 - val_accuracy: 0.9006 - val_loss: 0.3131 - learning_rate: 1.0000e-04\n",
      "Epoch 26/200\n",
      "\u001B[1m471/471\u001B[0m \u001B[32m━━━━━━━━━━━━━━━━━━━━\u001B[0m\u001B[37m\u001B[0m \u001B[1m2s\u001B[0m 4ms/step - accuracy: 0.9196 - loss: 0.2197 - val_accuracy: 0.8995 - val_loss: 0.2943 - learning_rate: 1.0000e-04\n",
      "Epoch 27/200\n",
      "\u001B[1m471/471\u001B[0m \u001B[32m━━━━━━━━━━━━━━━━━━━━\u001B[0m\u001B[37m\u001B[0m \u001B[1m2s\u001B[0m 4ms/step - accuracy: 0.9248 - loss: 0.2182 - val_accuracy: 0.9016 - val_loss: 0.3159 - learning_rate: 1.0000e-04\n",
      "Epoch 28/200\n",
      "\u001B[1m471/471\u001B[0m \u001B[32m━━━━━━━━━━━━━━━━━━━━\u001B[0m\u001B[37m\u001B[0m \u001B[1m2s\u001B[0m 4ms/step - accuracy: 0.9272 - loss: 0.2060 - val_accuracy: 0.9128 - val_loss: 0.2862 - learning_rate: 1.0000e-04\n",
      "Epoch 29/200\n",
      "\u001B[1m471/471\u001B[0m \u001B[32m━━━━━━━━━━━━━━━━━━━━\u001B[0m\u001B[37m\u001B[0m \u001B[1m2s\u001B[0m 4ms/step - accuracy: 0.9326 - loss: 0.1801 - val_accuracy: 0.9208 - val_loss: 0.2807 - learning_rate: 1.0000e-04\n",
      "Epoch 30/200\n",
      "\u001B[1m471/471\u001B[0m \u001B[32m━━━━━━━━━━━━━━━━━━━━\u001B[0m\u001B[37m\u001B[0m \u001B[1m2s\u001B[0m 4ms/step - accuracy: 0.9352 - loss: 0.1788 - val_accuracy: 0.9192 - val_loss: 0.2673 - learning_rate: 1.0000e-04\n",
      "Epoch 31/200\n",
      "\u001B[1m471/471\u001B[0m \u001B[32m━━━━━━━━━━━━━━━━━━━━\u001B[0m\u001B[37m\u001B[0m \u001B[1m2s\u001B[0m 4ms/step - accuracy: 0.9454 - loss: 0.1636 - val_accuracy: 0.9123 - val_loss: 0.2971 - learning_rate: 1.0000e-04\n",
      "Epoch 32/200\n",
      "\u001B[1m471/471\u001B[0m \u001B[32m━━━━━━━━━━━━━━━━━━━━\u001B[0m\u001B[37m\u001B[0m \u001B[1m2s\u001B[0m 4ms/step - accuracy: 0.9523 - loss: 0.1498 - val_accuracy: 0.9176 - val_loss: 0.2659 - learning_rate: 1.0000e-04\n",
      "Epoch 33/200\n",
      "\u001B[1m471/471\u001B[0m \u001B[32m━━━━━━━━━━━━━━━━━━━━\u001B[0m\u001B[37m\u001B[0m \u001B[1m2s\u001B[0m 4ms/step - accuracy: 0.9534 - loss: 0.1460 - val_accuracy: 0.9213 - val_loss: 0.2916 - learning_rate: 1.0000e-04\n",
      "Epoch 34/200\n",
      "\u001B[1m471/471\u001B[0m \u001B[32m━━━━━━━━━━━━━━━━━━━━\u001B[0m\u001B[37m\u001B[0m \u001B[1m2s\u001B[0m 4ms/step - accuracy: 0.9588 - loss: 0.1278 - val_accuracy: 0.9219 - val_loss: 0.2915 - learning_rate: 1.0000e-04\n",
      "Epoch 35/200\n",
      "\u001B[1m471/471\u001B[0m \u001B[32m━━━━━━━━━━━━━━━━━━━━\u001B[0m\u001B[37m\u001B[0m \u001B[1m2s\u001B[0m 4ms/step - accuracy: 0.9599 - loss: 0.1259 - val_accuracy: 0.9139 - val_loss: 0.3429 - learning_rate: 1.0000e-04\n",
      "Epoch 36/200\n",
      "\u001B[1m471/471\u001B[0m \u001B[32m━━━━━━━━━━━━━━━━━━━━\u001B[0m\u001B[37m\u001B[0m \u001B[1m2s\u001B[0m 4ms/step - accuracy: 0.9619 - loss: 0.1041 - val_accuracy: 0.9399 - val_loss: 0.2425 - learning_rate: 1.0000e-04\n",
      "Epoch 37/200\n",
      "\u001B[1m471/471\u001B[0m \u001B[32m━━━━━━━━━━━━━━━━━━━━\u001B[0m\u001B[37m\u001B[0m \u001B[1m2s\u001B[0m 4ms/step - accuracy: 0.9607 - loss: 0.1138 - val_accuracy: 0.9320 - val_loss: 0.2671 - learning_rate: 1.0000e-04\n",
      "Epoch 38/200\n",
      "\u001B[1m471/471\u001B[0m \u001B[32m━━━━━━━━━━━━━━━━━━━━\u001B[0m\u001B[37m\u001B[0m \u001B[1m2s\u001B[0m 4ms/step - accuracy: 0.9647 - loss: 0.1103 - val_accuracy: 0.9240 - val_loss: 0.2934 - learning_rate: 1.0000e-04\n",
      "Epoch 39/200\n",
      "\u001B[1m471/471\u001B[0m \u001B[32m━━━━━━━━━━━━━━━━━━━━\u001B[0m\u001B[37m\u001B[0m \u001B[1m2s\u001B[0m 4ms/step - accuracy: 0.9680 - loss: 0.0908 - val_accuracy: 0.9341 - val_loss: 0.2487 - learning_rate: 1.0000e-04\n",
      "Epoch 40/200\n",
      "\u001B[1m471/471\u001B[0m \u001B[32m━━━━━━━━━━━━━━━━━━━━\u001B[0m\u001B[37m\u001B[0m \u001B[1m2s\u001B[0m 4ms/step - accuracy: 0.9697 - loss: 0.0935 - val_accuracy: 0.9256 - val_loss: 0.2698 - learning_rate: 1.0000e-04\n",
      "Epoch 41/200\n",
      "\u001B[1m471/471\u001B[0m \u001B[32m━━━━━━━━━━━━━━━━━━━━\u001B[0m\u001B[37m\u001B[0m \u001B[1m2s\u001B[0m 4ms/step - accuracy: 0.9711 - loss: 0.0898 - val_accuracy: 0.9250 - val_loss: 0.3469 - learning_rate: 1.0000e-04\n",
      "Epoch 42/200\n",
      "\u001B[1m471/471\u001B[0m \u001B[32m━━━━━━━━━━━━━━━━━━━━\u001B[0m\u001B[37m\u001B[0m \u001B[1m2s\u001B[0m 4ms/step - accuracy: 0.9768 - loss: 0.0789 - val_accuracy: 0.9309 - val_loss: 0.2880 - learning_rate: 1.0000e-05\n",
      "Epoch 43/200\n",
      "\u001B[1m471/471\u001B[0m \u001B[32m━━━━━━━━━━━━━━━━━━━━\u001B[0m\u001B[37m\u001B[0m \u001B[1m2s\u001B[0m 4ms/step - accuracy: 0.9777 - loss: 0.0691 - val_accuracy: 0.9314 - val_loss: 0.2778 - learning_rate: 1.0000e-05\n",
      "Epoch 44/200\n",
      "\u001B[1m471/471\u001B[0m \u001B[32m━━━━━━━━━━━━━━━━━━━━\u001B[0m\u001B[37m\u001B[0m \u001B[1m2s\u001B[0m 4ms/step - accuracy: 0.9794 - loss: 0.0760 - val_accuracy: 0.9314 - val_loss: 0.2740 - learning_rate: 1.0000e-05\n",
      "Epoch 45/200\n",
      "\u001B[1m471/471\u001B[0m \u001B[32m━━━━━━━━━━━━━━━━━━━━\u001B[0m\u001B[37m\u001B[0m \u001B[1m2s\u001B[0m 4ms/step - accuracy: 0.9834 - loss: 0.0556 - val_accuracy: 0.9320 - val_loss: 0.2746 - learning_rate: 1.0000e-05\n",
      "Epoch 46/200\n",
      "\u001B[1m471/471\u001B[0m \u001B[32m━━━━━━━━━━━━━━━━━━━━\u001B[0m\u001B[37m\u001B[0m \u001B[1m2s\u001B[0m 4ms/step - accuracy: 0.9839 - loss: 0.0536 - val_accuracy: 0.9335 - val_loss: 0.2820 - learning_rate: 1.0000e-05\n",
      "Epoch 47/200\n",
      "\u001B[1m471/471\u001B[0m \u001B[32m━━━━━━━━━━━━━━━━━━━━\u001B[0m\u001B[37m\u001B[0m \u001B[1m2s\u001B[0m 4ms/step - accuracy: 0.9799 - loss: 0.0616 - val_accuracy: 0.9335 - val_loss: 0.2814 - learning_rate: 1.0000e-06\n",
      "Epoch 48/200\n",
      "\u001B[1m471/471\u001B[0m \u001B[32m━━━━━━━━━━━━━━━━━━━━\u001B[0m\u001B[37m\u001B[0m \u001B[1m2s\u001B[0m 4ms/step - accuracy: 0.9802 - loss: 0.0610 - val_accuracy: 0.9330 - val_loss: 0.2810 - learning_rate: 1.0000e-06\n",
      "Epoch 49/200\n",
      "\u001B[1m471/471\u001B[0m \u001B[32m━━━━━━━━━━━━━━━━━━━━\u001B[0m\u001B[37m\u001B[0m \u001B[1m2s\u001B[0m 4ms/step - accuracy: 0.9815 - loss: 0.0601 - val_accuracy: 0.9325 - val_loss: 0.2819 - learning_rate: 1.0000e-06\n",
      "Epoch 50/200\n",
      "\u001B[1m471/471\u001B[0m \u001B[32m━━━━━━━━━━━━━━━━━━━━\u001B[0m\u001B[37m\u001B[0m \u001B[1m2s\u001B[0m 4ms/step - accuracy: 0.9823 - loss: 0.0570 - val_accuracy: 0.9320 - val_loss: 0.2826 - learning_rate: 1.0000e-06\n",
      "Epoch 51/200\n",
      "\u001B[1m471/471\u001B[0m \u001B[32m━━━━━━━━━━━━━━━━━━━━\u001B[0m\u001B[37m\u001B[0m \u001B[1m2s\u001B[0m 4ms/step - accuracy: 0.9777 - loss: 0.0657 - val_accuracy: 0.9320 - val_loss: 0.2825 - learning_rate: 1.0000e-06\n",
      "Epoch 52/200\n",
      "\u001B[1m471/471\u001B[0m \u001B[32m━━━━━━━━━━━━━━━━━━━━\u001B[0m\u001B[37m\u001B[0m \u001B[1m2s\u001B[0m 4ms/step - accuracy: 0.9819 - loss: 0.0608 - val_accuracy: 0.9320 - val_loss: 0.2826 - learning_rate: 1.0000e-07\n",
      "Epoch 53/200\n",
      "\u001B[1m471/471\u001B[0m \u001B[32m━━━━━━━━━━━━━━━━━━━━\u001B[0m\u001B[37m\u001B[0m \u001B[1m2s\u001B[0m 4ms/step - accuracy: 0.9814 - loss: 0.0563 - val_accuracy: 0.9320 - val_loss: 0.2825 - learning_rate: 1.0000e-07\n",
      "Epoch 54/200\n",
      "\u001B[1m471/471\u001B[0m \u001B[32m━━━━━━━━━━━━━━━━━━━━\u001B[0m\u001B[37m\u001B[0m \u001B[1m2s\u001B[0m 4ms/step - accuracy: 0.9838 - loss: 0.0500 - val_accuracy: 0.9320 - val_loss: 0.2823 - learning_rate: 1.0000e-07\n",
      "Epoch 55/200\n",
      "\u001B[1m471/471\u001B[0m \u001B[32m━━━━━━━━━━━━━━━━━━━━\u001B[0m\u001B[37m\u001B[0m \u001B[1m2s\u001B[0m 4ms/step - accuracy: 0.9855 - loss: 0.0523 - val_accuracy: 0.9320 - val_loss: 0.2823 - learning_rate: 1.0000e-07\n",
      "Epoch 56/200\n",
      "\u001B[1m471/471\u001B[0m \u001B[32m━━━━━━━━━━━━━━━━━━━━\u001B[0m\u001B[37m\u001B[0m \u001B[1m2s\u001B[0m 4ms/step - accuracy: 0.9819 - loss: 0.0583 - val_accuracy: 0.9320 - val_loss: 0.2825 - learning_rate: 1.0000e-07\n",
      "\u001B[1m74/74\u001B[0m \u001B[32m━━━━━━━━━━━━━━━━━━━━\u001B[0m\u001B[37m\u001B[0m \u001B[1m0s\u001B[0m 1ms/step  \n",
      "Accuracy: 0.9187925170068028\n",
      "F1 Score: 0.9195744680851063\n",
      "Classification Report\n",
      ":                precision    recall  f1-score   support\n",
      "\n",
      "     misogyny       0.92      0.75      0.83       603\n",
      "offensiveness       0.95      1.00      0.97       564\n",
      "      sarcasm       0.87      0.95      0.91       569\n",
      "  harmfulness       0.94      0.99      0.96       616\n",
      "\n",
      "    micro avg       0.92      0.92      0.92      2352\n",
      "    macro avg       0.92      0.92      0.92      2352\n",
      " weighted avg       0.92      0.92      0.92      2352\n",
      "  samples avg       0.92      0.92      0.92      2352\n",
      "\n"
     ]
    }
   ],
   "execution_count": 13
  },
  {
   "metadata": {
    "ExecuteTime": {
     "end_time": "2024-12-06T01:54:53.155055Z",
     "start_time": "2024-12-06T01:54:53.075857Z"
    }
   },
   "cell_type": "code",
   "source": [
    "import matplotlib.pyplot as plt\n",
    "\n",
    "plt.plot(hist.history['loss'])\n",
    "plt.plot(hist.history['val_loss'])\n",
    "plt.title('model loss')\n",
    "plt.ylabel('loss')\n",
    "plt.xlabel('epoch')\n",
    "plt.legend(['train', 'validation'], loc='upper right')\n",
    "plt.show()"
   ],
   "id": "47cc2c4b91702617",
   "outputs": [
    {
     "data": {
      "text/plain": [
       "<Figure size 640x480 with 1 Axes>"
      ],
      "image/png": "[encoded data removed]"
     },
     "metadata": {},
     "output_type": "display_data"
    }
   ],
   "execution_count": 14
  },
  {
   "metadata": {
    "ExecuteTime": {
     "end_time": "2024-12-06T01:54:53.216156Z",
     "start_time": "2024-12-06T01:54:53.158991Z"
    }
   },
   "cell_type": "code",
   "source": [
    "plt.plot(hist.history['accuracy'])\n",
    "plt.plot(hist.history['val_accuracy'])\n",
    "plt.title('model accuracy')\n",
    "plt.ylabel('accuracy')\n",
    "plt.xlabel('epoch')\n",
    "plt.legend(['train', 'validation'], loc='upper left')\n",
    "plt.show()"
   ],
   "id": "a0de9d58f4556c49",
   "outputs": [
    {
     "data": {
      "text/plain": [
       "<Figure size 640x480 with 1 Axes>"
      ],
      "image/png": "[encoded data removed]"
     },
     "metadata": {},
     "output_type": "display_data"
    }
   ],
   "execution_count": 15
  },
  {
   "metadata": {
    "ExecuteTime": {
     "end_time": "2024-12-06T01:54:53.224945Z",
     "start_time": "2024-12-06T01:54:53.222359Z"
    }
   },
   "cell_type": "code",
   "source": "predictions",
   "id": "8269766d6fdefc6a",
   "outputs": [
    {
     "data": {
      "text/plain": [
       "array([[5.3645700e-04, 9.9946332e-01, 2.5845056e-08, 1.2792553e-07],\n",
       "       [2.5228407e-02, 1.0536655e-08, 9.7477156e-01, 1.5817980e-10],\n",
       "       [7.9726015e-04, 9.9919713e-01, 7.0626390e-07, 4.8978636e-06],\n",
       "       ...,\n",
       "       [1.1895048e-05, 9.3886783e-09, 1.1814495e-11, 9.9998808e-01],\n",
       "       [4.1868479e-04, 9.9957716e-01, 2.2005370e-06, 1.9990425e-06],\n",
       "       [1.5273439e-02, 3.3088727e-07, 9.8472619e-01, 3.0537346e-09]],\n",
       "      dtype=float32)"
      ]
     },
     "execution_count": 16,
     "metadata": {},
     "output_type": "execute_result"
    }
   ],
   "execution_count": 16
  },
  {
   "metadata": {
    "ExecuteTime": {
     "end_time": "2024-12-06T01:54:53.256486Z",
     "start_time": "2024-12-06T01:54:53.253420Z"
    }
   },
   "cell_type": "code",
   "source": "predicted_labels",
   "id": "bf270075e0ab3f6e",
   "outputs": [
    {
     "data": {
      "text/plain": [
       "array([[0, 1, 0, 0],\n",
       "       [0, 0, 1, 0],\n",
       "       [0, 1, 0, 0],\n",
       "       ...,\n",
       "       [0, 0, 0, 1],\n",
       "       [0, 1, 0, 0],\n",
       "       [0, 0, 1, 0]])"
      ]
     },
     "execution_count": 17,
     "metadata": {},
     "output_type": "execute_result"
    }
   ],
   "execution_count": 17
  },
  {
   "metadata": {
    "ExecuteTime": {
     "end_time": "2024-12-06T01:54:53.293580Z",
     "start_time": "2024-12-06T01:54:53.290678Z"
    }
   },
   "cell_type": "code",
   "source": "y_test",
   "id": "2d175d826816155e",
   "outputs": [
    {
     "data": {
      "text/plain": [
       "array([[0, 1, 0, 0],\n",
       "       [0, 0, 1, 0],\n",
       "       [0, 1, 0, 0],\n",
       "       ...,\n",
       "       [0, 0, 0, 1],\n",
       "       [0, 1, 0, 0],\n",
       "       [0, 0, 1, 0]])"
      ]
     },
     "execution_count": 18,
     "metadata": {},
     "output_type": "execute_result"
    }
   ],
   "execution_count": 18
  },
  {
   "metadata": {
    "ExecuteTime": {
     "end_time": "2024-12-06T01:54:53.363897Z",
     "start_time": "2024-12-06T01:54:53.361447Z"
    }
   },
   "cell_type": "code",
   "source": "y_train.argmax(axis=1)",
   "id": "56af60bcc53d20d7",
   "outputs": [
    {
     "data": {
      "text/plain": [
       "array([3, 0, 1, ..., 1, 0, 2])"
      ]
     },
     "execution_count": 19,
     "metadata": {},
     "output_type": "execute_result"
    }
   ],
   "execution_count": 19
  },
  {
   "metadata": {
    "ExecuteTime": {
     "end_time": "2024-12-06T01:58:04.826742Z",
     "start_time": "2024-12-06T01:57:48.628458Z"
    }
   },
   "cell_type": "code",
   "source": [
    "from sklearn.linear_model import LogisticRegression\n",
    "\n",
    "lr_model = LogisticRegression(max_iter = 1000)\n",
    "lr_model.fit(X_train, y_train.argmax(axis=1))\n",
    "\n",
    "lr_model.score(X_train, y_train.argmax(axis=1)), lr_model.score(X_test, y_test.argmax(axis=1))\n",
    "\n",
    "predicted_labels = lr_model.predict(X_test)\n",
    "accuracy = accuracy_score(y_test.argmax(axis=1), predicted_labels)\n",
    "classification_report_ = classification_report(y_test.argmax(axis=1), predicted_labels, zero_division=0, target_names=classes)\n",
    "\n",
    "print(f\"Accuracy: {accuracy}\")\n",
    "print(f\"Classification Report\\n: {classification_report_}\")"
   ],
   "id": "9ae4ef2ac5c8dd7b",
   "outputs": [
    {
     "name": "stdout",
     "output_type": "stream",
     "text": [
      "Accuracy: 0.8664965986394558\n",
      "Classification Report\n",
      ":                precision    recall  f1-score   support\n",
      "\n",
      "     misogyny       0.82      0.66      0.73       603\n",
      "offensiveness       0.89      0.99      0.93       564\n",
      "      sarcasm       0.87      0.89      0.88       569\n",
      "  harmfulness       0.88      0.94      0.91       616\n",
      "\n",
      "     accuracy                           0.87      2352\n",
      "    macro avg       0.86      0.87      0.86      2352\n",
      " weighted avg       0.86      0.87      0.86      2352\n",
      "\n"
     ]
    },
    {
     "name": "stderr",
     "output_type": "stream",
     "text": [
      "/Users/gvssriram/Desktop/projects-internship/sarcasm-detector/.venv/lib/python3.12/site-packages/sklearn/linear_model/_logistic.py:469: ConvergenceWarning: lbfgs failed to converge (status=1):\n",
      "STOP: TOTAL NO. of ITERATIONS REACHED LIMIT.\n",
      "\n",
      "Increase the number of iterations (max_iter) or scale the data as shown in:\n",
      "    https://scikit-learn.org/stable/modules/preprocessing.html\n",
      "Please also refer to the documentation for alternative solver options:\n",
      "    https://scikit-learn.org/stable/modules/linear_model.html#logistic-regression\n",
      "  n_iter_i = _check_optimize_result(\n"
     ]
    }
   ],
   "execution_count": 25
  },
  {
   "metadata": {
    "ExecuteTime": {
     "end_time": "2024-12-06T02:00:40.531942Z",
     "start_time": "2024-12-06T01:59:03.326663Z"
    }
   },
   "cell_type": "code",
   "source": [
    "from sklearn.svm import SVC\n",
    "\n",
    "svc_model = SVC()\n",
    "svc_model.fit(X_train, y_train.argmax(axis=1))\n",
    "\n",
    "svc_model.score(X_train, y_train.argmax(axis=1)), svc_model.score(X_test, y_test.argmax(axis=1))\n",
    "\n",
    "predicted_labels = svc_model.predict(X_test)\n",
    "accuracy = accuracy_score(y_test.argmax(axis=1), predicted_labels)\n",
    "classification_report_ = classification_report(y_test.argmax(axis=1), predicted_labels, zero_division=0, target_names=classes)\n",
    "\n",
    "print(f\"Accuracy: {accuracy}\")\n",
    "print(f\"Classification Report\\n: {classification_report_}\")"
   ],
   "id": "15a7c0f3b823139b",
   "outputs": [
    {
     "name": "stdout",
     "output_type": "stream",
     "text": [
      "Accuracy: 0.8405612244897959\n",
      "Classification Report\n",
      ":                precision    recall  f1-score   support\n",
      "\n",
      "     misogyny       0.82      0.65      0.73       603\n",
      "offensiveness       0.86      0.96      0.91       564\n",
      "      sarcasm       0.80      0.81      0.80       569\n",
      "  harmfulness       0.87      0.95      0.90       616\n",
      "\n",
      "     accuracy                           0.84      2352\n",
      "    macro avg       0.84      0.84      0.84      2352\n",
      " weighted avg       0.84      0.84      0.84      2352\n",
      "\n"
     ]
    }
   ],
   "execution_count": 26
  },
  {
   "metadata": {
    "ExecuteTime": {
     "end_time": "2024-12-06T02:06:46.345563Z",
     "start_time": "2024-12-06T02:06:37.335234Z"
    }
   },
   "cell_type": "code",
   "source": [
    "from sklearn.ensemble import RandomForestClassifier\n",
    "\n",
    "rf_model = RandomForestClassifier()\n",
    "rf_model.fit(X_train, y_train.argmax(axis=1))\n",
    "\n",
    "rf_model.score(X_train, y_train.argmax(axis=1)), rf_model.score(X_test, y_test.argmax(axis=1))\n",
    "\n",
    "predicted_labels = rf_model.predict(X_test)\n",
    "accuracy = accuracy_score(y_test.argmax(axis=1), predicted_labels)\n",
    "classification_report_ = classification_report(y_test.argmax(axis=1), predicted_labels, zero_division=0, target_names=classes)\n",
    "\n",
    "print(f\"Accuracy: {accuracy}\")\n",
    "print(f\"Classification Report\\n: {classification_report_}\")"
   ],
   "id": "b74ae3484d323f1b",
   "outputs": [
    {
     "name": "stdout",
     "output_type": "stream",
     "text": [
      "Accuracy: 0.9175170068027211\n",
      "Classification Report\n",
      ":                precision    recall  f1-score   support\n",
      "\n",
      "     misogyny       0.91      0.77      0.83       603\n",
      "offensiveness       0.91      0.99      0.95       564\n",
      "      sarcasm       0.91      0.94      0.92       569\n",
      "  harmfulness       0.93      0.98      0.95       616\n",
      "\n",
      "     accuracy                           0.92      2352\n",
      "    macro avg       0.92      0.92      0.92      2352\n",
      " weighted avg       0.92      0.92      0.92      2352\n",
      "\n"
     ]
    }
   ],
   "execution_count": 32
  },
  {
   "metadata": {
    "ExecuteTime": {
     "end_time": "2024-12-06T02:09:49.567278Z",
     "start_time": "2024-12-06T02:09:49.560953Z"
    }
   },
   "cell_type": "code",
   "source": "classification_report(y_test.argmax(axis=1), predicted_labels, zero_division=np.nan, target_names=classes)",
   "id": "1b13d713f8b1d307",
   "outputs": [
    {
     "data": {
      "text/plain": [
       "'               precision    recall  f1-score   support\\n\\n     misogyny       0.93      0.85      0.89       603\\noffensiveness       0.95      0.99      0.97       564\\n      sarcasm       0.93      0.95      0.94       569\\n  harmfulness       0.96      0.98      0.97       616\\n\\n     accuracy                           0.94      2352\\n    macro avg       0.94      0.94      0.94      2352\\n weighted avg       0.94      0.94      0.94      2352\\n'"
      ]
     },
     "execution_count": 34,
     "metadata": {},
     "output_type": "execute_result"
    }
   ],
   "execution_count": 34
  },
  {
   "metadata": {
    "ExecuteTime": {
     "end_time": "2024-12-06T02:11:54.996561Z",
     "start_time": "2024-12-06T02:11:48.555690Z"
    }
   },
   "cell_type": "code",
   "source": [
    "from xgboost import XGBClassifier\n",
    "\n",
    "xgb_model = XGBClassifier()\n",
    "xgb_model.fit(X_train, y_train.argmax(axis=1))\n",
    "xgb_model.score(X_train, y_train.argmax(axis=1)), xgb_model.score(X_test, y_test.argmax(axis=1))\n",
    "\n",
    "predicted_labels = xgb_model.predict(X_test)\n",
    "accuracy = accuracy_score(y_test.argmax(axis=1), predicted_labels)\n",
    "classification_report_ = classification_report(y_test.argmax(axis=1), predicted_labels, target_names=classes)\n",
    "\n",
    "print(f\"Accuracy: {accuracy}\")\n",
    "print(f\"Classification Report\\n: {classification_report_}\")"
   ],
   "id": "c6f9f7d05c6540c3",
   "outputs": [
    {
     "name": "stdout",
     "output_type": "stream",
     "text": [
      "Accuracy: 0.9056122448979592\n",
      "Classification Report\n",
      ":                precision    recall  f1-score   support\n",
      "\n",
      "     misogyny       0.91      0.71      0.80       603\n",
      "offensiveness       0.93      1.00      0.96       564\n",
      "      sarcasm       0.88      0.92      0.90       569\n",
      "  harmfulness       0.90      0.99      0.95       616\n",
      "\n",
      "     accuracy                           0.91      2352\n",
      "    macro avg       0.91      0.91      0.90      2352\n",
      " weighted avg       0.91      0.91      0.90      2352\n",
      "\n"
     ]
    }
   ],
   "execution_count": 35
  },
  {
   "metadata": {},
   "cell_type": "code",
   "outputs": [],
   "execution_count": null,
   "source": "",
   "id": "d2c54d65bab9a7d4"
  }
 ],
 "metadata": {
  "kernelspec": {
   "name": "python3",
   "language": "python",
   "display_name": "Python 3 (ipykernel)"
  }
 },
 "nbformat": 5,
 "nbformat_minor": 9
}
