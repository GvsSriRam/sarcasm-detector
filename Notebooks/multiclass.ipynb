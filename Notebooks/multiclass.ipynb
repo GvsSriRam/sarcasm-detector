{
 "cells": [
  {
   "metadata": {
    "ExecuteTime": {
     "end_time": "2024-12-05T19:53:23.917836Z",
     "start_time": "2024-12-05T19:53:23.523358Z"
    }
   },
   "cell_type": "code",
   "source": [
    "import numpy as np\n",
    "import pandas as pd\n",
    "import os\n",
    "import json"
   ],
   "id": "2a86f74b0156b8c9",
   "outputs": [],
   "execution_count": 1
  },
  {
   "metadata": {
    "ExecuteTime": {
     "end_time": "2024-12-05T19:53:23.936510Z",
     "start_time": "2024-12-05T19:53:23.923100Z"
    }
   },
   "cell_type": "code",
   "source": [
    "labels = np.load(\"../Data/preprocessed/labels.npy\", allow_pickle=True)\n",
    "embeddings = np.load(\"../Data/preprocessed/embeddings.npy\", allow_pickle=True)"
   ],
   "id": "2af74df5baac3f2f",
   "outputs": [],
   "execution_count": 2
  },
  {
   "metadata": {
    "ExecuteTime": {
     "end_time": "2024-12-05T19:53:24.046541Z",
     "start_time": "2024-12-05T19:53:24.043015Z"
    }
   },
   "cell_type": "code",
   "source": "labels.shape, embeddings.shape",
   "id": "1cb65d5245beab2c",
   "outputs": [
    {
     "data": {
      "text/plain": [
       "((4572, 4), (4572, 1280))"
      ]
     },
     "execution_count": 3,
     "metadata": {},
     "output_type": "execute_result"
    }
   ],
   "execution_count": 3
  },
  {
   "metadata": {
    "ExecuteTime": {
     "end_time": "2024-12-05T19:53:24.057050Z",
     "start_time": "2024-12-05T19:53:24.054691Z"
    }
   },
   "cell_type": "code",
   "source": "embeddings.dtype, labels.dtype",
   "id": "fcec76cf0d564b7e",
   "outputs": [
    {
     "data": {
      "text/plain": [
       "(dtype('float32'), dtype('int64'))"
      ]
     },
     "execution_count": 4,
     "metadata": {},
     "output_type": "execute_result"
    }
   ],
   "execution_count": 4
  },
  {
   "metadata": {
    "ExecuteTime": {
     "end_time": "2024-12-05T19:53:25.819012Z",
     "start_time": "2024-12-05T19:53:24.066242Z"
    }
   },
   "cell_type": "code",
   "source": [
    "# Separate \"all 0\" samples\n",
    "all_zero_indices = np.where(np.sum(labels, axis=1) == 0)[0]\n",
    "embeddings_all_zero = embeddings[all_zero_indices]\n",
    "labels_all_zero = labels[all_zero_indices]\n",
    "\n",
    "from imblearn.over_sampling import SMOTE\n",
    "\n",
    "smote = SMOTE(random_state=42)\n",
    "embeddings_resampled, labels_resampled = smote.fit_resample(embeddings, labels)\n",
    "\n",
    "embeddings_resampled_final = np.concatenate([embeddings_resampled, embeddings_all_zero], axis=0)\n",
    "labels_resampled_final = np.concatenate([labels_resampled, labels_all_zero], axis=0)"
   ],
   "id": "b55c843d983a7591",
   "outputs": [],
   "execution_count": 5
  },
  {
   "metadata": {
    "ExecuteTime": {
     "end_time": "2024-12-05T19:53:25.858426Z",
     "start_time": "2024-12-05T19:53:25.839961Z"
    }
   },
   "cell_type": "code",
   "source": "pd.DataFrame(labels).value_counts()",
   "id": "2a5980cf55e3f4a2",
   "outputs": [
    {
     "data": {
      "text/plain": [
       "0  1  2  3\n",
       "0  0  0  0    2439\n",
       "      1  0     910\n",
       "1  0  0  0     500\n",
       "0  0  0  1     420\n",
       "   1  0  0     303\n",
       "Name: count, dtype: int64"
      ]
     },
     "execution_count": 6,
     "metadata": {},
     "output_type": "execute_result"
    }
   ],
   "execution_count": 6
  },
  {
   "metadata": {
    "ExecuteTime": {
     "end_time": "2024-12-05T19:53:25.913440Z",
     "start_time": "2024-12-05T19:53:25.908525Z"
    }
   },
   "cell_type": "code",
   "source": "pd.DataFrame(labels_resampled).value_counts()",
   "id": "1e6247c75428087d",
   "outputs": [
    {
     "data": {
      "text/plain": [
       "0  1  2  3\n",
       "0  0  0  1    2939\n",
       "      1  0    2939\n",
       "   1  0  0    2939\n",
       "1  0  0  0    2939\n",
       "Name: count, dtype: int64"
      ]
     },
     "execution_count": 7,
     "metadata": {},
     "output_type": "execute_result"
    }
   ],
   "execution_count": 7
  },
  {
   "metadata": {
    "ExecuteTime": {
     "end_time": "2024-12-05T19:53:25.956458Z",
     "start_time": "2024-12-05T19:53:25.949527Z"
    }
   },
   "cell_type": "code",
   "source": "pd.DataFrame(labels_resampled_final).value_counts()",
   "id": "21a0efbec6210f82",
   "outputs": [
    {
     "data": {
      "text/plain": [
       "0  1  2  3\n",
       "0  0  0  1    2939\n",
       "      1  0    2939\n",
       "   1  0  0    2939\n",
       "1  0  0  0    2939\n",
       "0  0  0  0    2439\n",
       "Name: count, dtype: int64"
      ]
     },
     "execution_count": 8,
     "metadata": {},
     "output_type": "execute_result"
    }
   ],
   "execution_count": 8
  },
  {
   "metadata": {
    "ExecuteTime": {
     "end_time": "2024-12-05T19:53:26.013940Z",
     "start_time": "2024-12-05T19:53:26.000802Z"
    }
   },
   "cell_type": "code",
   "source": [
    "from sklearn.model_selection import train_test_split\n",
    "\n",
    "X_train, X_test, y_train, y_test = train_test_split(embeddings_resampled, labels_resampled, test_size=0.2, random_state=42)"
   ],
   "id": "fcb749ce64d66135",
   "outputs": [],
   "execution_count": 9
  },
  {
   "metadata": {
    "ExecuteTime": {
     "end_time": "2024-12-05T19:53:29.630094Z",
     "start_time": "2024-12-05T19:53:26.032493Z"
    }
   },
   "cell_type": "code",
   "source": [
    "from tensorflow.keras.layers import Input, Dense, concatenate, Dropout\n",
    "from tensorflow.keras.models import Model\n",
    "from tensorflow.keras.optimizers import Adam\n",
    "from tensorflow.keras.callbacks import EarlyStopping, ReduceLROnPlateau, ModelCheckpoint\n",
    "\n",
    "from sklearn.metrics import accuracy_score, f1_score\n",
    "\n",
    "# --- Create the multi-label classification model ---\n",
    "input_layer = Input(shape=(X_train.shape[1],))  # Input shape based on embeddings\n",
    "hidden_layer1 = Dense(512, activation='relu')(input_layer)\n",
    "dropout_layer = Dropout(0.5)(hidden_layer1)  # Add dropout for regularization\n",
    "hidden_layer2 = Dense(256, activation='relu')(dropout_layer)\n",
    "dropout_layer2 = Dropout(0.5)(hidden_layer2)  # Add dropout for regularization\n",
    "hidden_layer3 = Dense(128, activation='relu')(dropout_layer2)\n",
    "dropout_layer3 = Dropout(0.5)(hidden_layer3)  # Add dropout for regularization\n",
    "hidden_layer4 = Dense(64, activation='relu')(dropout_layer3)\n",
    "output_layer = Dense(y_train.shape[1], activation='softmax')(hidden_layer4)\n",
    "\n",
    "model = Model(inputs=input_layer, outputs=output_layer)\n",
    "\n",
    "# Compile the model\n",
    "model.compile(optimizer=Adam(learning_rate=0.0001), loss='categorical_crossentropy', metrics=['accuracy'])"
   ],
   "id": "a254e116e11300a",
   "outputs": [],
   "execution_count": 10
  },
  {
   "metadata": {
    "ExecuteTime": {
     "end_time": "2024-12-05T19:53:29.731613Z",
     "start_time": "2024-12-05T19:53:29.724833Z"
    }
   },
   "cell_type": "code",
   "source": "model.summary()",
   "id": "8feabdd0e21a99c4",
   "outputs": [
    {
     "data": {
      "text/plain": [
       "\u001B[1mModel: \"functional\"\u001B[0m\n"
      ],
      "text/html": [
       "<pre style=\"white-space:pre;overflow-x:auto;line-height:normal;font-family:Menlo,'DejaVu Sans Mono',consolas,'Courier New',monospace\"><span style=\"font-weight: bold\">Model: \"functional\"</span>\n",
       "</pre>\n"
      ]
     },
     "metadata": {},
     "output_type": "display_data"
    },
    {
     "data": {
      "text/plain": [
       "┏━━━━━━━━━━━━━━━━━━━━━━━━━━━━━━━━━┳━━━━━━━━━━━━━━━━━━━━━━━━┳━━━━━━━━━━━━━━━┓\n",
       "┃\u001B[1m \u001B[0m\u001B[1mLayer (type)                   \u001B[0m\u001B[1m \u001B[0m┃\u001B[1m \u001B[0m\u001B[1mOutput Shape          \u001B[0m\u001B[1m \u001B[0m┃\u001B[1m \u001B[0m\u001B[1m      Param #\u001B[0m\u001B[1m \u001B[0m┃\n",
       "┡━━━━━━━━━━━━━━━━━━━━━━━━━━━━━━━━━╇━━━━━━━━━━━━━━━━━━━━━━━━╇━━━━━━━━━━━━━━━┩\n",
       "│ input_layer (\u001B[38;5;33mInputLayer\u001B[0m)        │ (\u001B[38;5;45mNone\u001B[0m, \u001B[38;5;34m1280\u001B[0m)           │             \u001B[38;5;34m0\u001B[0m │\n",
       "├─────────────────────────────────┼────────────────────────┼───────────────┤\n",
       "│ dense (\u001B[38;5;33mDense\u001B[0m)                   │ (\u001B[38;5;45mNone\u001B[0m, \u001B[38;5;34m512\u001B[0m)            │       \u001B[38;5;34m655,872\u001B[0m │\n",
       "├─────────────────────────────────┼────────────────────────┼───────────────┤\n",
       "│ dropout (\u001B[38;5;33mDropout\u001B[0m)               │ (\u001B[38;5;45mNone\u001B[0m, \u001B[38;5;34m512\u001B[0m)            │             \u001B[38;5;34m0\u001B[0m │\n",
       "├─────────────────────────────────┼────────────────────────┼───────────────┤\n",
       "│ dense_1 (\u001B[38;5;33mDense\u001B[0m)                 │ (\u001B[38;5;45mNone\u001B[0m, \u001B[38;5;34m256\u001B[0m)            │       \u001B[38;5;34m131,328\u001B[0m │\n",
       "├─────────────────────────────────┼────────────────────────┼───────────────┤\n",
       "│ dropout_1 (\u001B[38;5;33mDropout\u001B[0m)             │ (\u001B[38;5;45mNone\u001B[0m, \u001B[38;5;34m256\u001B[0m)            │             \u001B[38;5;34m0\u001B[0m │\n",
       "├─────────────────────────────────┼────────────────────────┼───────────────┤\n",
       "│ dense_2 (\u001B[38;5;33mDense\u001B[0m)                 │ (\u001B[38;5;45mNone\u001B[0m, \u001B[38;5;34m128\u001B[0m)            │        \u001B[38;5;34m32,896\u001B[0m │\n",
       "├─────────────────────────────────┼────────────────────────┼───────────────┤\n",
       "│ dropout_2 (\u001B[38;5;33mDropout\u001B[0m)             │ (\u001B[38;5;45mNone\u001B[0m, \u001B[38;5;34m128\u001B[0m)            │             \u001B[38;5;34m0\u001B[0m │\n",
       "├─────────────────────────────────┼────────────────────────┼───────────────┤\n",
       "│ dense_3 (\u001B[38;5;33mDense\u001B[0m)                 │ (\u001B[38;5;45mNone\u001B[0m, \u001B[38;5;34m64\u001B[0m)             │         \u001B[38;5;34m8,256\u001B[0m │\n",
       "├─────────────────────────────────┼────────────────────────┼───────────────┤\n",
       "│ dense_4 (\u001B[38;5;33mDense\u001B[0m)                 │ (\u001B[38;5;45mNone\u001B[0m, \u001B[38;5;34m4\u001B[0m)              │           \u001B[38;5;34m260\u001B[0m │\n",
       "└─────────────────────────────────┴────────────────────────┴───────────────┘\n"
      ],
      "text/html": [
       "<pre style=\"white-space:pre;overflow-x:auto;line-height:normal;font-family:Menlo,'DejaVu Sans Mono',consolas,'Courier New',monospace\">┏━━━━━━━━━━━━━━━━━━━━━━━━━━━━━━━━━┳━━━━━━━━━━━━━━━━━━━━━━━━┳━━━━━━━━━━━━━━━┓\n",
       "┃<span style=\"font-weight: bold\"> Layer (type)                    </span>┃<span style=\"font-weight: bold\"> Output Shape           </span>┃<span style=\"font-weight: bold\">       Param # </span>┃\n",
       "┡━━━━━━━━━━━━━━━━━━━━━━━━━━━━━━━━━╇━━━━━━━━━━━━━━━━━━━━━━━━╇━━━━━━━━━━━━━━━┩\n",
       "│ input_layer (<span style=\"color: #0087ff; text-decoration-color: #0087ff\">InputLayer</span>)        │ (<span style=\"color: #00d7ff; text-decoration-color: #00d7ff\">None</span>, <span style=\"color: #00af00; text-decoration-color: #00af00\">1280</span>)           │             <span style=\"color: #00af00; text-decoration-color: #00af00\">0</span> │\n",
       "├─────────────────────────────────┼────────────────────────┼───────────────┤\n",
       "│ dense (<span style=\"color: #0087ff; text-decoration-color: #0087ff\">Dense</span>)                   │ (<span style=\"color: #00d7ff; text-decoration-color: #00d7ff\">None</span>, <span style=\"color: #00af00; text-decoration-color: #00af00\">512</span>)            │       <span style=\"color: #00af00; text-decoration-color: #00af00\">655,872</span> │\n",
       "├─────────────────────────────────┼────────────────────────┼───────────────┤\n",
       "│ dropout (<span style=\"color: #0087ff; text-decoration-color: #0087ff\">Dropout</span>)               │ (<span style=\"color: #00d7ff; text-decoration-color: #00d7ff\">None</span>, <span style=\"color: #00af00; text-decoration-color: #00af00\">512</span>)            │             <span style=\"color: #00af00; text-decoration-color: #00af00\">0</span> │\n",
       "├─────────────────────────────────┼────────────────────────┼───────────────┤\n",
       "│ dense_1 (<span style=\"color: #0087ff; text-decoration-color: #0087ff\">Dense</span>)                 │ (<span style=\"color: #00d7ff; text-decoration-color: #00d7ff\">None</span>, <span style=\"color: #00af00; text-decoration-color: #00af00\">256</span>)            │       <span style=\"color: #00af00; text-decoration-color: #00af00\">131,328</span> │\n",
       "├─────────────────────────────────┼────────────────────────┼───────────────┤\n",
       "│ dropout_1 (<span style=\"color: #0087ff; text-decoration-color: #0087ff\">Dropout</span>)             │ (<span style=\"color: #00d7ff; text-decoration-color: #00d7ff\">None</span>, <span style=\"color: #00af00; text-decoration-color: #00af00\">256</span>)            │             <span style=\"color: #00af00; text-decoration-color: #00af00\">0</span> │\n",
       "├─────────────────────────────────┼────────────────────────┼───────────────┤\n",
       "│ dense_2 (<span style=\"color: #0087ff; text-decoration-color: #0087ff\">Dense</span>)                 │ (<span style=\"color: #00d7ff; text-decoration-color: #00d7ff\">None</span>, <span style=\"color: #00af00; text-decoration-color: #00af00\">128</span>)            │        <span style=\"color: #00af00; text-decoration-color: #00af00\">32,896</span> │\n",
       "├─────────────────────────────────┼────────────────────────┼───────────────┤\n",
       "│ dropout_2 (<span style=\"color: #0087ff; text-decoration-color: #0087ff\">Dropout</span>)             │ (<span style=\"color: #00d7ff; text-decoration-color: #00d7ff\">None</span>, <span style=\"color: #00af00; text-decoration-color: #00af00\">128</span>)            │             <span style=\"color: #00af00; text-decoration-color: #00af00\">0</span> │\n",
       "├─────────────────────────────────┼────────────────────────┼───────────────┤\n",
       "│ dense_3 (<span style=\"color: #0087ff; text-decoration-color: #0087ff\">Dense</span>)                 │ (<span style=\"color: #00d7ff; text-decoration-color: #00d7ff\">None</span>, <span style=\"color: #00af00; text-decoration-color: #00af00\">64</span>)             │         <span style=\"color: #00af00; text-decoration-color: #00af00\">8,256</span> │\n",
       "├─────────────────────────────────┼────────────────────────┼───────────────┤\n",
       "│ dense_4 (<span style=\"color: #0087ff; text-decoration-color: #0087ff\">Dense</span>)                 │ (<span style=\"color: #00d7ff; text-decoration-color: #00d7ff\">None</span>, <span style=\"color: #00af00; text-decoration-color: #00af00\">4</span>)              │           <span style=\"color: #00af00; text-decoration-color: #00af00\">260</span> │\n",
       "└─────────────────────────────────┴────────────────────────┴───────────────┘\n",
       "</pre>\n"
      ]
     },
     "metadata": {},
     "output_type": "display_data"
    },
    {
     "data": {
      "text/plain": [
       "\u001B[1m Total params: \u001B[0m\u001B[38;5;34m828,612\u001B[0m (3.16 MB)\n"
      ],
      "text/html": [
       "<pre style=\"white-space:pre;overflow-x:auto;line-height:normal;font-family:Menlo,'DejaVu Sans Mono',consolas,'Courier New',monospace\"><span style=\"font-weight: bold\"> Total params: </span><span style=\"color: #00af00; text-decoration-color: #00af00\">828,612</span> (3.16 MB)\n",
       "</pre>\n"
      ]
     },
     "metadata": {},
     "output_type": "display_data"
    },
    {
     "data": {
      "text/plain": [
       "\u001B[1m Trainable params: \u001B[0m\u001B[38;5;34m828,612\u001B[0m (3.16 MB)\n"
      ],
      "text/html": [
       "<pre style=\"white-space:pre;overflow-x:auto;line-height:normal;font-family:Menlo,'DejaVu Sans Mono',consolas,'Courier New',monospace\"><span style=\"font-weight: bold\"> Trainable params: </span><span style=\"color: #00af00; text-decoration-color: #00af00\">828,612</span> (3.16 MB)\n",
       "</pre>\n"
      ]
     },
     "metadata": {},
     "output_type": "display_data"
    },
    {
     "data": {
      "text/plain": [
       "\u001B[1m Non-trainable params: \u001B[0m\u001B[38;5;34m0\u001B[0m (0.00 B)\n"
      ],
      "text/html": [
       "<pre style=\"white-space:pre;overflow-x:auto;line-height:normal;font-family:Menlo,'DejaVu Sans Mono',consolas,'Courier New',monospace\"><span style=\"font-weight: bold\"> Non-trainable params: </span><span style=\"color: #00af00; text-decoration-color: #00af00\">0</span> (0.00 B)\n",
       "</pre>\n"
      ]
     },
     "metadata": {},
     "output_type": "display_data"
    }
   ],
   "execution_count": 11
  },
  {
   "metadata": {
    "ExecuteTime": {
     "end_time": "2024-12-05T19:53:29.780071Z",
     "start_time": "2024-12-05T19:53:29.778082Z"
    }
   },
   "cell_type": "code",
   "source": [
    "# callbacks\n",
    "early_stopping = EarlyStopping(monitor='val_loss', patience=20)\n",
    "learning_rate_reduction = ReduceLROnPlateau(monitor='val_loss', factor=0.1, patience=5)\n",
    "checkpoint = ModelCheckpoint(monitor='val_loss', filepath='model.keras', save_best_only=True)\n",
    "callbacks=[early_stopping, learning_rate_reduction]"
   ],
   "id": "cde941a7db48beeb",
   "outputs": [],
   "execution_count": 12
  },
  {
   "metadata": {
    "ExecuteTime": {
     "end_time": "2024-12-05T19:55:04.613022Z",
     "start_time": "2024-12-05T19:53:29.829891Z"
    }
   },
   "cell_type": "code",
   "source": [
    "# Train the model\n",
    "model.fit(X_train, y_train, epochs=200, batch_size=16, validation_split=0.2, callbacks=callbacks)\n",
    "model.save('model.keras')\n",
    "model.save('meme_sarcasm_detection_model.h5')\n",
    "\n",
    "# Evaluate the model\n",
    "predictions = model.predict(X_test)\n",
    "predicted_labels = (predictions > 0.5).astype(int)  # Threshold predictions\n",
    "\n",
    "accuracy = accuracy_score(y_test, predicted_labels)\n",
    "f1 = f1_score(y_test, predicted_labels, average='micro')  # Use appropriate averaging\n",
    "\n",
    "print(f\"Accuracy: {accuracy}\")\n",
    "print(f\"F1 Score: {f1}\")"
   ],
   "id": "193890968bcc5dea",
   "outputs": [
    {
     "name": "stdout",
     "output_type": "stream",
     "text": [
      "Epoch 1/200\n",
      "\u001B[1m471/471\u001B[0m \u001B[32m━━━━━━━━━━━━━━━━━━━━\u001B[0m\u001B[37m\u001B[0m \u001B[1m2s\u001B[0m 4ms/step - accuracy: 0.2660 - loss: 2.5896 - val_accuracy: 0.3796 - val_loss: 1.2937 - learning_rate: 1.0000e-04\n",
      "Epoch 2/200\n",
      "\u001B[1m471/471\u001B[0m \u001B[32m━━━━━━━━━━━━━━━━━━━━\u001B[0m\u001B[37m\u001B[0m \u001B[1m2s\u001B[0m 4ms/step - accuracy: 0.3240 - loss: 1.5129 - val_accuracy: 0.4455 - val_loss: 1.2599 - learning_rate: 1.0000e-04\n",
      "Epoch 3/200\n",
      "\u001B[1m471/471\u001B[0m \u001B[32m━━━━━━━━━━━━━━━━━━━━\u001B[0m\u001B[37m\u001B[0m \u001B[1m2s\u001B[0m 4ms/step - accuracy: 0.3499 - loss: 1.3858 - val_accuracy: 0.4646 - val_loss: 1.2271 - learning_rate: 1.0000e-04\n",
      "Epoch 4/200\n",
      "\u001B[1m471/471\u001B[0m \u001B[32m━━━━━━━━━━━━━━━━━━━━\u001B[0m\u001B[37m\u001B[0m \u001B[1m2s\u001B[0m 4ms/step - accuracy: 0.3816 - loss: 1.3218 - val_accuracy: 0.4987 - val_loss: 1.1780 - learning_rate: 1.0000e-04\n",
      "Epoch 5/200\n",
      "\u001B[1m471/471\u001B[0m \u001B[32m━━━━━━━━━━━━━━━━━━━━\u001B[0m\u001B[37m\u001B[0m \u001B[1m2s\u001B[0m 4ms/step - accuracy: 0.4105 - loss: 1.2625 - val_accuracy: 0.5417 - val_loss: 1.1243 - learning_rate: 1.0000e-04\n",
      "Epoch 6/200\n",
      "\u001B[1m471/471\u001B[0m \u001B[32m━━━━━━━━━━━━━━━━━━━━\u001B[0m\u001B[37m\u001B[0m \u001B[1m2s\u001B[0m 4ms/step - accuracy: 0.4531 - loss: 1.2073 - val_accuracy: 0.5704 - val_loss: 1.0799 - learning_rate: 1.0000e-04\n",
      "Epoch 7/200\n",
      "\u001B[1m471/471\u001B[0m \u001B[32m━━━━━━━━━━━━━━━━━━━━\u001B[0m\u001B[37m\u001B[0m \u001B[1m2s\u001B[0m 4ms/step - accuracy: 0.4954 - loss: 1.1299 - val_accuracy: 0.6050 - val_loss: 1.0133 - learning_rate: 1.0000e-04\n",
      "Epoch 8/200\n",
      "\u001B[1m471/471\u001B[0m \u001B[32m━━━━━━━━━━━━━━━━━━━━\u001B[0m\u001B[37m\u001B[0m \u001B[1m2s\u001B[0m 4ms/step - accuracy: 0.5143 - loss: 1.0924 - val_accuracy: 0.6374 - val_loss: 0.9527 - learning_rate: 1.0000e-04\n",
      "Epoch 9/200\n",
      "\u001B[1m471/471\u001B[0m \u001B[32m━━━━━━━━━━━━━━━━━━━━\u001B[0m\u001B[37m\u001B[0m \u001B[1m2s\u001B[0m 4ms/step - accuracy: 0.5467 - loss: 1.0433 - val_accuracy: 0.6943 - val_loss: 0.8835 - learning_rate: 1.0000e-04\n",
      "Epoch 10/200\n",
      "\u001B[1m471/471\u001B[0m \u001B[32m━━━━━━━━━━━━━━━━━━━━\u001B[0m\u001B[37m\u001B[0m \u001B[1m2s\u001B[0m 4ms/step - accuracy: 0.6010 - loss: 0.9551 - val_accuracy: 0.7087 - val_loss: 0.8156 - learning_rate: 1.0000e-04\n",
      "Epoch 11/200\n",
      "\u001B[1m471/471\u001B[0m \u001B[32m━━━━━━━━━━━━━━━━━━━━\u001B[0m\u001B[37m\u001B[0m \u001B[1m2s\u001B[0m 4ms/step - accuracy: 0.6386 - loss: 0.8995 - val_accuracy: 0.7507 - val_loss: 0.7199 - learning_rate: 1.0000e-04\n",
      "Epoch 12/200\n",
      "\u001B[1m471/471\u001B[0m \u001B[32m━━━━━━━━━━━━━━━━━━━━\u001B[0m\u001B[37m\u001B[0m \u001B[1m2s\u001B[0m 4ms/step - accuracy: 0.6780 - loss: 0.8226 - val_accuracy: 0.7741 - val_loss: 0.6367 - learning_rate: 1.0000e-04\n",
      "Epoch 13/200\n",
      "\u001B[1m471/471\u001B[0m \u001B[32m━━━━━━━━━━━━━━━━━━━━\u001B[0m\u001B[37m\u001B[0m \u001B[1m2s\u001B[0m 4ms/step - accuracy: 0.7124 - loss: 0.7301 - val_accuracy: 0.8049 - val_loss: 0.5589 - learning_rate: 1.0000e-04\n",
      "Epoch 14/200\n",
      "\u001B[1m471/471\u001B[0m \u001B[32m━━━━━━━━━━━━━━━━━━━━\u001B[0m\u001B[37m\u001B[0m \u001B[1m2s\u001B[0m 4ms/step - accuracy: 0.7478 - loss: 0.6584 - val_accuracy: 0.8161 - val_loss: 0.5049 - learning_rate: 1.0000e-04\n",
      "Epoch 15/200\n",
      "\u001B[1m471/471\u001B[0m \u001B[32m━━━━━━━━━━━━━━━━━━━━\u001B[0m\u001B[37m\u001B[0m \u001B[1m2s\u001B[0m 4ms/step - accuracy: 0.7716 - loss: 0.6092 - val_accuracy: 0.8293 - val_loss: 0.4832 - learning_rate: 1.0000e-04\n",
      "Epoch 16/200\n",
      "\u001B[1m471/471\u001B[0m \u001B[32m━━━━━━━━━━━━━━━━━━━━\u001B[0m\u001B[37m\u001B[0m \u001B[1m2s\u001B[0m 3ms/step - accuracy: 0.7858 - loss: 0.5625 - val_accuracy: 0.8480 - val_loss: 0.4403 - learning_rate: 1.0000e-04\n",
      "Epoch 17/200\n",
      "\u001B[1m471/471\u001B[0m \u001B[32m━━━━━━━━━━━━━━━━━━━━\u001B[0m\u001B[37m\u001B[0m \u001B[1m2s\u001B[0m 4ms/step - accuracy: 0.8144 - loss: 0.4918 - val_accuracy: 0.8634 - val_loss: 0.3913 - learning_rate: 1.0000e-04\n",
      "Epoch 18/200\n",
      "\u001B[1m471/471\u001B[0m \u001B[32m━━━━━━━━━━━━━━━━━━━━\u001B[0m\u001B[37m\u001B[0m \u001B[1m2s\u001B[0m 3ms/step - accuracy: 0.8252 - loss: 0.4606 - val_accuracy: 0.8740 - val_loss: 0.3657 - learning_rate: 1.0000e-04\n",
      "Epoch 19/200\n",
      "\u001B[1m471/471\u001B[0m \u001B[32m━━━━━━━━━━━━━━━━━━━━\u001B[0m\u001B[37m\u001B[0m \u001B[1m2s\u001B[0m 4ms/step - accuracy: 0.8368 - loss: 0.4255 - val_accuracy: 0.8767 - val_loss: 0.3696 - learning_rate: 1.0000e-04\n",
      "Epoch 20/200\n",
      "\u001B[1m471/471\u001B[0m \u001B[32m━━━━━━━━━━━━━━━━━━━━\u001B[0m\u001B[37m\u001B[0m \u001B[1m2s\u001B[0m 4ms/step - accuracy: 0.8497 - loss: 0.4121 - val_accuracy: 0.8820 - val_loss: 0.3493 - learning_rate: 1.0000e-04\n",
      "Epoch 21/200\n",
      "\u001B[1m471/471\u001B[0m \u001B[32m━━━━━━━━━━━━━━━━━━━━\u001B[0m\u001B[37m\u001B[0m \u001B[1m2s\u001B[0m 3ms/step - accuracy: 0.8727 - loss: 0.3556 - val_accuracy: 0.8884 - val_loss: 0.3191 - learning_rate: 1.0000e-04\n",
      "Epoch 22/200\n",
      "\u001B[1m471/471\u001B[0m \u001B[32m━━━━━━━━━━━━━━━━━━━━\u001B[0m\u001B[37m\u001B[0m \u001B[1m2s\u001B[0m 4ms/step - accuracy: 0.8830 - loss: 0.3419 - val_accuracy: 0.8910 - val_loss: 0.3087 - learning_rate: 1.0000e-04\n",
      "Epoch 23/200\n",
      "\u001B[1m471/471\u001B[0m \u001B[32m━━━━━━━━━━━━━━━━━━━━\u001B[0m\u001B[37m\u001B[0m \u001B[1m2s\u001B[0m 3ms/step - accuracy: 0.8945 - loss: 0.2966 - val_accuracy: 0.8915 - val_loss: 0.3130 - learning_rate: 1.0000e-04\n",
      "Epoch 24/200\n",
      "\u001B[1m471/471\u001B[0m \u001B[32m━━━━━━━━━━━━━━━━━━━━\u001B[0m\u001B[37m\u001B[0m \u001B[1m2s\u001B[0m 4ms/step - accuracy: 0.9044 - loss: 0.2777 - val_accuracy: 0.9032 - val_loss: 0.2914 - learning_rate: 1.0000e-04\n",
      "Epoch 25/200\n",
      "\u001B[1m471/471\u001B[0m \u001B[32m━━━━━━━━━━━━━━━━━━━━\u001B[0m\u001B[37m\u001B[0m \u001B[1m2s\u001B[0m 4ms/step - accuracy: 0.9063 - loss: 0.2652 - val_accuracy: 0.8947 - val_loss: 0.3262 - learning_rate: 1.0000e-04\n",
      "Epoch 26/200\n",
      "\u001B[1m471/471\u001B[0m \u001B[32m━━━━━━━━━━━━━━━━━━━━\u001B[0m\u001B[37m\u001B[0m \u001B[1m2s\u001B[0m 4ms/step - accuracy: 0.9196 - loss: 0.2409 - val_accuracy: 0.9022 - val_loss: 0.3008 - learning_rate: 1.0000e-04\n",
      "Epoch 27/200\n",
      "\u001B[1m471/471\u001B[0m \u001B[32m━━━━━━━━━━━━━━━━━━━━\u001B[0m\u001B[37m\u001B[0m \u001B[1m2s\u001B[0m 4ms/step - accuracy: 0.9208 - loss: 0.2310 - val_accuracy: 0.9032 - val_loss: 0.3034 - learning_rate: 1.0000e-04\n",
      "Epoch 28/200\n",
      "\u001B[1m471/471\u001B[0m \u001B[32m━━━━━━━━━━━━━━━━━━━━\u001B[0m\u001B[37m\u001B[0m \u001B[1m2s\u001B[0m 4ms/step - accuracy: 0.9358 - loss: 0.1964 - val_accuracy: 0.9064 - val_loss: 0.2909 - learning_rate: 1.0000e-04\n",
      "Epoch 29/200\n",
      "\u001B[1m471/471\u001B[0m \u001B[32m━━━━━━━━━━━━━━━━━━━━\u001B[0m\u001B[37m\u001B[0m \u001B[1m2s\u001B[0m 4ms/step - accuracy: 0.9327 - loss: 0.2121 - val_accuracy: 0.9096 - val_loss: 0.2937 - learning_rate: 1.0000e-04\n",
      "Epoch 30/200\n",
      "\u001B[1m471/471\u001B[0m \u001B[32m━━━━━━━━━━━━━━━━━━━━\u001B[0m\u001B[37m\u001B[0m \u001B[1m2s\u001B[0m 4ms/step - accuracy: 0.9404 - loss: 0.1746 - val_accuracy: 0.9123 - val_loss: 0.2811 - learning_rate: 1.0000e-04\n",
      "Epoch 31/200\n",
      "\u001B[1m471/471\u001B[0m \u001B[32m━━━━━━━━━━━━━━━━━━━━\u001B[0m\u001B[37m\u001B[0m \u001B[1m2s\u001B[0m 4ms/step - accuracy: 0.9418 - loss: 0.1688 - val_accuracy: 0.9176 - val_loss: 0.2737 - learning_rate: 1.0000e-04\n",
      "Epoch 32/200\n",
      "\u001B[1m471/471\u001B[0m \u001B[32m━━━━━━━━━━━━━━━━━━━━\u001B[0m\u001B[37m\u001B[0m \u001B[1m2s\u001B[0m 4ms/step - accuracy: 0.9403 - loss: 0.1713 - val_accuracy: 0.9149 - val_loss: 0.2993 - learning_rate: 1.0000e-04\n",
      "Epoch 33/200\n",
      "\u001B[1m471/471\u001B[0m \u001B[32m━━━━━━━━━━━━━━━━━━━━\u001B[0m\u001B[37m\u001B[0m \u001B[1m2s\u001B[0m 3ms/step - accuracy: 0.9584 - loss: 0.1300 - val_accuracy: 0.9234 - val_loss: 0.2773 - learning_rate: 1.0000e-04\n",
      "Epoch 34/200\n",
      "\u001B[1m471/471\u001B[0m \u001B[32m━━━━━━━━━━━━━━━━━━━━\u001B[0m\u001B[37m\u001B[0m \u001B[1m2s\u001B[0m 3ms/step - accuracy: 0.9539 - loss: 0.1406 - val_accuracy: 0.9256 - val_loss: 0.2628 - learning_rate: 1.0000e-04\n",
      "Epoch 35/200\n",
      "\u001B[1m471/471\u001B[0m \u001B[32m━━━━━━━━━━━━━━━━━━━━\u001B[0m\u001B[37m\u001B[0m \u001B[1m2s\u001B[0m 3ms/step - accuracy: 0.9600 - loss: 0.1185 - val_accuracy: 0.9171 - val_loss: 0.3056 - learning_rate: 1.0000e-04\n",
      "Epoch 36/200\n",
      "\u001B[1m471/471\u001B[0m \u001B[32m━━━━━━━━━━━━━━━━━━━━\u001B[0m\u001B[37m\u001B[0m \u001B[1m2s\u001B[0m 5ms/step - accuracy: 0.9621 - loss: 0.1199 - val_accuracy: 0.9208 - val_loss: 0.3070 - learning_rate: 1.0000e-04\n",
      "Epoch 37/200\n",
      "\u001B[1m471/471\u001B[0m \u001B[32m━━━━━━━━━━━━━━━━━━━━\u001B[0m\u001B[37m\u001B[0m \u001B[1m2s\u001B[0m 3ms/step - accuracy: 0.9609 - loss: 0.1211 - val_accuracy: 0.9187 - val_loss: 0.3102 - learning_rate: 1.0000e-04\n",
      "Epoch 38/200\n",
      "\u001B[1m471/471\u001B[0m \u001B[32m━━━━━━━━━━━━━━━━━━━━\u001B[0m\u001B[37m\u001B[0m \u001B[1m2s\u001B[0m 3ms/step - accuracy: 0.9668 - loss: 0.1063 - val_accuracy: 0.9187 - val_loss: 0.3078 - learning_rate: 1.0000e-04\n",
      "Epoch 39/200\n",
      "\u001B[1m471/471\u001B[0m \u001B[32m━━━━━━━━━━━━━━━━━━━━\u001B[0m\u001B[37m\u001B[0m \u001B[1m2s\u001B[0m 4ms/step - accuracy: 0.9664 - loss: 0.1049 - val_accuracy: 0.9240 - val_loss: 0.2935 - learning_rate: 1.0000e-04\n",
      "Epoch 40/200\n",
      "\u001B[1m471/471\u001B[0m \u001B[32m━━━━━━━━━━━━━━━━━━━━\u001B[0m\u001B[37m\u001B[0m \u001B[1m2s\u001B[0m 3ms/step - accuracy: 0.9693 - loss: 0.0994 - val_accuracy: 0.9234 - val_loss: 0.2841 - learning_rate: 1.0000e-05\n",
      "Epoch 41/200\n",
      "\u001B[1m471/471\u001B[0m \u001B[32m━━━━━━━━━━━━━━━━━━━━\u001B[0m\u001B[37m\u001B[0m \u001B[1m2s\u001B[0m 3ms/step - accuracy: 0.9756 - loss: 0.0943 - val_accuracy: 0.9224 - val_loss: 0.2884 - learning_rate: 1.0000e-05\n",
      "Epoch 42/200\n",
      "\u001B[1m471/471\u001B[0m \u001B[32m━━━━━━━━━━━━━━━━━━━━\u001B[0m\u001B[37m\u001B[0m \u001B[1m2s\u001B[0m 4ms/step - accuracy: 0.9773 - loss: 0.0809 - val_accuracy: 0.9245 - val_loss: 0.2844 - learning_rate: 1.0000e-05\n",
      "Epoch 43/200\n",
      "\u001B[1m471/471\u001B[0m \u001B[32m━━━━━━━━━━━━━━━━━━━━\u001B[0m\u001B[37m\u001B[0m \u001B[1m2s\u001B[0m 3ms/step - accuracy: 0.9774 - loss: 0.0713 - val_accuracy: 0.9266 - val_loss: 0.2780 - learning_rate: 1.0000e-05\n",
      "Epoch 44/200\n",
      "\u001B[1m471/471\u001B[0m \u001B[32m━━━━━━━━━━━━━━━━━━━━\u001B[0m\u001B[37m\u001B[0m \u001B[1m2s\u001B[0m 4ms/step - accuracy: 0.9797 - loss: 0.0702 - val_accuracy: 0.9266 - val_loss: 0.2882 - learning_rate: 1.0000e-05\n",
      "Epoch 45/200\n",
      "\u001B[1m471/471\u001B[0m \u001B[32m━━━━━━━━━━━━━━━━━━━━\u001B[0m\u001B[37m\u001B[0m \u001B[1m2s\u001B[0m 4ms/step - accuracy: 0.9756 - loss: 0.0696 - val_accuracy: 0.9256 - val_loss: 0.2883 - learning_rate: 1.0000e-06\n",
      "Epoch 46/200\n",
      "\u001B[1m471/471\u001B[0m \u001B[32m━━━━━━━━━━━━━━━━━━━━\u001B[0m\u001B[37m\u001B[0m \u001B[1m2s\u001B[0m 4ms/step - accuracy: 0.9730 - loss: 0.0744 - val_accuracy: 0.9277 - val_loss: 0.2882 - learning_rate: 1.0000e-06\n",
      "Epoch 47/200\n",
      "\u001B[1m471/471\u001B[0m \u001B[32m━━━━━━━━━━━━━━━━━━━━\u001B[0m\u001B[37m\u001B[0m \u001B[1m2s\u001B[0m 4ms/step - accuracy: 0.9770 - loss: 0.0719 - val_accuracy: 0.9272 - val_loss: 0.2887 - learning_rate: 1.0000e-06\n",
      "Epoch 48/200\n",
      "\u001B[1m471/471\u001B[0m \u001B[32m━━━━━━━━━━━━━━━━━━━━\u001B[0m\u001B[37m\u001B[0m \u001B[1m2s\u001B[0m 3ms/step - accuracy: 0.9792 - loss: 0.0824 - val_accuracy: 0.9277 - val_loss: 0.2892 - learning_rate: 1.0000e-06\n",
      "Epoch 49/200\n",
      "\u001B[1m471/471\u001B[0m \u001B[32m━━━━━━━━━━━━━━━━━━━━\u001B[0m\u001B[37m\u001B[0m \u001B[1m2s\u001B[0m 4ms/step - accuracy: 0.9817 - loss: 0.0659 - val_accuracy: 0.9266 - val_loss: 0.2904 - learning_rate: 1.0000e-06\n",
      "Epoch 50/200\n",
      "\u001B[1m471/471\u001B[0m \u001B[32m━━━━━━━━━━━━━━━━━━━━\u001B[0m\u001B[37m\u001B[0m \u001B[1m2s\u001B[0m 4ms/step - accuracy: 0.9760 - loss: 0.0664 - val_accuracy: 0.9266 - val_loss: 0.2904 - learning_rate: 1.0000e-07\n",
      "Epoch 51/200\n",
      "\u001B[1m471/471\u001B[0m \u001B[32m━━━━━━━━━━━━━━━━━━━━\u001B[0m\u001B[37m\u001B[0m \u001B[1m2s\u001B[0m 4ms/step - accuracy: 0.9814 - loss: 0.0618 - val_accuracy: 0.9266 - val_loss: 0.2906 - learning_rate: 1.0000e-07\n",
      "Epoch 52/200\n",
      "\u001B[1m471/471\u001B[0m \u001B[32m━━━━━━━━━━━━━━━━━━━━\u001B[0m\u001B[37m\u001B[0m \u001B[1m2s\u001B[0m 4ms/step - accuracy: 0.9781 - loss: 0.0675 - val_accuracy: 0.9266 - val_loss: 0.2904 - learning_rate: 1.0000e-07\n",
      "Epoch 53/200\n",
      "\u001B[1m471/471\u001B[0m \u001B[32m━━━━━━━━━━━━━━━━━━━━\u001B[0m\u001B[37m\u001B[0m \u001B[1m2s\u001B[0m 4ms/step - accuracy: 0.9778 - loss: 0.0687 - val_accuracy: 0.9266 - val_loss: 0.2904 - learning_rate: 1.0000e-07\n",
      "Epoch 54/200\n",
      "\u001B[1m471/471\u001B[0m \u001B[32m━━━━━━━━━━━━━━━━━━━━\u001B[0m\u001B[37m\u001B[0m \u001B[1m2s\u001B[0m 5ms/step - accuracy: 0.9795 - loss: 0.0648 - val_accuracy: 0.9266 - val_loss: 0.2904 - learning_rate: 1.0000e-07\n"
     ]
    },
    {
     "name": "stderr",
     "output_type": "stream",
     "text": [
      "WARNING:absl:You are saving your model as an HDF5 file via `model.save()` or `keras.saving.save_model(model)`. This file format is considered legacy. We recommend using instead the native Keras format, e.g. `model.save('my_model.keras')` or `keras.saving.save_model(model, 'my_model.keras')`. \n"
     ]
    },
    {
     "name": "stdout",
     "output_type": "stream",
     "text": [
      "\u001B[1m74/74\u001B[0m \u001B[32m━━━━━━━━━━━━━━━━━━━━\u001B[0m\u001B[37m\u001B[0m \u001B[1m0s\u001B[0m 2ms/step\n",
      "Accuracy: 0.9136904761904762\n",
      "F1 Score: 0.9152470187393527\n"
     ]
    }
   ],
   "execution_count": 13
  },
  {
   "metadata": {
    "ExecuteTime": {
     "end_time": "2024-12-05T19:55:04.801827Z",
     "start_time": "2024-12-05T19:55:04.798131Z"
    }
   },
   "cell_type": "code",
   "source": "predictions",
   "id": "8269766d6fdefc6a",
   "outputs": [
    {
     "data": {
      "text/plain": [
       "array([[7.3973104e-05, 9.9992597e-01, 3.9217003e-09, 4.8913730e-08],\n",
       "       [3.6135954e-03, 1.8449500e-10, 9.9638641e-01, 1.0307732e-12],\n",
       "       [1.5670543e-03, 9.9840999e-01, 2.8932654e-06, 2.0120857e-05],\n",
       "       ...,\n",
       "       [2.5049358e-04, 6.2433583e-07, 9.3392520e-09, 9.9974895e-01],\n",
       "       [1.3322718e-05, 9.9998665e-01, 3.6908307e-10, 2.4261371e-09],\n",
       "       [8.3547337e-03, 2.1184736e-07, 9.9164504e-01, 3.0814791e-09]],\n",
       "      dtype=float32)"
      ]
     },
     "execution_count": 14,
     "metadata": {},
     "output_type": "execute_result"
    }
   ],
   "execution_count": 14
  },
  {
   "metadata": {
    "ExecuteTime": {
     "end_time": "2024-12-05T19:55:04.932529Z",
     "start_time": "2024-12-05T19:55:04.930179Z"
    }
   },
   "cell_type": "code",
   "source": "predicted_labels",
   "id": "bf270075e0ab3f6e",
   "outputs": [
    {
     "data": {
      "text/plain": [
       "array([[0, 1, 0, 0],\n",
       "       [0, 0, 1, 0],\n",
       "       [0, 1, 0, 0],\n",
       "       ...,\n",
       "       [0, 0, 0, 1],\n",
       "       [0, 1, 0, 0],\n",
       "       [0, 0, 1, 0]])"
      ]
     },
     "execution_count": 15,
     "metadata": {},
     "output_type": "execute_result"
    }
   ],
   "execution_count": 15
  },
  {
   "metadata": {
    "ExecuteTime": {
     "end_time": "2024-12-05T19:55:04.980256Z",
     "start_time": "2024-12-05T19:55:04.977579Z"
    }
   },
   "cell_type": "code",
   "source": "y_test",
   "id": "2d175d826816155e",
   "outputs": [
    {
     "data": {
      "text/plain": [
       "array([[0, 1, 0, 0],\n",
       "       [0, 0, 1, 0],\n",
       "       [0, 1, 0, 0],\n",
       "       ...,\n",
       "       [0, 0, 0, 1],\n",
       "       [0, 1, 0, 0],\n",
       "       [0, 0, 1, 0]])"
      ]
     },
     "execution_count": 16,
     "metadata": {},
     "output_type": "execute_result"
    }
   ],
   "execution_count": 16
  },
  {
   "metadata": {
    "ExecuteTime": {
     "end_time": "2024-12-05T19:55:05.123418Z",
     "start_time": "2024-12-05T19:55:05.121458Z"
    }
   },
   "cell_type": "code",
   "source": "",
   "id": "9ae4ef2ac5c8dd7b",
   "outputs": [],
   "execution_count": null
  }
 ],
 "metadata": {
  "kernelspec": {
   "name": "python3",
   "language": "python",
   "display_name": "Python 3 (ipykernel)"
  }
 },
 "nbformat": 5,
 "nbformat_minor": 9
}
