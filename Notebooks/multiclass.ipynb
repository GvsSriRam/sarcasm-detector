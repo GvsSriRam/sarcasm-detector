{
 "cells": [
  {
   "metadata": {
    "ExecuteTime": {
     "end_time": "2024-11-29T00:29:37.429362Z",
     "start_time": "2024-11-29T00:29:37.201453Z"
    }
   },
   "cell_type": "code",
   "source": [
    "import numpy as np\n",
    "import pandas as pd\n",
    "import os\n",
    "import json"
   ],
   "id": "2a86f74b0156b8c9",
   "outputs": [],
   "execution_count": 1
  },
  {
   "metadata": {
    "ExecuteTime": {
     "end_time": "2024-11-29T00:29:37.450964Z",
     "start_time": "2024-11-29T00:29:37.437049Z"
    }
   },
   "cell_type": "code",
   "source": [
    "labels = np.load(\"../Data/preprocessed/labels.npy\", allow_pickle=True)\n",
    "embeddings = np.load(\"../Data/preprocessed/embeddings.npy\", allow_pickle=True)"
   ],
   "id": "2af74df5baac3f2f",
   "outputs": [],
   "execution_count": 2
  },
  {
   "metadata": {
    "ExecuteTime": {
     "end_time": "2024-11-29T00:29:37.581802Z",
     "start_time": "2024-11-29T00:29:37.578920Z"
    }
   },
   "cell_type": "code",
   "source": "labels.shape, embeddings.shape",
   "id": "1cb65d5245beab2c",
   "outputs": [
    {
     "data": {
      "text/plain": [
       "((4572, 4), (4572, 1280))"
      ]
     },
     "execution_count": 3,
     "metadata": {},
     "output_type": "execute_result"
    }
   ],
   "execution_count": 3
  },
  {
   "metadata": {
    "ExecuteTime": {
     "end_time": "2024-11-29T00:29:37.604102Z",
     "start_time": "2024-11-29T00:29:37.602029Z"
    }
   },
   "cell_type": "code",
   "source": "embeddings.dtype, labels.dtype",
   "id": "fcec76cf0d564b7e",
   "outputs": [
    {
     "data": {
      "text/plain": [
       "(dtype('float32'), dtype('int64'))"
      ]
     },
     "execution_count": 4,
     "metadata": {},
     "output_type": "execute_result"
    }
   ],
   "execution_count": 4
  },
  {
   "metadata": {
    "ExecuteTime": {
     "end_time": "2024-11-29T00:29:38.375687Z",
     "start_time": "2024-11-29T00:29:37.616371Z"
    }
   },
   "cell_type": "code",
   "source": [
    "# Separate \"all 0\" samples\n",
    "all_zero_indices = np.where(np.sum(labels, axis=1) == 0)[0]\n",
    "embeddings_all_zero = embeddings[all_zero_indices]\n",
    "labels_all_zero = labels[all_zero_indices]\n",
    "\n",
    "from imblearn.over_sampling import SMOTE\n",
    "\n",
    "smote = SMOTE(random_state=42)\n",
    "embeddings_resampled, labels_resampled = smote.fit_resample(embeddings, labels)\n",
    "\n",
    "embeddings_resampled_final = np.concatenate([embeddings_resampled, embeddings_all_zero], axis=0)\n",
    "labels_resampled_final = np.concatenate([labels_resampled, labels_all_zero], axis=0)"
   ],
   "id": "b55c843d983a7591",
   "outputs": [],
   "execution_count": 5
  },
  {
   "metadata": {
    "ExecuteTime": {
     "end_time": "2024-11-29T00:29:38.401737Z",
     "start_time": "2024-11-29T00:29:38.391847Z"
    }
   },
   "cell_type": "code",
   "source": "pd.DataFrame(labels).value_counts()",
   "id": "2a5980cf55e3f4a2",
   "outputs": [
    {
     "data": {
      "text/plain": [
       "0  1  2  3\n",
       "0  0  0  0    2439\n",
       "      1  0     910\n",
       "1  0  0  0     500\n",
       "0  0  0  1     420\n",
       "   1  0  0     303\n",
       "Name: count, dtype: int64"
      ]
     },
     "execution_count": 6,
     "metadata": {},
     "output_type": "execute_result"
    }
   ],
   "execution_count": 6
  },
  {
   "metadata": {
    "ExecuteTime": {
     "end_time": "2024-11-29T00:29:38.460054Z",
     "start_time": "2024-11-29T00:29:38.455111Z"
    }
   },
   "cell_type": "code",
   "source": "pd.DataFrame(labels_resampled).value_counts()",
   "id": "1e6247c75428087d",
   "outputs": [
    {
     "data": {
      "text/plain": [
       "0  1  2  3\n",
       "0  0  0  1    2939\n",
       "      1  0    2939\n",
       "   1  0  0    2939\n",
       "1  0  0  0    2939\n",
       "Name: count, dtype: int64"
      ]
     },
     "execution_count": 7,
     "metadata": {},
     "output_type": "execute_result"
    }
   ],
   "execution_count": 7
  },
  {
   "metadata": {
    "ExecuteTime": {
     "end_time": "2024-11-29T00:29:38.517557Z",
     "start_time": "2024-11-29T00:29:38.512454Z"
    }
   },
   "cell_type": "code",
   "source": "pd.DataFrame(labels_resampled_final).value_counts()",
   "id": "21a0efbec6210f82",
   "outputs": [
    {
     "data": {
      "text/plain": [
       "0  1  2  3\n",
       "0  0  0  1    2939\n",
       "      1  0    2939\n",
       "   1  0  0    2939\n",
       "1  0  0  0    2939\n",
       "0  0  0  0    2439\n",
       "Name: count, dtype: int64"
      ]
     },
     "execution_count": 8,
     "metadata": {},
     "output_type": "execute_result"
    }
   ],
   "execution_count": 8
  },
  {
   "metadata": {
    "ExecuteTime": {
     "end_time": "2024-11-29T00:29:38.610071Z",
     "start_time": "2024-11-29T00:29:38.595465Z"
    }
   },
   "cell_type": "code",
   "source": [
    "from sklearn.model_selection import train_test_split\n",
    "\n",
    "X_train, X_test, y_train, y_test = train_test_split(embeddings_resampled, labels_resampled, test_size=0.2, random_state=42)"
   ],
   "id": "fcb749ce64d66135",
   "outputs": [],
   "execution_count": 9
  },
  {
   "metadata": {
    "ExecuteTime": {
     "end_time": "2024-11-29T00:29:41.165788Z",
     "start_time": "2024-11-29T00:29:38.672742Z"
    }
   },
   "cell_type": "code",
   "source": [
    "from tensorflow.keras.layers import Input, Dense, concatenate, Dropout\n",
    "from tensorflow.keras.models import Model\n",
    "from tensorflow.keras.optimizers import Adam\n",
    "from tensorflow.keras.callbacks import EarlyStopping, ReduceLROnPlateau, ModelCheckpoint\n",
    "\n",
    "from sklearn.metrics import accuracy_score, f1_score\n",
    "\n",
    "# --- Create the multi-label classification model ---\n",
    "input_layer = Input(shape=(X_train.shape[1],))  # Input shape based on embeddings\n",
    "hidden_layer1 = Dense(512, activation='relu')(input_layer)\n",
    "dropout_layer = Dropout(0.5)(hidden_layer1)  # Add dropout for regularization\n",
    "hidden_layer2 = Dense(256, activation='relu')(dropout_layer)\n",
    "dropout_layer2 = Dropout(0.5)(hidden_layer2)  # Add dropout for regularization\n",
    "hidden_layer3 = Dense(128, activation='relu')(dropout_layer2)\n",
    "dropout_layer3 = Dropout(0.5)(hidden_layer3)  # Add dropout for regularization\n",
    "hidden_layer4 = Dense(64, activation='relu')(dropout_layer3)\n",
    "output_layer = Dense(y_train.shape[1], activation='softmax')(hidden_layer4)\n",
    "\n",
    "model = Model(inputs=input_layer, outputs=output_layer)\n",
    "\n",
    "# Compile the model\n",
    "model.compile(optimizer=Adam(learning_rate=0.0001), loss='categorical_crossentropy', metrics=['accuracy'])"
   ],
   "id": "a254e116e11300a",
   "outputs": [],
   "execution_count": 10
  },
  {
   "metadata": {
    "ExecuteTime": {
     "end_time": "2024-11-29T00:29:41.177422Z",
     "start_time": "2024-11-29T00:29:41.169866Z"
    }
   },
   "cell_type": "code",
   "source": "model.summary()",
   "id": "8feabdd0e21a99c4",
   "outputs": [
    {
     "data": {
      "text/plain": [
       "\u001B[1mModel: \"functional\"\u001B[0m\n"
      ],
      "text/html": [
       "<pre style=\"white-space:pre;overflow-x:auto;line-height:normal;font-family:Menlo,'DejaVu Sans Mono',consolas,'Courier New',monospace\"><span style=\"font-weight: bold\">Model: \"functional\"</span>\n",
       "</pre>\n"
      ]
     },
     "metadata": {},
     "output_type": "display_data"
    },
    {
     "data": {
      "text/plain": [
       "┏━━━━━━━━━━━━━━━━━━━━━━━━━━━━━━━━━┳━━━━━━━━━━━━━━━━━━━━━━━━┳━━━━━━━━━━━━━━━┓\n",
       "┃\u001B[1m \u001B[0m\u001B[1mLayer (type)                   \u001B[0m\u001B[1m \u001B[0m┃\u001B[1m \u001B[0m\u001B[1mOutput Shape          \u001B[0m\u001B[1m \u001B[0m┃\u001B[1m \u001B[0m\u001B[1m      Param #\u001B[0m\u001B[1m \u001B[0m┃\n",
       "┡━━━━━━━━━━━━━━━━━━━━━━━━━━━━━━━━━╇━━━━━━━━━━━━━━━━━━━━━━━━╇━━━━━━━━━━━━━━━┩\n",
       "│ input_layer (\u001B[38;5;33mInputLayer\u001B[0m)        │ (\u001B[38;5;45mNone\u001B[0m, \u001B[38;5;34m1280\u001B[0m)           │             \u001B[38;5;34m0\u001B[0m │\n",
       "├─────────────────────────────────┼────────────────────────┼───────────────┤\n",
       "│ dense (\u001B[38;5;33mDense\u001B[0m)                   │ (\u001B[38;5;45mNone\u001B[0m, \u001B[38;5;34m512\u001B[0m)            │       \u001B[38;5;34m655,872\u001B[0m │\n",
       "├─────────────────────────────────┼────────────────────────┼───────────────┤\n",
       "│ dropout (\u001B[38;5;33mDropout\u001B[0m)               │ (\u001B[38;5;45mNone\u001B[0m, \u001B[38;5;34m512\u001B[0m)            │             \u001B[38;5;34m0\u001B[0m │\n",
       "├─────────────────────────────────┼────────────────────────┼───────────────┤\n",
       "│ dense_1 (\u001B[38;5;33mDense\u001B[0m)                 │ (\u001B[38;5;45mNone\u001B[0m, \u001B[38;5;34m256\u001B[0m)            │       \u001B[38;5;34m131,328\u001B[0m │\n",
       "├─────────────────────────────────┼────────────────────────┼───────────────┤\n",
       "│ dropout_1 (\u001B[38;5;33mDropout\u001B[0m)             │ (\u001B[38;5;45mNone\u001B[0m, \u001B[38;5;34m256\u001B[0m)            │             \u001B[38;5;34m0\u001B[0m │\n",
       "├─────────────────────────────────┼────────────────────────┼───────────────┤\n",
       "│ dense_2 (\u001B[38;5;33mDense\u001B[0m)                 │ (\u001B[38;5;45mNone\u001B[0m, \u001B[38;5;34m128\u001B[0m)            │        \u001B[38;5;34m32,896\u001B[0m │\n",
       "├─────────────────────────────────┼────────────────────────┼───────────────┤\n",
       "│ dropout_2 (\u001B[38;5;33mDropout\u001B[0m)             │ (\u001B[38;5;45mNone\u001B[0m, \u001B[38;5;34m128\u001B[0m)            │             \u001B[38;5;34m0\u001B[0m │\n",
       "├─────────────────────────────────┼────────────────────────┼───────────────┤\n",
       "│ dense_3 (\u001B[38;5;33mDense\u001B[0m)                 │ (\u001B[38;5;45mNone\u001B[0m, \u001B[38;5;34m64\u001B[0m)             │         \u001B[38;5;34m8,256\u001B[0m │\n",
       "├─────────────────────────────────┼────────────────────────┼───────────────┤\n",
       "│ dense_4 (\u001B[38;5;33mDense\u001B[0m)                 │ (\u001B[38;5;45mNone\u001B[0m, \u001B[38;5;34m4\u001B[0m)              │           \u001B[38;5;34m260\u001B[0m │\n",
       "└─────────────────────────────────┴────────────────────────┴───────────────┘\n"
      ],
      "text/html": [
       "<pre style=\"white-space:pre;overflow-x:auto;line-height:normal;font-family:Menlo,'DejaVu Sans Mono',consolas,'Courier New',monospace\">┏━━━━━━━━━━━━━━━━━━━━━━━━━━━━━━━━━┳━━━━━━━━━━━━━━━━━━━━━━━━┳━━━━━━━━━━━━━━━┓\n",
       "┃<span style=\"font-weight: bold\"> Layer (type)                    </span>┃<span style=\"font-weight: bold\"> Output Shape           </span>┃<span style=\"font-weight: bold\">       Param # </span>┃\n",
       "┡━━━━━━━━━━━━━━━━━━━━━━━━━━━━━━━━━╇━━━━━━━━━━━━━━━━━━━━━━━━╇━━━━━━━━━━━━━━━┩\n",
       "│ input_layer (<span style=\"color: #0087ff; text-decoration-color: #0087ff\">InputLayer</span>)        │ (<span style=\"color: #00d7ff; text-decoration-color: #00d7ff\">None</span>, <span style=\"color: #00af00; text-decoration-color: #00af00\">1280</span>)           │             <span style=\"color: #00af00; text-decoration-color: #00af00\">0</span> │\n",
       "├─────────────────────────────────┼────────────────────────┼───────────────┤\n",
       "│ dense (<span style=\"color: #0087ff; text-decoration-color: #0087ff\">Dense</span>)                   │ (<span style=\"color: #00d7ff; text-decoration-color: #00d7ff\">None</span>, <span style=\"color: #00af00; text-decoration-color: #00af00\">512</span>)            │       <span style=\"color: #00af00; text-decoration-color: #00af00\">655,872</span> │\n",
       "├─────────────────────────────────┼────────────────────────┼───────────────┤\n",
       "│ dropout (<span style=\"color: #0087ff; text-decoration-color: #0087ff\">Dropout</span>)               │ (<span style=\"color: #00d7ff; text-decoration-color: #00d7ff\">None</span>, <span style=\"color: #00af00; text-decoration-color: #00af00\">512</span>)            │             <span style=\"color: #00af00; text-decoration-color: #00af00\">0</span> │\n",
       "├─────────────────────────────────┼────────────────────────┼───────────────┤\n",
       "│ dense_1 (<span style=\"color: #0087ff; text-decoration-color: #0087ff\">Dense</span>)                 │ (<span style=\"color: #00d7ff; text-decoration-color: #00d7ff\">None</span>, <span style=\"color: #00af00; text-decoration-color: #00af00\">256</span>)            │       <span style=\"color: #00af00; text-decoration-color: #00af00\">131,328</span> │\n",
       "├─────────────────────────────────┼────────────────────────┼───────────────┤\n",
       "│ dropout_1 (<span style=\"color: #0087ff; text-decoration-color: #0087ff\">Dropout</span>)             │ (<span style=\"color: #00d7ff; text-decoration-color: #00d7ff\">None</span>, <span style=\"color: #00af00; text-decoration-color: #00af00\">256</span>)            │             <span style=\"color: #00af00; text-decoration-color: #00af00\">0</span> │\n",
       "├─────────────────────────────────┼────────────────────────┼───────────────┤\n",
       "│ dense_2 (<span style=\"color: #0087ff; text-decoration-color: #0087ff\">Dense</span>)                 │ (<span style=\"color: #00d7ff; text-decoration-color: #00d7ff\">None</span>, <span style=\"color: #00af00; text-decoration-color: #00af00\">128</span>)            │        <span style=\"color: #00af00; text-decoration-color: #00af00\">32,896</span> │\n",
       "├─────────────────────────────────┼────────────────────────┼───────────────┤\n",
       "│ dropout_2 (<span style=\"color: #0087ff; text-decoration-color: #0087ff\">Dropout</span>)             │ (<span style=\"color: #00d7ff; text-decoration-color: #00d7ff\">None</span>, <span style=\"color: #00af00; text-decoration-color: #00af00\">128</span>)            │             <span style=\"color: #00af00; text-decoration-color: #00af00\">0</span> │\n",
       "├─────────────────────────────────┼────────────────────────┼───────────────┤\n",
       "│ dense_3 (<span style=\"color: #0087ff; text-decoration-color: #0087ff\">Dense</span>)                 │ (<span style=\"color: #00d7ff; text-decoration-color: #00d7ff\">None</span>, <span style=\"color: #00af00; text-decoration-color: #00af00\">64</span>)             │         <span style=\"color: #00af00; text-decoration-color: #00af00\">8,256</span> │\n",
       "├─────────────────────────────────┼────────────────────────┼───────────────┤\n",
       "│ dense_4 (<span style=\"color: #0087ff; text-decoration-color: #0087ff\">Dense</span>)                 │ (<span style=\"color: #00d7ff; text-decoration-color: #00d7ff\">None</span>, <span style=\"color: #00af00; text-decoration-color: #00af00\">4</span>)              │           <span style=\"color: #00af00; text-decoration-color: #00af00\">260</span> │\n",
       "└─────────────────────────────────┴────────────────────────┴───────────────┘\n",
       "</pre>\n"
      ]
     },
     "metadata": {},
     "output_type": "display_data"
    },
    {
     "data": {
      "text/plain": [
       "\u001B[1m Total params: \u001B[0m\u001B[38;5;34m828,612\u001B[0m (3.16 MB)\n"
      ],
      "text/html": [
       "<pre style=\"white-space:pre;overflow-x:auto;line-height:normal;font-family:Menlo,'DejaVu Sans Mono',consolas,'Courier New',monospace\"><span style=\"font-weight: bold\"> Total params: </span><span style=\"color: #00af00; text-decoration-color: #00af00\">828,612</span> (3.16 MB)\n",
       "</pre>\n"
      ]
     },
     "metadata": {},
     "output_type": "display_data"
    },
    {
     "data": {
      "text/plain": [
       "\u001B[1m Trainable params: \u001B[0m\u001B[38;5;34m828,612\u001B[0m (3.16 MB)\n"
      ],
      "text/html": [
       "<pre style=\"white-space:pre;overflow-x:auto;line-height:normal;font-family:Menlo,'DejaVu Sans Mono',consolas,'Courier New',monospace\"><span style=\"font-weight: bold\"> Trainable params: </span><span style=\"color: #00af00; text-decoration-color: #00af00\">828,612</span> (3.16 MB)\n",
       "</pre>\n"
      ]
     },
     "metadata": {},
     "output_type": "display_data"
    },
    {
     "data": {
      "text/plain": [
       "\u001B[1m Non-trainable params: \u001B[0m\u001B[38;5;34m0\u001B[0m (0.00 B)\n"
      ],
      "text/html": [
       "<pre style=\"white-space:pre;overflow-x:auto;line-height:normal;font-family:Menlo,'DejaVu Sans Mono',consolas,'Courier New',monospace\"><span style=\"font-weight: bold\"> Non-trainable params: </span><span style=\"color: #00af00; text-decoration-color: #00af00\">0</span> (0.00 B)\n",
       "</pre>\n"
      ]
     },
     "metadata": {},
     "output_type": "display_data"
    }
   ],
   "execution_count": 11
  },
  {
   "metadata": {
    "ExecuteTime": {
     "end_time": "2024-11-29T00:29:41.192289Z",
     "start_time": "2024-11-29T00:29:41.189984Z"
    }
   },
   "cell_type": "code",
   "source": [
    "# callbacks\n",
    "early_stopping = EarlyStopping(monitor='val_loss', patience=20)\n",
    "learning_rate_reduction = ReduceLROnPlateau(monitor='val_loss', factor=0.1, patience=5)\n",
    "checkpoint = ModelCheckpoint(monitor='val_loss', filepath='model.keras', save_best_only=True)\n",
    "callbacks=[early_stopping, learning_rate_reduction]"
   ],
   "id": "cde941a7db48beeb",
   "outputs": [],
   "execution_count": 12
  },
  {
   "metadata": {
    "ExecuteTime": {
     "end_time": "2024-11-29T00:31:34.057193Z",
     "start_time": "2024-11-29T00:29:41.205738Z"
    }
   },
   "cell_type": "code",
   "source": [
    "# Train the model\n",
    "model.fit(X_train, y_train, epochs=200, batch_size=16, validation_split=0.2, callbacks=callbacks)\n",
    "\n",
    "# Evaluate the model\n",
    "predictions = model.predict(X_test)\n",
    "predicted_labels = (predictions > 0.5).astype(int)  # Threshold predictions\n",
    "\n",
    "accuracy = accuracy_score(y_test, predicted_labels)\n",
    "f1 = f1_score(y_test, predicted_labels, average='micro')  # Use appropriate averaging\n",
    "\n",
    "print(f\"Accuracy: {accuracy}\")\n",
    "print(f\"F1 Score: {f1}\")"
   ],
   "id": "193890968bcc5dea",
   "outputs": [
    {
     "name": "stdout",
     "output_type": "stream",
     "text": [
      "Epoch 1/200\n",
      "\u001B[1m471/471\u001B[0m \u001B[32m━━━━━━━━━━━━━━━━━━━━\u001B[0m\u001B[37m\u001B[0m \u001B[1m2s\u001B[0m 4ms/step - accuracy: 0.2637 - loss: 3.3326 - val_accuracy: 0.3264 - val_loss: 1.3630 - learning_rate: 1.0000e-04\n",
      "Epoch 2/200\n",
      "\u001B[1m471/471\u001B[0m \u001B[32m━━━━━━━━━━━━━━━━━━━━\u001B[0m\u001B[37m\u001B[0m \u001B[1m2s\u001B[0m 4ms/step - accuracy: 0.3284 - loss: 1.5633 - val_accuracy: 0.3987 - val_loss: 1.3165 - learning_rate: 1.0000e-04\n",
      "Epoch 3/200\n",
      "\u001B[1m471/471\u001B[0m \u001B[32m━━━━━━━━━━━━━━━━━━━━\u001B[0m\u001B[37m\u001B[0m \u001B[1m2s\u001B[0m 4ms/step - accuracy: 0.3349 - loss: 1.4156 - val_accuracy: 0.4450 - val_loss: 1.2644 - learning_rate: 1.0000e-04\n",
      "Epoch 4/200\n",
      "\u001B[1m471/471\u001B[0m \u001B[32m━━━━━━━━━━━━━━━━━━━━\u001B[0m\u001B[37m\u001B[0m \u001B[1m2s\u001B[0m 4ms/step - accuracy: 0.3572 - loss: 1.3493 - val_accuracy: 0.4790 - val_loss: 1.2113 - learning_rate: 1.0000e-04\n",
      "Epoch 5/200\n",
      "\u001B[1m471/471\u001B[0m \u001B[32m━━━━━━━━━━━━━━━━━━━━\u001B[0m\u001B[37m\u001B[0m \u001B[1m2s\u001B[0m 4ms/step - accuracy: 0.4101 - loss: 1.2753 - val_accuracy: 0.5019 - val_loss: 1.1581 - learning_rate: 1.0000e-04\n",
      "Epoch 6/200\n",
      "\u001B[1m471/471\u001B[0m \u001B[32m━━━━━━━━━━━━━━━━━━━━\u001B[0m\u001B[37m\u001B[0m \u001B[1m2s\u001B[0m 4ms/step - accuracy: 0.4433 - loss: 1.2173 - val_accuracy: 0.5322 - val_loss: 1.1041 - learning_rate: 1.0000e-04\n",
      "Epoch 7/200\n",
      "\u001B[1m471/471\u001B[0m \u001B[32m━━━━━━━━━━━━━━━━━━━━\u001B[0m\u001B[37m\u001B[0m \u001B[1m2s\u001B[0m 4ms/step - accuracy: 0.4665 - loss: 1.1614 - val_accuracy: 0.5396 - val_loss: 1.0619 - learning_rate: 1.0000e-04\n",
      "Epoch 8/200\n",
      "\u001B[1m471/471\u001B[0m \u001B[32m━━━━━━━━━━━━━━━━━━━━\u001B[0m\u001B[37m\u001B[0m \u001B[1m2s\u001B[0m 4ms/step - accuracy: 0.4967 - loss: 1.1237 - val_accuracy: 0.5752 - val_loss: 1.0016 - learning_rate: 1.0000e-04\n",
      "Epoch 9/200\n",
      "\u001B[1m471/471\u001B[0m \u001B[32m━━━━━━━━━━━━━━━━━━━━\u001B[0m\u001B[37m\u001B[0m \u001B[1m2s\u001B[0m 4ms/step - accuracy: 0.5486 - loss: 1.0489 - val_accuracy: 0.6178 - val_loss: 0.9186 - learning_rate: 1.0000e-04\n",
      "Epoch 10/200\n",
      "\u001B[1m471/471\u001B[0m \u001B[32m━━━━━━━━━━━━━━━━━━━━\u001B[0m\u001B[37m\u001B[0m \u001B[1m2s\u001B[0m 4ms/step - accuracy: 0.5917 - loss: 0.9822 - val_accuracy: 0.6465 - val_loss: 0.8653 - learning_rate: 1.0000e-04\n",
      "Epoch 11/200\n",
      "\u001B[1m471/471\u001B[0m \u001B[32m━━━━━━━━━━━━━━━━━━━━\u001B[0m\u001B[37m\u001B[0m \u001B[1m2s\u001B[0m 4ms/step - accuracy: 0.6263 - loss: 0.9164 - val_accuracy: 0.7129 - val_loss: 0.7760 - learning_rate: 1.0000e-04\n",
      "Epoch 12/200\n",
      "\u001B[1m471/471\u001B[0m \u001B[32m━━━━━━━━━━━━━━━━━━━━\u001B[0m\u001B[37m\u001B[0m \u001B[1m2s\u001B[0m 4ms/step - accuracy: 0.6713 - loss: 0.8387 - val_accuracy: 0.7464 - val_loss: 0.6813 - learning_rate: 1.0000e-04\n",
      "Epoch 13/200\n",
      "\u001B[1m471/471\u001B[0m \u001B[32m━━━━━━━━━━━━━━━━━━━━\u001B[0m\u001B[37m\u001B[0m \u001B[1m2s\u001B[0m 4ms/step - accuracy: 0.7002 - loss: 0.7605 - val_accuracy: 0.7772 - val_loss: 0.6155 - learning_rate: 1.0000e-04\n",
      "Epoch 14/200\n",
      "\u001B[1m471/471\u001B[0m \u001B[32m━━━━━━━━━━━━━━━━━━━━\u001B[0m\u001B[37m\u001B[0m \u001B[1m2s\u001B[0m 4ms/step - accuracy: 0.7595 - loss: 0.6630 - val_accuracy: 0.8118 - val_loss: 0.5286 - learning_rate: 1.0000e-04\n",
      "Epoch 15/200\n",
      "\u001B[1m471/471\u001B[0m \u001B[32m━━━━━━━━━━━━━━━━━━━━\u001B[0m\u001B[37m\u001B[0m \u001B[1m2s\u001B[0m 4ms/step - accuracy: 0.7676 - loss: 0.6234 - val_accuracy: 0.8256 - val_loss: 0.4998 - learning_rate: 1.0000e-04\n",
      "Epoch 16/200\n",
      "\u001B[1m471/471\u001B[0m \u001B[32m━━━━━━━━━━━━━━━━━━━━\u001B[0m\u001B[37m\u001B[0m \u001B[1m2s\u001B[0m 4ms/step - accuracy: 0.7946 - loss: 0.5626 - val_accuracy: 0.8495 - val_loss: 0.4510 - learning_rate: 1.0000e-04\n",
      "Epoch 17/200\n",
      "\u001B[1m471/471\u001B[0m \u001B[32m━━━━━━━━━━━━━━━━━━━━\u001B[0m\u001B[37m\u001B[0m \u001B[1m2s\u001B[0m 4ms/step - accuracy: 0.8110 - loss: 0.5117 - val_accuracy: 0.8554 - val_loss: 0.4147 - learning_rate: 1.0000e-04\n",
      "Epoch 18/200\n",
      "\u001B[1m471/471\u001B[0m \u001B[32m━━━━━━━━━━━━━━━━━━━━\u001B[0m\u001B[37m\u001B[0m \u001B[1m2s\u001B[0m 4ms/step - accuracy: 0.8273 - loss: 0.4573 - val_accuracy: 0.8634 - val_loss: 0.3875 - learning_rate: 1.0000e-04\n",
      "Epoch 19/200\n",
      "\u001B[1m471/471\u001B[0m \u001B[32m━━━━━━━━━━━━━━━━━━━━\u001B[0m\u001B[37m\u001B[0m \u001B[1m2s\u001B[0m 4ms/step - accuracy: 0.8406 - loss: 0.4365 - val_accuracy: 0.8698 - val_loss: 0.3762 - learning_rate: 1.0000e-04\n",
      "Epoch 20/200\n",
      "\u001B[1m471/471\u001B[0m \u001B[32m━━━━━━━━━━━━━━━━━━━━\u001B[0m\u001B[37m\u001B[0m \u001B[1m2s\u001B[0m 4ms/step - accuracy: 0.8572 - loss: 0.3850 - val_accuracy: 0.8735 - val_loss: 0.3632 - learning_rate: 1.0000e-04\n",
      "Epoch 21/200\n",
      "\u001B[1m471/471\u001B[0m \u001B[32m━━━━━━━━━━━━━━━━━━━━\u001B[0m\u001B[37m\u001B[0m \u001B[1m2s\u001B[0m 4ms/step - accuracy: 0.8770 - loss: 0.3464 - val_accuracy: 0.8751 - val_loss: 0.3551 - learning_rate: 1.0000e-04\n",
      "Epoch 22/200\n",
      "\u001B[1m471/471\u001B[0m \u001B[32m━━━━━━━━━━━━━━━━━━━━\u001B[0m\u001B[37m\u001B[0m \u001B[1m2s\u001B[0m 4ms/step - accuracy: 0.8846 - loss: 0.3332 - val_accuracy: 0.8852 - val_loss: 0.3378 - learning_rate: 1.0000e-04\n",
      "Epoch 23/200\n",
      "\u001B[1m471/471\u001B[0m \u001B[32m━━━━━━━━━━━━━━━━━━━━\u001B[0m\u001B[37m\u001B[0m \u001B[1m2s\u001B[0m 4ms/step - accuracy: 0.8912 - loss: 0.2929 - val_accuracy: 0.8926 - val_loss: 0.3177 - learning_rate: 1.0000e-04\n",
      "Epoch 24/200\n",
      "\u001B[1m471/471\u001B[0m \u001B[32m━━━━━━━━━━━━━━━━━━━━\u001B[0m\u001B[37m\u001B[0m \u001B[1m2s\u001B[0m 4ms/step - accuracy: 0.9014 - loss: 0.2747 - val_accuracy: 0.8953 - val_loss: 0.3049 - learning_rate: 1.0000e-04\n",
      "Epoch 25/200\n",
      "\u001B[1m471/471\u001B[0m \u001B[32m━━━━━━━━━━━━━━━━━━━━\u001B[0m\u001B[37m\u001B[0m \u001B[1m2s\u001B[0m 4ms/step - accuracy: 0.9070 - loss: 0.2629 - val_accuracy: 0.9027 - val_loss: 0.3158 - learning_rate: 1.0000e-04\n",
      "Epoch 26/200\n",
      "\u001B[1m471/471\u001B[0m \u001B[32m━━━━━━━━━━━━━━━━━━━━\u001B[0m\u001B[37m\u001B[0m \u001B[1m2s\u001B[0m 4ms/step - accuracy: 0.9123 - loss: 0.2528 - val_accuracy: 0.9038 - val_loss: 0.3135 - learning_rate: 1.0000e-04\n",
      "Epoch 27/200\n",
      "\u001B[1m471/471\u001B[0m \u001B[32m━━━━━━━━━━━━━━━━━━━━\u001B[0m\u001B[37m\u001B[0m \u001B[1m2s\u001B[0m 4ms/step - accuracy: 0.9218 - loss: 0.2203 - val_accuracy: 0.9080 - val_loss: 0.3064 - learning_rate: 1.0000e-04\n",
      "Epoch 28/200\n",
      "\u001B[1m471/471\u001B[0m \u001B[32m━━━━━━━━━━━━━━━━━━━━\u001B[0m\u001B[37m\u001B[0m \u001B[1m2s\u001B[0m 4ms/step - accuracy: 0.9298 - loss: 0.2164 - val_accuracy: 0.9075 - val_loss: 0.2913 - learning_rate: 1.0000e-04\n",
      "Epoch 29/200\n",
      "\u001B[1m471/471\u001B[0m \u001B[32m━━━━━━━━━━━━━━━━━━━━\u001B[0m\u001B[37m\u001B[0m \u001B[1m2s\u001B[0m 4ms/step - accuracy: 0.9343 - loss: 0.1906 - val_accuracy: 0.8985 - val_loss: 0.3298 - learning_rate: 1.0000e-04\n",
      "Epoch 30/200\n",
      "\u001B[1m471/471\u001B[0m \u001B[32m━━━━━━━━━━━━━━━━━━━━\u001B[0m\u001B[37m\u001B[0m \u001B[1m2s\u001B[0m 4ms/step - accuracy: 0.9441 - loss: 0.1694 - val_accuracy: 0.9075 - val_loss: 0.3239 - learning_rate: 1.0000e-04\n",
      "Epoch 31/200\n",
      "\u001B[1m471/471\u001B[0m \u001B[32m━━━━━━━━━━━━━━━━━━━━\u001B[0m\u001B[37m\u001B[0m \u001B[1m2s\u001B[0m 4ms/step - accuracy: 0.9419 - loss: 0.1746 - val_accuracy: 0.9192 - val_loss: 0.2946 - learning_rate: 1.0000e-04\n",
      "Epoch 32/200\n",
      "\u001B[1m471/471\u001B[0m \u001B[32m━━━━━━━━━━━━━━━━━━━━\u001B[0m\u001B[37m\u001B[0m \u001B[1m2s\u001B[0m 4ms/step - accuracy: 0.9463 - loss: 0.1561 - val_accuracy: 0.9112 - val_loss: 0.3102 - learning_rate: 1.0000e-04\n",
      "Epoch 33/200\n",
      "\u001B[1m471/471\u001B[0m \u001B[32m━━━━━━━━━━━━━━━━━━━━\u001B[0m\u001B[37m\u001B[0m \u001B[1m2s\u001B[0m 4ms/step - accuracy: 0.9530 - loss: 0.1414 - val_accuracy: 0.9032 - val_loss: 0.3816 - learning_rate: 1.0000e-04\n",
      "Epoch 34/200\n",
      "\u001B[1m471/471\u001B[0m \u001B[32m━━━━━━━━━━━━━━━━━━━━\u001B[0m\u001B[37m\u001B[0m \u001B[1m2s\u001B[0m 4ms/step - accuracy: 0.9585 - loss: 0.1319 - val_accuracy: 0.9160 - val_loss: 0.3244 - learning_rate: 1.0000e-05\n",
      "Epoch 35/200\n",
      "\u001B[1m471/471\u001B[0m \u001B[32m━━━━━━━━━━━━━━━━━━━━\u001B[0m\u001B[37m\u001B[0m \u001B[1m2s\u001B[0m 4ms/step - accuracy: 0.9618 - loss: 0.1159 - val_accuracy: 0.9229 - val_loss: 0.2968 - learning_rate: 1.0000e-05\n",
      "Epoch 36/200\n",
      "\u001B[1m471/471\u001B[0m \u001B[32m━━━━━━━━━━━━━━━━━━━━\u001B[0m\u001B[37m\u001B[0m \u001B[1m2s\u001B[0m 4ms/step - accuracy: 0.9619 - loss: 0.1222 - val_accuracy: 0.9266 - val_loss: 0.2909 - learning_rate: 1.0000e-05\n",
      "Epoch 37/200\n",
      "\u001B[1m471/471\u001B[0m \u001B[32m━━━━━━━━━━━━━━━━━━━━\u001B[0m\u001B[37m\u001B[0m \u001B[1m2s\u001B[0m 4ms/step - accuracy: 0.9608 - loss: 0.1180 - val_accuracy: 0.9277 - val_loss: 0.2867 - learning_rate: 1.0000e-05\n",
      "Epoch 38/200\n",
      "\u001B[1m471/471\u001B[0m \u001B[32m━━━━━━━━━━━━━━━━━━━━\u001B[0m\u001B[37m\u001B[0m \u001B[1m2s\u001B[0m 4ms/step - accuracy: 0.9700 - loss: 0.0979 - val_accuracy: 0.9261 - val_loss: 0.2941 - learning_rate: 1.0000e-05\n",
      "Epoch 39/200\n",
      "\u001B[1m471/471\u001B[0m \u001B[32m━━━━━━━━━━━━━━━━━━━━\u001B[0m\u001B[37m\u001B[0m \u001B[1m2s\u001B[0m 4ms/step - accuracy: 0.9655 - loss: 0.0981 - val_accuracy: 0.9288 - val_loss: 0.2864 - learning_rate: 1.0000e-05\n",
      "Epoch 40/200\n",
      "\u001B[1m471/471\u001B[0m \u001B[32m━━━━━━━━━━━━━━━━━━━━\u001B[0m\u001B[37m\u001B[0m \u001B[1m2s\u001B[0m 4ms/step - accuracy: 0.9686 - loss: 0.0951 - val_accuracy: 0.9288 - val_loss: 0.2981 - learning_rate: 1.0000e-05\n",
      "Epoch 41/200\n",
      "\u001B[1m471/471\u001B[0m \u001B[32m━━━━━━━━━━━━━━━━━━━━\u001B[0m\u001B[37m\u001B[0m \u001B[1m2s\u001B[0m 4ms/step - accuracy: 0.9644 - loss: 0.1074 - val_accuracy: 0.9293 - val_loss: 0.2848 - learning_rate: 1.0000e-05\n",
      "Epoch 42/200\n",
      "\u001B[1m471/471\u001B[0m \u001B[32m━━━━━━━━━━━━━━━━━━━━\u001B[0m\u001B[37m\u001B[0m \u001B[1m2s\u001B[0m 4ms/step - accuracy: 0.9633 - loss: 0.1072 - val_accuracy: 0.9282 - val_loss: 0.2977 - learning_rate: 1.0000e-05\n",
      "Epoch 43/200\n",
      "\u001B[1m471/471\u001B[0m \u001B[32m━━━━━━━━━━━━━━━━━━━━\u001B[0m\u001B[37m\u001B[0m \u001B[1m2s\u001B[0m 4ms/step - accuracy: 0.9663 - loss: 0.0937 - val_accuracy: 0.9266 - val_loss: 0.3036 - learning_rate: 1.0000e-05\n",
      "Epoch 44/200\n",
      "\u001B[1m471/471\u001B[0m \u001B[32m━━━━━━━━━━━━━━━━━━━━\u001B[0m\u001B[37m\u001B[0m \u001B[1m2s\u001B[0m 4ms/step - accuracy: 0.9698 - loss: 0.0874 - val_accuracy: 0.9309 - val_loss: 0.3002 - learning_rate: 1.0000e-05\n",
      "Epoch 45/200\n",
      "\u001B[1m471/471\u001B[0m \u001B[32m━━━━━━━━━━━━━━━━━━━━\u001B[0m\u001B[37m\u001B[0m \u001B[1m2s\u001B[0m 4ms/step - accuracy: 0.9708 - loss: 0.0822 - val_accuracy: 0.9314 - val_loss: 0.2985 - learning_rate: 1.0000e-05\n",
      "Epoch 46/200\n",
      "\u001B[1m471/471\u001B[0m \u001B[32m━━━━━━━━━━━━━━━━━━━━\u001B[0m\u001B[37m\u001B[0m \u001B[1m2s\u001B[0m 4ms/step - accuracy: 0.9685 - loss: 0.0967 - val_accuracy: 0.9304 - val_loss: 0.2988 - learning_rate: 1.0000e-05\n",
      "Epoch 47/200\n",
      "\u001B[1m471/471\u001B[0m \u001B[32m━━━━━━━━━━━━━━━━━━━━\u001B[0m\u001B[37m\u001B[0m \u001B[1m2s\u001B[0m 4ms/step - accuracy: 0.9729 - loss: 0.0893 - val_accuracy: 0.9309 - val_loss: 0.2985 - learning_rate: 1.0000e-06\n",
      "Epoch 48/200\n",
      "\u001B[1m471/471\u001B[0m \u001B[32m━━━━━━━━━━━━━━━━━━━━\u001B[0m\u001B[37m\u001B[0m \u001B[1m2s\u001B[0m 4ms/step - accuracy: 0.9723 - loss: 0.0901 - val_accuracy: 0.9304 - val_loss: 0.2997 - learning_rate: 1.0000e-06\n",
      "Epoch 49/200\n",
      "\u001B[1m471/471\u001B[0m \u001B[32m━━━━━━━━━━━━━━━━━━━━\u001B[0m\u001B[37m\u001B[0m \u001B[1m2s\u001B[0m 4ms/step - accuracy: 0.9717 - loss: 0.0975 - val_accuracy: 0.9309 - val_loss: 0.3015 - learning_rate: 1.0000e-06\n",
      "Epoch 50/200\n",
      "\u001B[1m471/471\u001B[0m \u001B[32m━━━━━━━━━━━━━━━━━━━━\u001B[0m\u001B[37m\u001B[0m \u001B[1m2s\u001B[0m 4ms/step - accuracy: 0.9724 - loss: 0.0891 - val_accuracy: 0.9309 - val_loss: 0.3023 - learning_rate: 1.0000e-06\n",
      "Epoch 51/200\n",
      "\u001B[1m471/471\u001B[0m \u001B[32m━━━━━━━━━━━━━━━━━━━━\u001B[0m\u001B[37m\u001B[0m \u001B[1m2s\u001B[0m 4ms/step - accuracy: 0.9739 - loss: 0.0805 - val_accuracy: 0.9309 - val_loss: 0.3024 - learning_rate: 1.0000e-06\n",
      "Epoch 52/200\n",
      "\u001B[1m471/471\u001B[0m \u001B[32m━━━━━━━━━━━━━━━━━━━━\u001B[0m\u001B[37m\u001B[0m \u001B[1m2s\u001B[0m 4ms/step - accuracy: 0.9758 - loss: 0.0789 - val_accuracy: 0.9309 - val_loss: 0.3023 - learning_rate: 1.0000e-07\n",
      "Epoch 53/200\n",
      "\u001B[1m471/471\u001B[0m \u001B[32m━━━━━━━━━━━━━━━━━━━━\u001B[0m\u001B[37m\u001B[0m \u001B[1m2s\u001B[0m 4ms/step - accuracy: 0.9729 - loss: 0.0867 - val_accuracy: 0.9309 - val_loss: 0.3023 - learning_rate: 1.0000e-07\n",
      "Epoch 54/200\n",
      "\u001B[1m471/471\u001B[0m \u001B[32m━━━━━━━━━━━━━━━━━━━━\u001B[0m\u001B[37m\u001B[0m \u001B[1m2s\u001B[0m 4ms/step - accuracy: 0.9729 - loss: 0.0844 - val_accuracy: 0.9304 - val_loss: 0.3023 - learning_rate: 1.0000e-07\n",
      "Epoch 55/200\n",
      "\u001B[1m471/471\u001B[0m \u001B[32m━━━━━━━━━━━━━━━━━━━━\u001B[0m\u001B[37m\u001B[0m \u001B[1m2s\u001B[0m 4ms/step - accuracy: 0.9678 - loss: 0.0947 - val_accuracy: 0.9304 - val_loss: 0.3022 - learning_rate: 1.0000e-07\n",
      "Epoch 56/200\n",
      "\u001B[1m471/471\u001B[0m \u001B[32m━━━━━━━━━━━━━━━━━━━━\u001B[0m\u001B[37m\u001B[0m \u001B[1m2s\u001B[0m 4ms/step - accuracy: 0.9716 - loss: 0.0962 - val_accuracy: 0.9304 - val_loss: 0.3024 - learning_rate: 1.0000e-07\n",
      "Epoch 57/200\n",
      "\u001B[1m471/471\u001B[0m \u001B[32m━━━━━━━━━━━━━━━━━━━━\u001B[0m\u001B[37m\u001B[0m \u001B[1m2s\u001B[0m 4ms/step - accuracy: 0.9747 - loss: 0.0821 - val_accuracy: 0.9304 - val_loss: 0.3024 - learning_rate: 1.0000e-08\n",
      "Epoch 58/200\n",
      "\u001B[1m471/471\u001B[0m \u001B[32m━━━━━━━━━━━━━━━━━━━━\u001B[0m\u001B[37m\u001B[0m \u001B[1m2s\u001B[0m 4ms/step - accuracy: 0.9707 - loss: 0.0880 - val_accuracy: 0.9304 - val_loss: 0.3024 - learning_rate: 1.0000e-08\n",
      "Epoch 59/200\n",
      "\u001B[1m471/471\u001B[0m \u001B[32m━━━━━━━━━━━━━━━━━━━━\u001B[0m\u001B[37m\u001B[0m \u001B[1m2s\u001B[0m 4ms/step - accuracy: 0.9710 - loss: 0.0905 - val_accuracy: 0.9304 - val_loss: 0.3024 - learning_rate: 1.0000e-08\n",
      "Epoch 60/200\n",
      "\u001B[1m471/471\u001B[0m \u001B[32m━━━━━━━━━━━━━━━━━━━━\u001B[0m\u001B[37m\u001B[0m \u001B[1m2s\u001B[0m 4ms/step - accuracy: 0.9707 - loss: 0.0875 - val_accuracy: 0.9304 - val_loss: 0.3024 - learning_rate: 1.0000e-08\n",
      "Epoch 61/200\n",
      "\u001B[1m471/471\u001B[0m \u001B[32m━━━━━━━━━━━━━━━━━━━━\u001B[0m\u001B[37m\u001B[0m \u001B[1m2s\u001B[0m 4ms/step - accuracy: 0.9753 - loss: 0.0814 - val_accuracy: 0.9304 - val_loss: 0.3023 - learning_rate: 1.0000e-08\n",
      "\u001B[1m74/74\u001B[0m \u001B[32m━━━━━━━━━━━━━━━━━━━━\u001B[0m\u001B[37m\u001B[0m \u001B[1m0s\u001B[0m 1ms/step  \n",
      "Accuracy: 0.9026360544217688\n",
      "F1 Score: 0.9049445865302643\n"
     ]
    }
   ],
   "execution_count": 13
  },
  {
   "metadata": {
    "ExecuteTime": {
     "end_time": "2024-11-29T00:31:34.071619Z",
     "start_time": "2024-11-29T00:31:34.069377Z"
    }
   },
   "cell_type": "code",
   "source": "predictions",
   "id": "8269766d6fdefc6a",
   "outputs": [
    {
     "data": {
      "text/plain": [
       "array([[8.3957217e-04, 9.9915457e-01, 3.5989186e-07, 5.4803659e-06],\n",
       "       [1.4907392e-03, 1.2964567e-09, 9.9850923e-01, 1.0635946e-12],\n",
       "       [1.6386169e-03, 9.9829960e-01, 2.0508267e-06, 5.9671020e-05],\n",
       "       ...,\n",
       "       [2.3300707e-04, 4.1905928e-06, 1.0196604e-07, 9.9976265e-01],\n",
       "       [2.4783953e-05, 9.9997526e-01, 4.7292609e-10, 4.9134012e-08],\n",
       "       [5.3734247e-02, 6.1301886e-05, 9.4620001e-01, 4.3867944e-06]],\n",
       "      dtype=float32)"
      ]
     },
     "execution_count": 14,
     "metadata": {},
     "output_type": "execute_result"
    }
   ],
   "execution_count": 14
  },
  {
   "metadata": {
    "ExecuteTime": {
     "end_time": "2024-11-29T00:31:34.110881Z",
     "start_time": "2024-11-29T00:31:34.108611Z"
    }
   },
   "cell_type": "code",
   "source": "predicted_labels",
   "id": "bf270075e0ab3f6e",
   "outputs": [
    {
     "data": {
      "text/plain": [
       "array([[0, 1, 0, 0],\n",
       "       [0, 0, 1, 0],\n",
       "       [0, 1, 0, 0],\n",
       "       ...,\n",
       "       [0, 0, 0, 1],\n",
       "       [0, 1, 0, 0],\n",
       "       [0, 0, 1, 0]])"
      ]
     },
     "execution_count": 15,
     "metadata": {},
     "output_type": "execute_result"
    }
   ],
   "execution_count": 15
  },
  {
   "metadata": {
    "ExecuteTime": {
     "end_time": "2024-11-29T00:31:34.147608Z",
     "start_time": "2024-11-29T00:31:34.145316Z"
    }
   },
   "cell_type": "code",
   "source": "y_test",
   "id": "2d175d826816155e",
   "outputs": [
    {
     "data": {
      "text/plain": [
       "array([[0, 1, 0, 0],\n",
       "       [0, 0, 1, 0],\n",
       "       [0, 1, 0, 0],\n",
       "       ...,\n",
       "       [0, 0, 0, 1],\n",
       "       [0, 1, 0, 0],\n",
       "       [0, 0, 1, 0]])"
      ]
     },
     "execution_count": 16,
     "metadata": {},
     "output_type": "execute_result"
    }
   ],
   "execution_count": 16
  },
  {
   "metadata": {
    "ExecuteTime": {
     "end_time": "2024-11-29T00:31:34.203130Z",
     "start_time": "2024-11-29T00:31:34.201814Z"
    }
   },
   "cell_type": "code",
   "source": "",
   "id": "9ae4ef2ac5c8dd7b",
   "outputs": [],
   "execution_count": null
  }
 ],
 "metadata": {
  "kernelspec": {
   "name": "python3",
   "language": "python",
   "display_name": "Python 3 (ipykernel)"
  }
 },
 "nbformat": 5,
 "nbformat_minor": 9
}
