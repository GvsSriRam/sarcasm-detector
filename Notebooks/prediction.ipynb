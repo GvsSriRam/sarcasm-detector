{
 "cells": [
  {
   "metadata": {},
   "cell_type": "markdown",
   "source": [
    "image_path = '../Data/goat-bench/sarcasm/sarcasm/images/682762265041321989.jpg'\n",
    "\n",
    "image_path = '../Data/goat-bench/sarcasm/sarcasm/images/682931696845611008.jpg'\n",
    "\n",
    "image_path = '..//Data/goat-bench/offensiveness/offensiveness/images/0SvkQMd.png'\n",
    "\n",
    "image_path = '..//Data/goat-bench/misogyny/misogyny/images/15018.jpg'\n",
    "\n",
    "image_path = '..//Data/goat-bench/harmfulness/harmfulness/images/covid_memes_5.png'"
   ],
   "id": "5da270f49fbd7c29"
  },
  {
   "metadata": {
    "ExecuteTime": {
     "end_time": "2024-12-05T20:08:40.813677Z",
     "start_time": "2024-12-05T20:08:40.702009Z"
    }
   },
   "cell_type": "code",
   "source": [
    "import cv2\n",
    "import pytesseract\n",
    "import re\n",
    "import numpy as np\n",
    "\n",
    "def preprocess_image(image_path):\n",
    "    \"\"\"Preprocess the image to improve OCR accuracy.\"\"\"\n",
    "    # Load image\n",
    "    image = cv2.imread(image_path)\n",
    "\n",
    "    # Convert to grayscale\n",
    "    gray = cv2.cvtColor(image, cv2.COLOR_BGR2GRAY)\n",
    "\n",
    "    # Apply Gaussian blur to reduce noise\n",
    "    blurred = cv2.GaussianBlur(gray, (5, 5), 0)\n",
    "\n",
    "    # Apply thresholding to binarize the image\n",
    "    _, binary = cv2.threshold(blurred, 0, 255, cv2.THRESH_BINARY + cv2.THRESH_OTSU)\n",
    "\n",
    "    return binary\n",
    "\n",
    "def extract_text(image_path):\n",
    "    \"\"\"Extract text from a meme image.\"\"\"\n",
    "    # Preprocess the image\n",
    "    processed_image = preprocess_image(image_path)\n",
    "\n",
    "    # OCR: Convert image to text\n",
    "    text = pytesseract.image_to_string(processed_image, lang='eng')\n",
    "\n",
    "    return text\n",
    "\n",
    "def main():\n",
    "    # Path to your meme image\n",
    "    image_path = '..//Data/goat-bench/harmfulness/harmfulness/images/covid_memes_1091.png'\n",
    "\n",
    "    # Extract text from the meme\n",
    "    extracted_text = extract_text(image_path)\n",
    "    print(\"Extracted Text:\")\n",
    "    print(extracted_text)\n",
    "\n",
    "main()"
   ],
   "id": "6bfe22c096f1786",
   "outputs": [
    {
     "name": "stdout",
     "output_type": "stream",
     "text": [
      "Extracted Text:\n",
      "AEA CAC\n",
      "\n",
      "\n"
     ]
    }
   ],
   "execution_count": 29
  },
  {
   "metadata": {},
   "cell_type": "code",
   "outputs": [],
   "execution_count": null,
   "source": "",
   "id": "ae432481eeac2e41"
  }
 ],
 "metadata": {
  "kernelspec": {
   "name": "python3",
   "language": "python",
   "display_name": "Python 3 (ipykernel)"
  }
 },
 "nbformat": 5,
 "nbformat_minor": 9
}
